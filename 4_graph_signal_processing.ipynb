{
 "cells": [
  {
   "cell_type": "markdown",
   "metadata": {},
   "source": [
    "# [NTDS'18] milestone 4: graph signal processing\n",
    "[ntds'18]: https://github.com/mdeff/ntds_2018\n",
    "\n",
    "[Rodrigo Pena](https://people.epfl.ch/254838), [EPFL LTS2](http://lts2.epfl.ch)"
   ]
  },
  {
   "cell_type": "markdown",
   "metadata": {},
   "source": [
    "## Students\n",
    "\n",
    "* Team: `4`\n",
    "* Students: `Julien Berger, Jérémy Jayet, Hana Samet, Mathieu Shiva`\n",
    "* Dataset: `IMDb Films and Crew`"
   ]
  },
  {
   "cell_type": "markdown",
   "metadata": {},
   "source": [
    "## Rules\n",
    "\n",
    "* Milestones have to be completed by teams. No collaboration between teams is allowed.\n",
    "* Textual answers shall be short. Typically one to two sentences.\n",
    "* Code has to be clean.\n",
    "* You cannot import any other library than we imported.\n",
    "* When submitting, the notebook is executed and the results are stored. I.e., if you open the notebook again it should show numerical results and plots. We won't be able to execute your notebooks.\n",
    "* The notebook is re-executed from a blank state before submission. That is to be sure it is reproducible. You can click \"Kernel\" then \"Restart & Run All\" in Jupyter."
   ]
  },
  {
   "cell_type": "markdown",
   "metadata": {},
   "source": [
    "## Objective\n",
    "\n",
    "The goal of this milestone is to do some Graph Signal Processing (GSP) on the data of your project.\n",
    "\n",
    "### A note about plotting\n",
    "\n",
    "There are several questions in this milestone that ask you to plot a signal on your network.\n",
    "There are several ways from which you could approach it.\n",
    "In all cases, compute the position of the nodes a single time at the beginning, as this is likely to be a costly operation.\n",
    "Using a single layout for all the graph plots will also make it easier to compare the plots.\n",
    "Indeed, the only thing changing between plots is the signal displayed.\n",
    "You can represent the features/labels lying on the graph via node **colors**.\n",
    "To do so, make sure to have a consistent color map throughout and remember to display a colorbar and scale in all plots, so that we can tell what numbers the colors represent.\n",
    "\n",
    "* An option is to use the **Laplacian eigenmaps** that you have seen in the previous milestone to embed your graph on the plane. For example:\n",
    "  ```\n",
    "  from matplotlib import pyplot as plt\n",
    "  plt.scatter(eigenvectors[:, 1], eigenvectors[:, 2], c=signal, alpha=0.5)\n",
    "  plt.colorbar()\n",
    "  ```\n",
    "* Another option is to use the plotting capabilities of **[NetworkX](https://networkx.github.io)**.\n",
    "  See the documentation of its [drawing methods](https://networkx.github.io/documentation/stable/reference/drawing.html).\n",
    "  For example:\n",
    "  ```\n",
    "  import networkx as nx\n",
    "  graph = nx.from_scipy_sparse_matrix(adjacency)\n",
    "  coords = nx.spring_layout(graph)  # Force-directed layout.\n",
    "  coords = eigenvectors[:, 1:3]  # Laplacian eigenmaps.\n",
    "  nx.draw_networkx_nodes(graph, coords, node_size=60, node_color=signal)\n",
    "  nx.draw_networkx_edges(graph, coords, alpha=0.3)\n",
    "  ```\n",
    "* Another option is to use the plotting capabilities of the **[PyGSP](https://github.com/epfl-lts2/pygsp)**, a Python package for Graph Signal Processing.\n",
    "  **Note that your are forbidden to use the PyGSP for anything else than plotting.**\n",
    "  See the documentation of its [plotting utilities](https://pygsp.readthedocs.io/en/stable/reference/plotting.html).\n",
    "  For example:\n",
    "  ```\n",
    "  import pygsp as pg\n",
    "  graph = pg.graphs.Graph(adjacency)\n",
    "  graph.set_coordinates('spring')  # Force-directed layout.\n",
    "  graph.set_coordinates(eigenvectors[:, 1:3])  # Laplacian eigenmaps.\n",
    "  graph.plot_signal(signal)\n",
    "  ```\n",
    "* Yet another option is to save your graph on disk, use **[Gephi](https://gephi.org)** externally, to visualize the graph, save the graph with the Gephi coordinates and finally load the nodes coordinates back into the notebook.\n",
    "\n",
    "We encourage you to try all the above methods before making your choice. Then be consistent and use only one throughout the milestone.\n",
    "NetworkX and PyGSP should already be installed in your environement. If that's not the case, install with `conda install networkx pygsp` (after activating the `ntds_2018` environment)."
   ]
  },
  {
   "cell_type": "markdown",
   "metadata": {},
   "source": [
    "## 0 - Load your network"
   ]
  },
  {
   "cell_type": "code",
   "execution_count": 1,
   "metadata": {},
   "outputs": [],
   "source": [
    "%matplotlib inline"
   ]
  },
  {
   "cell_type": "markdown",
   "metadata": {},
   "source": [
    "If you get a `No module named 'pyunlocbox'` error when running the below cell, install the [pyunlocbox](https://github.com/epfl-lts2/pyunlocbox) with `conda install pyunlocbox` (after activating the `ntds_2018` environment)."
   ]
  },
  {
   "cell_type": "code",
   "execution_count": 2,
   "metadata": {},
   "outputs": [],
   "source": [
    "import numpy as np\n",
    "import pandas as pd\n",
    "from scipy import sparse\n",
    "import scipy.sparse.linalg\n",
    "from matplotlib import pyplot as plt\n",
    "from pyunlocbox import functions, solvers\n",
    "import pygsp as pg\n",
    "import networkx as nx"
   ]
  },
  {
   "cell_type": "markdown",
   "metadata": {},
   "source": [
    "For this milestone, all we will need is a set of features/labels for each of the nodes on the network, as well as the Laplacian, $L,$ and Gradient, $\\nabla_G,$ matrices that you have computed for your network while working on milestone 3.\n",
    "\n",
    "Import those objects in the cell below (or recompute the Laplacian and Gradient from your stored adjacency matrix, if you wish).\n",
    "\n",
    "_Note_: If your features/labels are not floating-point numbers, please convert them. For example, if your data has labels \"cat\" and \"dog\" for nodes that represent cats or dogs, respectively, you may assign the number `1.0` for the label \"cat\" and the number `-1.0` for the label \"dog\".  "
   ]
  },
  {
   "cell_type": "markdown",
   "metadata": {},
   "source": [
    "**Note:** Our giant component englobes ~96 % of all the nodes and nearly all of the remaining nodes are stand-alone nodes that are not connected to anything. Therefore, for the sake of simplicity, we will only use the adjacency matrix of our giant component for this milestone."
   ]
  },
  {
   "cell_type": "code",
   "execution_count": 3,
   "metadata": {},
   "outputs": [],
   "source": [
    "tot_adjacency = np.load('./data/adjacency.npy')\n",
    "# We make the matrix more sparse by removing the link between two people if they worked only on 1 movie together\n",
    "tot_adjacency[tot_adjacency <2]=0 \n",
    "tot_n_nodes=tot_adjacency.shape[0]\n",
    "\n",
    "# We get the adjacency matrix of the giant component.\n",
    "import src.find_components as fcomp\n",
    "connectedIndices = fcomp.find_components(tot_adjacency)\n",
    "#biggestComponentSize = np.amax(np.sum(connectedIndices, axis=1))\n",
    "\n",
    "indx=np.array(range(tot_n_nodes),dtype=int)\n",
    "indx=connectedIndices[0].astype(int)*indx\n",
    "indx_without_zeros=np.unique(indx)\n",
    "adjacency = tot_adjacency[indx_without_zeros,:][:,indx_without_zeros]\n",
    "\n",
    "#We calculate the number of nodes   \n",
    "n_nodes=adjacency.shape[0]\n",
    "\n",
    "#We assign the labels\n",
    "people = pd.read_csv('data/features_v3.csv')\n",
    "people.fillna(0)\n",
    "labels = people.iloc[indx_without_zeros,4]\n",
    "\n",
    "#We calculate the normalized laplacian\n",
    "degree = np.diag(np.sum(adjacency, axis=0))\n",
    "invroot_degree = np.diag(np.power(np.sum(adjacency, axis=0),-0.5))\n",
    "\n",
    "laplacian_comb = degree - adjacency #combinatorial laplacian\n",
    "\n",
    "# Matrix mupltiplication as A*B seems to lose precision and rounds very small numbers to zero, giving a false normalized\n",
    "# Laplacian. Therefore we use np.matmul and store the intermidiate result in vairable A:\n",
    "A = np.matmul(invroot_degree,laplacian_comb)\n",
    "laplacian = np.matmul(A,invroot_degree) #normalized laplacian\n",
    "\n",
    "#Get the gradient\n",
    "n_edges = int(np.count_nonzero(adjacency)/2)\n",
    "t=0\n",
    "# Creating a list containing the nodes of each edge\n",
    "edges=np.zeros((n_edges,2))\n",
    "for i in range(n_nodes):\n",
    "    for j in range(n_nodes-i):\n",
    "        if adjacency[i,j+i]:\n",
    "            edges[t,:] = [i,j]\n",
    "            t=t+1\n",
    "            \n",
    "S = np.zeros((n_nodes,n_edges))\n",
    "for i in range(n_edges):\n",
    "    S[int(edges[i,0]),i]=1\n",
    "    S[int(edges[i,1]),i]=1\n",
    "    \n",
    "gradient = np.transpose(S) # the transpose of the incidence matrix"
   ]
  },
  {
   "cell_type": "markdown",
   "metadata": {},
   "source": [
    "## 1 - Graph Fourier Transform\n",
    "\n",
    "In this section we will observe how your feature/label vector looks like in the \"Graph Fourier\" domain."
   ]
  },
  {
   "cell_type": "markdown",
   "metadata": {
    "inputHidden": false,
    "outputHidden": false
   },
   "source": [
    "### Question 1\n",
    "\n",
    "Compute the Fourier basis vectors and the Laplacian eigenvalues. Make sure to order those from smaller to larger, $\\lambda_0 \\leq \\lambda_1 \\leq \\dots \\leq \\lambda_{N-1},$ and use the same ordering for the Fourier basis vectors."
   ]
  },
  {
   "cell_type": "code",
   "execution_count": null,
   "metadata": {
    "inputHidden": false,
    "outputHidden": false
   },
   "outputs": [],
   "source": [
    "e = # Ordered Laplacian eigenvalues.\n",
    "U = # Ordered graph Fourier basis."
   ]
  },
  {
   "cell_type": "markdown",
   "metadata": {},
   "source": [
    "Plot the first 3 and the last Fourier basis vectors as signals on your graph. Clearly indicate which plot belongs to which basis vector."
   ]
  },
  {
   "cell_type": "markdown",
   "metadata": {},
   "source": [
    "### Question 2\n",
    "\n",
    "What can you observe in terms of local variations when comparing the basis vectors corresponding to the smallest eigenvalues to those corresponding to the largest eigenvalue? How would this justify the interpretation of the eigenvalues as \"graph frequencies\"?"
   ]
  },
  {
   "cell_type": "markdown",
   "metadata": {},
   "source": [
    "**Your answer here.**"
   ]
  },
  {
   "cell_type": "markdown",
   "metadata": {},
   "source": [
    "### Question 3\n",
    "\n",
    "Implement a function that returns the Graph Fourier Transform (GFT) of a given vector $x \\in \\mathbb{R}^{N},$ with respect to your graph, and a function that computes the corresponding inverse GFT (iGFT)."
   ]
  },
  {
   "cell_type": "code",
   "execution_count": null,
   "metadata": {
    "inputHidden": false,
    "outputHidden": false
   },
   "outputs": [],
   "source": [
    "def GFT(x):\n",
    "    return # Your code here.\n",
    "\n",
    "def iGFT(x):\n",
    "    return # Your code here."
   ]
  },
  {
   "cell_type": "markdown",
   "metadata": {},
   "source": [
    "### Question 4\n",
    "\n",
    "Plot your feature/label vector as a signal on your graph"
   ]
  },
  {
   "cell_type": "code",
   "execution_count": null,
   "metadata": {
    "inputHidden": false,
    "outputHidden": false
   },
   "outputs": [],
   "source": [
    "# Your code here."
   ]
  },
  {
   "cell_type": "markdown",
   "metadata": {},
   "source": [
    "Plot the absolute values of the GFT of your feature/label signal as a function of the graph eigenvalues. Make sure to add a marker indicating the position of each graph eigenvalue, and remember to properly name the axes."
   ]
  },
  {
   "cell_type": "code",
   "execution_count": null,
   "metadata": {
    "inputHidden": false,
    "outputHidden": false
   },
   "outputs": [],
   "source": [
    "# Your code here."
   ]
  },
  {
   "cell_type": "markdown",
   "metadata": {},
   "source": [
    "### Question 5\n",
    "\n",
    "Discuss the behavior of the GFT that you plotted in the last question via comparing the plot of your label signal and those of the Fourier basis of Question 1. Would you consider your labels a \"low-pass\" or \"high-pass\" signal, or yet something else entirely?"
   ]
  },
  {
   "cell_type": "markdown",
   "metadata": {},
   "source": [
    "**Your answer here.**"
   ]
  },
  {
   "cell_type": "markdown",
   "metadata": {
    "code_folding": []
   },
   "source": [
    "## 2 - Filtering on graphs\n",
    "\n",
    "In this section we will check how filtered Dirac impulses diffuse on your graph."
   ]
  },
  {
   "cell_type": "markdown",
   "metadata": {
    "inputHidden": false,
    "outputHidden": false
   },
   "source": [
    "### Question 6 \n",
    "\n",
    "Implement the following three filter kernels and the graph filtering operation.\n",
    "\n",
    "- The **heat kernel** is supposed to take in a vector of eigenvalues `e` and a parameter `t` and output a vector of evaluations of the heat kernel at those eigenvalues (see the course slides for help).\n",
    "- The **inverse filter** kernel is supposed to take in a vector of eigenvalues `e` and a parameter `t` and implement spectrally the  filter defined in the node domain by $f_{out}  = (I + t L)^{-1} f_{in},$ where $f_{in}, f_{out} \\in \\mathbb{R}^{N}$ are, repectively, the input and output signals to the filter.\n",
    "- The **rectangle kernel** takes in a vector of eigenvalues `e` and parameters `l_min` and `l_max` and returns `1.0` at coordinates satisfying $(e[l] \\geq l_{min}) \\wedge (e[l] \\leq l_{max}),$ and `0.0` otherwise.\n",
    "- The **graph filtering** operation takes a graph signal $x \\in \\mathbb{R}^{N}$, a spectral graph `kernel` and a set of keyworded variables, and returns the corresponding filtered signal.\n",
    "    - _Hint:_ Remember that you have implemented the `GFT` and `iGFT` operations in Question 3.\n",
    "    - The `**kwargs` is a placeholder to collect supplementary pairs of keyword-values that are not known by the implementation before execution time.\n",
    "      The `kwargs` variable is a dictionary whose keyes and values are the parameter names and values.\n",
    "      This is useful to allow both `graph_filter(x, heat_kernel, tau=1.0)` and `graph_filter(x, rectangle_kernel, lambda_min=0.0, lambda_max=1.0)` to be valid calls from the same implementation.\n",
    "      One can then defer the keyword-value assignment to the `kernel` call: `foo = kernel(bar, **kwargs)`."
   ]
  },
  {
   "cell_type": "code",
   "execution_count": null,
   "metadata": {
    "inputHidden": false,
    "outputHidden": false
   },
   "outputs": [],
   "source": [
    "def heat_kernel(e, t):\n",
    "    return # Your code here.\n",
    "\n",
    "def inverse_kernel(e, t):\n",
    "    return # Your code here.\n",
    "\n",
    "def rectangle_kernel(e, l_min, l_max):\n",
    "    return # Your code here.\n",
    "\n",
    "def graph_filter(x, kernel, **kwargs):\n",
    "    #allows to use different input variables.\n",
    "    return # Your code here."
   ]
  },
  {
   "cell_type": "markdown",
   "metadata": {},
   "source": [
    "### Question 7\n",
    "\n",
    "Plot all three filter kernels in the spectral domain. Remember to properly name the axes and title the plots. Choose filter parameters that best approximate the behavior of the GFT of your feature/label signal (as seen in Question 4)."
   ]
  },
  {
   "cell_type": "code",
   "execution_count": null,
   "metadata": {
    "inputHidden": false,
    "outputHidden": false
   },
   "outputs": [],
   "source": [
    "# Your code here."
   ]
  },
  {
   "cell_type": "markdown",
   "metadata": {},
   "source": [
    "### Question 8\n",
    "\n",
    "Consider two Dirac impulses arbitrarily placed on your graph. Plot their filtered versions by the three filter kernels implemented in Question 6."
   ]
  },
  {
   "cell_type": "code",
   "execution_count": null,
   "metadata": {
    "inputHidden": false,
    "outputHidden": false
   },
   "outputs": [],
   "source": [
    "# Your code here."
   ]
  },
  {
   "cell_type": "markdown",
   "metadata": {},
   "source": [
    "Comment on the \"diffusion\" of the Diracs induced by the filters. What does it say about the \"communication\" of information across your network? Relate that to the network connectivity measures that you analyzed during the previous milestones."
   ]
  },
  {
   "cell_type": "markdown",
   "metadata": {
    "inputHidden": false,
    "outputHidden": false
   },
   "source": [
    "**Your answer here.**"
   ]
  },
  {
   "cell_type": "markdown",
   "metadata": {},
   "source": [
    "## 3 - De-noising\n",
    "\n",
    "In this section we will add some centered Gaussian noise to your feature/label signal and attempt to recover it."
   ]
  },
  {
   "cell_type": "markdown",
   "metadata": {},
   "source": [
    "### Question 9\n",
    "\n",
    "In the cell below, set the noise variance $\\sigma^2$ by making sure that the signal-to-noise ratio $SNR = \\frac{\\operatorname{Var}(\\text{labels})}{\\sigma^2}$ is about  $1.5$.\n",
    "\n",
    "_Note:_ Actually, you might want to play with the noise variance here and set it to different values and see how the denoising filters behave."
   ]
  },
  {
   "cell_type": "code",
   "execution_count": null,
   "metadata": {
    "inputHidden": false,
    "outputHidden": false
   },
   "outputs": [],
   "source": [
    "noise_variance = # Your code here.\n",
    "noisy_measurements = labels + noise_variance * np.random.randn(n_nodes)"
   ]
  },
  {
   "cell_type": "markdown",
   "metadata": {},
   "source": [
    "### Question 10\n",
    "\n",
    "In the denoising setting, a common graph signal processing assumption is that the signal $z$ that we want to recover is \"smooth\", in the sense that $\\|\\nabla_G z\\|_2 = \\sqrt{z^{\\top} L z}$ is small, while remaining \"close\" to the measurements that we start with. This leads to denoising by solving the following optimization problem:\n",
    "\n",
    "$$\n",
    "z^\\star = \\text{arg} \\, \\underset{z \\in \\mathbb{R}^{N}}{\\min} \\, \\|z - y\\|_2^2 + \\gamma z^{\\top} L z, \n",
    "$$\n",
    "\n",
    "where $y \\in \\mathbb{R}^{N}$ is the vector of noisy measurements.\n",
    "\n",
    "Derive the close form solution to this problem giving $z^\\star$ as a function of $y$, $\\gamma$ and $L$. Does this solution correspond to any graph filtering operation that you know?"
   ]
  },
  {
   "cell_type": "markdown",
   "metadata": {},
   "source": [
    "**Your answer here.**"
   ]
  },
  {
   "cell_type": "markdown",
   "metadata": {},
   "source": [
    "### Question 11\n",
    "\n",
    "Now, denoise the noisy measurements by passing them through the filters that you implemented in Question 6. Choose the filter parameters based on the behavior of the GFT of your original label signal (this is the prior knowledge that you input to the problem)."
   ]
  },
  {
   "cell_type": "code",
   "execution_count": null,
   "metadata": {
    "inputHidden": false,
    "outputHidden": false
   },
   "outputs": [],
   "source": [
    "z_heat_denoised = # Your code here.\n",
    "z_inv_denoised = # Your code here.\n",
    "z_rect_denoised = # Your code here."
   ]
  },
  {
   "cell_type": "markdown",
   "metadata": {},
   "source": [
    "Plot, on your graph, the original label signal, the noisy measurements, and the three denoised version obtained above. Report on each plot the value of the corresponding relative error \n",
    "$$\n",
    "\\text{rel-err} = \\frac{\\|\\text{labels} - z \\|_2}{\\|\\text{labels}\\|_2},\n",
    "$$\n",
    "where $z$ is the plotted signal."
   ]
  },
  {
   "cell_type": "code",
   "execution_count": null,
   "metadata": {
    "inputHidden": false,
    "outputHidden": false
   },
   "outputs": [],
   "source": [
    "# Your code here."
   ]
  },
  {
   "cell_type": "markdown",
   "metadata": {},
   "source": [
    "Finally, overlay on the same plot the GFT of all five signals above."
   ]
  },
  {
   "cell_type": "code",
   "execution_count": null,
   "metadata": {
    "inputHidden": false,
    "outputHidden": false
   },
   "outputs": [],
   "source": [
    "# Your code here."
   ]
  },
  {
   "cell_type": "markdown",
   "metadata": {},
   "source": [
    "### Question 12\n",
    "\n",
    "Comment on which denoised version seems to best match the original label signal. What is the underlying assumption behind the three filtering approaches? Do you think it holds for your label signal? Why?"
   ]
  },
  {
   "cell_type": "markdown",
   "metadata": {},
   "source": [
    "**Your answer here.**"
   ]
  },
  {
   "cell_type": "markdown",
   "metadata": {
    "ExecuteTime": {
     "end_time": "2018-08-31T13:05:59.301384Z",
     "start_time": "2018-08-31T13:05:59.297336Z"
    }
   },
   "source": [
    "## 4 - Transductive learning\n",
    "\n",
    "It is often the case in large networks that we can only afford to query properties/labels on a small subset of nodes. Nonetheless, if the underlying labels signal is \"regular\" enough, we might still be able to recover a good approximation of it by solving an offline variational problem, with constraints on the values of the measured nodes. \n",
    "\n",
    "In this section, we will be interested in solving such transductive learning problems by minimizing a (semi-) p-norm of the graph gradient applied to the signal of interest:\n",
    "\n",
    "$$\n",
    "\\text{arg} \\, \\underset{z|_S = y}{\\min} \\|\\nabla_G z\\|_p^p,\n",
    "$$\n",
    "\n",
    "where $S$ is the set of measured nodes.\n",
    "\n",
    "In English, we can say that we are looking for solutions with small \"aggregated local variations\", as measured by $\\|\\nabla_G z\\|_p^p = \\sum_{i=1}^{n} \\sum_{j=1}^{n} \\left( \\sqrt{W_{ij}} |z[i] - z[j]| \\right)^p,$ while satisfying the measurement constraints $z[i] = y[i]$ for $i \\in S.$\n",
    "\n",
    "We will work with two cases, according to the choices $p=1$ or $p=2.$ For $p=1,$ the problem is known as \"interpolation by graph total-variation minimization,\" whereas for $p=2$ it is sometimes called \"interpolation by Tikhonov regularization\".\n",
    "\n",
    "In order to solve these variational problems with the black-box solver provided to you, you will use the [pyunlocbox](https://pyunlocbox.readthedocs.io). This toolbox implements iterative solvers based on so-called [\"proximal-splitting\"](https://en.wikipedia.org/wiki/Proximal_gradient_method) methods."
   ]
  },
  {
   "cell_type": "markdown",
   "metadata": {},
   "source": [
    "### Question 13\n",
    "\n",
    "Throughout this section, we will consider only a binarized version of your label signal. If your variable `labels` currently has values other than $\\{-1, 1\\},$ threshold them so that those are the only values taken in this vector. This can be done for example by choosing a number $t \\in \\mathbb{R}$ and then setting $\\text{labels_bin}[i] = 1$ if $\\text{labels}[i] \\geq t$ and $\\text{labels_bin}[i] = -1$ otherwise."
   ]
  },
  {
   "cell_type": "code",
   "execution_count": 4,
   "metadata": {
    "inputHidden": false,
    "outputHidden": false
   },
   "outputs": [],
   "source": [
    "#threshold that separates the labels in two groups that have almost the same size\n",
    "threshold=5\n",
    "\n",
    "labels_bin = np.copy(labels)\n",
    "labels_bin[labels_bin<threshold]=-1\n",
    "labels_bin[labels_bin>=threshold]=1\n"
   ]
  },
  {
   "cell_type": "markdown",
   "metadata": {},
   "source": [
    "Now, subsample this binarized label signal by $70\\%$ by choosing, uniformly at random, $30\\%$ of the nodes whose labels we will keep.\n",
    "\n",
    "You will do this by computing a \"measurement mask\" vector `w` with `1.0`'s at the measured coordinates, and $0.0$'s otherwise."
   ]
  },
  {
   "cell_type": "code",
   "execution_count": 5,
   "metadata": {
    "inputHidden": false,
    "outputHidden": false
   },
   "outputs": [],
   "source": [
    "mn_ratio = 0.3\n",
    "m = int(mn_ratio * n_nodes)  # Number of measurements.\n",
    "\n",
    "n_nodes=labels.size\n",
    "#creation of the mask\n",
    "w=np.zeros([n_nodes])\n",
    "for i in range(m):\n",
    "    indx=np.random.randint(n_nodes, size=1)\n",
    "    while(w[indx]==1):\n",
    "        indx=np.random.randint(n_nodes, size=1)\n",
    "    w[indx]=1"
   ]
  },
  {
   "cell_type": "markdown",
   "metadata": {},
   "source": [
    "Plot the subsampled signal on the graph. _Hint:_ you might want to set to `numpy.nan` the values of the un-measured nodes for a cleaner plot."
   ]
  },
  {
   "cell_type": "code",
   "execution_count": 6,
   "metadata": {
    "inputHidden": false,
    "outputHidden": false
   },
   "outputs": [
    {
     "data": {
      "text/plain": [
       "[<matplotlib.lines.Line2D at 0x1df89722048>]"
      ]
     },
     "execution_count": 6,
     "metadata": {},
     "output_type": "execute_result"
    },
    {
     "data": {
      "image/png": "[encoded data removed]",
      "text/plain": [
       "<Figure size 432x288 with 1 Axes>"
      ]
     },
     "metadata": {},
     "output_type": "display_data"
    }
   ],
   "source": [
    "masked_labels=np.copy(labels_bin)\n",
    "masked_labels=masked_labels*w\n",
    "masked_labels[masked_labels==0]=np.nan\n",
    "\n",
    "\n",
    "#PLOT ON THE GRAPH OF PART 1\n",
    "plt.plot(masked_labels)"
   ]
  },
  {
   "cell_type": "markdown",
   "metadata": {},
   "source": [
    "### Interlude\n",
    "\n",
    "For the solution of the variational problems you can use the following function as a \"black-box\". \n",
    "\n",
    "You will just need to provide a `gradient` matrix (which you should already have from Section 0), and an orthogonal projection operator `P` onto the span of the measured coordinates (made precise in the next question)."
   ]
  },
  {
   "cell_type": "code",
   "execution_count": 7,
   "metadata": {},
   "outputs": [],
   "source": [
    "def graph_pnorm_interpolation(gradient, P, x0=None, p=1., **kwargs):\n",
    "    r\"\"\"\n",
    "    Solve an interpolation problem via gradient p-norm minimization.\n",
    "\n",
    "    A signal :math:`x` is estimated from its measurements :math:`y = A(x)` by solving\n",
    "    :math:`\\text{arg}\\underset{z \\in \\mathbb{R}^n}{\\min}\n",
    "    \\| \\nabla_G z \\|_p^p \\text{ subject to } Az = y` \n",
    "    via a primal-dual, forward-backward-forward algorithm.\n",
    "\n",
    "    Parameters\n",
    "    ----------\n",
    "    gradient : array_like\n",
    "        A matrix representing the graph gradient operator\n",
    "    P : callable\n",
    "        Orthogonal projection operator mapping points in :math:`z \\in \\mathbb{R}^n` \n",
    "        onto the set satisfying :math:`A P(z) = A z`.\n",
    "    x0 : array_like, optional\n",
    "        Initial point of the iteration. Must be of dimension n.\n",
    "        (Default is `numpy.random.randn(n)`)\n",
    "    p : {1., 2.}\n",
    "    kwargs :\n",
    "        Additional solver parameters, such as maximum number of iterations\n",
    "        (maxit), relative tolerance on the objective (rtol), and verbosity\n",
    "        level (verbosity). See :func:`pyunlocbox.solvers.solve` for the full\n",
    "        list of options.\n",
    "\n",
    "    Returns\n",
    "    -------\n",
    "    x : array_like\n",
    "        The solution to the optimization problem.\n",
    "\n",
    "    \"\"\"\n",
    "    \n",
    "    grad = lambda z: gradient.dot(z)\n",
    "    div = lambda z: gradient.transpose().dot(z)\n",
    "\n",
    "    # Indicator function of the set satisfying :math:`y = A(z)`\n",
    "    f = functions.func()\n",
    "    f._eval = lambda z: 0\n",
    "    f._prox = lambda z, gamma: P(z)\n",
    "\n",
    "    # :math:`\\ell_1` norm of the dual variable :math:`d = \\nabla_G z`\n",
    "    g = functions.func()\n",
    "    g._eval = lambda z: np.sum(np.abs(grad(z)))\n",
    "    g._prox = lambda d, gamma: functions._soft_threshold(d, gamma)\n",
    "\n",
    "    # :math:`\\ell_2` norm of the gradient (for the smooth case)\n",
    "    h = functions.norm_l2(A=grad, At=div)\n",
    "\n",
    "    stepsize = (0.9 / (1. + scipy.sparse.linalg.norm(gradient, ord='fro'))) ** p\n",
    "    #stepsize = (0.9 / (1. + np.linalg.norm(gradient, ord='fro'))) ** p\n",
    "\n",
    "    solver = solvers.mlfbf(L=grad, Lt=div, step=stepsize)\n",
    "\n",
    "    if p == 1.:\n",
    "        problem = solvers.solve([f, g, functions.dummy()], x0=x0, solver=solver, **kwargs)\n",
    "        return problem['sol']\n",
    "    if p == 2.:\n",
    "        problem = solvers.solve([f, functions.dummy(), h], x0=x0, solver=solver, **kwargs)\n",
    "        return problem['sol']\n",
    "    else:\n",
    "        return x0"
   ]
  },
  {
   "cell_type": "markdown",
   "metadata": {},
   "source": [
    "### Question 14\n",
    "\n",
    "During the iterations of the algorithm used for solving the variational problem, we have to make sure that the labels at the measured nodes stay the same. We will do this by means of an operator `P` which, given a vector $a \\in \\mathbb{R}^{N},$ returns another vector $b \\in \\mathbb{R}^{N}$ satisfying $b[i] = \\text{labels_bin}[i]$ for every node $i$ in the set $S$ of known labels, and $b[i] = a[i]$ otherwise. Write in the cell below the function for this orthogonal projection operator `P`.\n",
    "\n",
    "_Hint:_ remember you have already computed the mask `w`."
   ]
  },
  {
   "cell_type": "code",
   "execution_count": 8,
   "metadata": {
    "inputHidden": false,
    "outputHidden": false
   },
   "outputs": [],
   "source": [
    "def P(a):\n",
    "    \n",
    "    # invert the w vector and copy the a values into b\n",
    "    w_inverse=np.copy(w)\n",
    "    w_inverse[w_inverse==0]=2\n",
    "    w_inverse[w_inverse==1]=0\n",
    "    w_inverse[w_inverse==2]=1\n",
    "    b=np.zeros(a.size)\n",
    "    b=a*w_inverse\n",
    "    \n",
    "    #copy the values of labels_bin into b for the indices corresponding to the known labels (w vector)\n",
    "    c=labels_bin*w\n",
    "    b=b+c\n",
    "    \n",
    "    return b"
   ]
  },
  {
   "cell_type": "markdown",
   "metadata": {
    "inputHidden": false,
    "outputHidden": false
   },
   "source": [
    "### Question 15\n",
    "\n",
    "Solve the variational problems for $p = 1$ and $p = 2$. Record the solution for the $1-$norm minimization under `sol_1norm_min` and the one for $2-$norm minimization under `sol_2norm_min`.\n",
    "\n",
    "Compute also binarized versions of these solutions by thresholding the values with respect to $0$, that is, non-negative values become `1.0`, while negative values become `-1.0`. Store those binarized versions under `sol_1norm_bin` and `sol_2norm_bin`, respectively."
   ]
  },
  {
   "cell_type": "code",
   "execution_count": 9,
   "metadata": {},
   "outputs": [
    {
     "name": "stdout",
     "output_type": "stream",
     "text": [
      "vecteur initial\n",
      "[0.64618149 0.47776893 0.82518082 ... 0.45340018 0.0475282  0.53446529]\n",
      "somme de a-P(a): (n'est pas égale à 0, donc les vecteurs ne sont pas égaux)\n",
      "1230.2292369709426\n"
     ]
    }
   ],
   "source": [
    "#test of P function\n",
    "a_test=np.random.uniform(0,1,n_nodes)\n",
    "b_test=P(a_test)\n",
    "\n",
    "print('vecteur initial')\n",
    "print(a_test)\n",
    "#we see that both vectors are different\n",
    "print('somme de a-P(a): (n\\'est pas égale à 0, donc les vecteurs ne sont pas égaux)')\n",
    "print(sum(a_test-b_test))"
   ]
  },
  {
   "cell_type": "code",
   "execution_count": 10,
   "metadata": {
    "inputHidden": false,
    "outputHidden": false
   },
   "outputs": [
    {
     "name": "stdout",
     "output_type": "stream",
     "text": [
      "Solution found after 110 iterations:\n",
      "    objective function f(sol) = 4.158251e+05\n",
      "    stopping criterion: RTOL\n",
      "Solution found after 200 iterations:\n",
      "    objective function f(sol) = 1.719418e+06\n",
      "    stopping criterion: MAXIT\n"
     ]
    }
   ],
   "source": [
    "#transform the gradient in csr format to use in graph_pnorm_interpolation function.\n",
    "gradient_csr=sparse.csr_matrix(gradient)\n",
    "#inital vector for the interpolation function\n",
    "x_initial=np.random.randn(n_nodes)\n",
    "sol_1norm_min = graph_pnorm_interpolation(gradient_csr, P, p=1,x0=x_initial)# Your code here.\n",
    "\n",
    "#calculate the relative error\n",
    "error_1norm_min=np.linalg.norm((labels_bin-sol_1norm_min), ord=2) \n",
    "error_1norm_min_relative=error_1norm_min/np.linalg.norm((labels_bin), ord=2) \n",
    "\n",
    "sol_2norm_min = graph_pnorm_interpolation(gradient_csr, P, p=2,x0=x_initial)\n",
    "\n",
    "#calculate the relative error\n",
    "error_2norm_min=np.linalg.norm((labels_bin-sol_2norm_min), ord=2) \n",
    "error_2norm_min=error_2norm_min/np.linalg.norm((labels_bin), ord=2) \n",
    "\n",
    "threshold = 0\n",
    "#\n",
    "sol_1norm_bin = np.copy(sol_1norm_min)\n",
    "sol_1norm_bin[sol_1norm_bin<threshold]=-1\n",
    "sol_1norm_bin[sol_1norm_bin>threshold]=1\n",
    "\n",
    "#calculate the relative error\n",
    "error_1norm_bin=np.linalg.norm((labels_bin-sol_1norm_bin), ord=2) \n",
    "error_1norm_bin=error_1norm_bin/np.linalg.norm((labels_bin), ord=2) \n",
    "\n",
    "sol_2norm_bin = np.copy(sol_2norm_min)\n",
    "sol_2norm_bin[sol_2norm_bin<threshold]=-1\n",
    "sol_2norm_bin[sol_2norm_bin>threshold]=1\n",
    "\n",
    "#calculate the relative error\n",
    "error_2norm_bin=np.linalg.norm((labels_bin-sol_2norm_bin), ord=2) \n",
    "error_2norm_bin=error_2norm_bin/np.linalg.norm((labels_bin), ord=2) "
   ]
  },
  {
   "cell_type": "markdown",
   "metadata": {
    "inputHidden": false,
    "outputHidden": false
   },
   "source": [
    "Plot, on your graph, the original `labels_bin` signal, as well as the solutions to the variational problems (both binarized and otherwise). Indicate on each plot the value of the relative error $\\text{rel-err} = \\frac{\\|\\text{labels_bin} - z\\|_2}{\\|\\text{labels_bin}\\|_2}$, where $z$ is the signal in the corresponding plot."
   ]
  },
  {
   "cell_type": "code",
   "execution_count": 16,
   "metadata": {},
   "outputs": [
    {
     "data": {
      "text/plain": [
       "[<matplotlib.lines.Line2D at 0x1dfb3291dd8>]"
      ]
     },
     "execution_count": 16,
     "metadata": {},
     "output_type": "execute_result"
    },
    {
     "data": {
      "image/png": "[encoded data removed]",
      "text/plain": [
       "<Figure size 432x288 with 1 Axes>"
      ]
     },
     "metadata": {},
     "output_type": "display_data"
    }
   ],
   "source": [
    "#plot original labels_bin\n",
    "\n",
    "plt.plot(labels_bin)"
   ]
  },
  {
   "cell_type": "markdown",
   "metadata": {},
   "source": [
    "### Question 16\n",
    "\n",
    "Now that you have got a feeling for the sort of solutions that the transductive learning problems studied can give, we will see what is the effect of the number of measurements on the accuracy of both $p-$norm minimization problems.\n",
    "\n",
    "Towards this goal, you will write a `phase_transition()` function. This function will basically go over all the procedures that you have implemented in this section, but for varying numbers of measurements and thresholding values. It will also compute the relative error, $\\text{rel-err},$ of the solutions and average them over a number of trials.\n",
    "\n",
    "The output of the `phase_transition()` function has to be a matrix with `len(mn_ratios)` columns and `len(thresholds)` rows. Each pixel $(i,j)$ in the output matrix has to contain the average, over `n_trials` trials, of the relative error $\\text{rel-err}$ in the binarized (with threshold `thresholds[i]`) solution given by `graph_pnorm_interpolation()` from observing an `mn_ratios[j]` fraction of nodes. The randomness comes from a different choice of mask `w` at each trial, hence the averaging.\n",
    "\n",
    "The interest of this phase transition matrix is to assess what level of recovery error one could expect for a certain fraction of measurements and a certain threshold level."
   ]
  },
  {
   "cell_type": "code",
   "execution_count": 11,
   "metadata": {
    "inputHidden": false,
    "outputHidden": false
   },
   "outputs": [],
   "source": [
    "def phase_transition(mn_ratios, thresholds, n_trials, labels_bin, p):\n",
    "    \n",
    "    a=0;\n",
    "    pt_matrix=np.zeros([len(thresholds),len(mn_ratios)])\n",
    "    for indx_ratio in range(mn_ratios.size):\n",
    "        for indx_threshold in range(thresholds.size):\n",
    "            #this will be the sum of the error across all trials\n",
    "            value=0\n",
    "            #do a certain number of trial, each time with another mask w\n",
    "            for trial_number in range(n_trials):\n",
    "                mn_ratio=mn_ratios[indx_ratio]\n",
    "                threshold=thresholds[indx_threshold]\n",
    "\n",
    "                # Create sample mask\n",
    "                m = int(mn_ratio * n_nodes) \n",
    "                w=np.zeros([n_nodes])\n",
    "                for i in range(m):\n",
    "                    indx=np.random.randint(n_nodes, size=1)\n",
    "                    while(w[indx]==1):\n",
    "                        indx=np.random.randint(n_nodes, size=1)\n",
    "                    w[indx]=1\n",
    "\n",
    "                masked_labels=np.copy(labels_bin)\n",
    "                masked_labels=masked_labels*w\n",
    "                masked_labels[masked_labels==0]=np.nan\n",
    "\n",
    "                # Solve p-norm interpolation.\n",
    "                x_initial=np.random.randn(n_nodes)\n",
    "                solution=graph_pnorm_interpolation(gradient_csr, P,x_initial,p)\n",
    "                \n",
    "                #binarize with threshold\n",
    "                solution[solution<threshold]=-1\n",
    "                solution[solution>threshold]=1\n",
    "                \n",
    "                #calculate the error\n",
    "                error=np.linalg.norm((labels_bin-solution), ord=2) \n",
    "                error=error/np.linalg.norm((labels_bin), ord=2) \n",
    "                value=value+error\n",
    "                #value=value+np.random.randint(0,10)\n",
    "                \n",
    "             # Aggregate.\n",
    "                \n",
    "            #average the error    \n",
    "            value=value/n_trials\n",
    "            pt_matrix[indx_threshold][indx_ratio]=value\n",
    "            \n",
    "    \n",
    "    return pt_matrix"
   ]
  },
  {
   "cell_type": "markdown",
   "metadata": {},
   "source": [
    "### Question 17\n",
    "\n",
    "Pick 5 \"m/n\" ratios in $(0, 1)$ and 5 threshold levels in $(-1, 1)$ and run the `phase_transition()` function with `n_trials` = 20, for both $p = 1$ and $p = 2$."
   ]
  },
  {
   "cell_type": "code",
   "execution_count": 12,
   "metadata": {
    "inputHidden": false,
    "outputHidden": false
   },
   "outputs": [
    {
     "name": "stdout",
     "output_type": "stream",
     "text": [
      "Solution found after 88 iterations:\n",
      "    objective function f(sol) = 3.987949e+05\n",
      "    stopping criterion: RTOL\n",
      "Solution found after 96 iterations:\n",
      "    objective function f(sol) = 4.177696e+05\n",
      "    stopping criterion: RTOL\n",
      "Solution found after 88 iterations:\n",
      "    objective function f(sol) = 4.084462e+05\n",
      "    stopping criterion: RTOL\n",
      "Solution found after 79 iterations:\n",
      "    objective function f(sol) = 4.147424e+05\n",
      "    stopping criterion: RTOL\n",
      "Solution found after 6 iterations:\n",
      "    objective function f(sol) = 1.297729e+05\n",
      "    stopping criterion: RTOL\n",
      "Solution found after 82 iterations:\n",
      "    objective function f(sol) = 4.225781e+05\n",
      "    stopping criterion: RTOL\n",
      "Solution found after 83 iterations:\n",
      "    objective function f(sol) = 4.189922e+05\n",
      "    stopping criterion: RTOL\n",
      "Solution found after 80 iterations:\n",
      "    objective function f(sol) = 4.216717e+05\n",
      "    stopping criterion: RTOL\n",
      "Solution found after 5 iterations:\n",
      "    objective function f(sol) = 1.301451e+05\n",
      "    stopping criterion: RTOL\n",
      "Solution found after 92 iterations:\n",
      "    objective function f(sol) = 4.035275e+05\n",
      "    stopping criterion: RTOL\n",
      "Solution found after 85 iterations:\n",
      "    objective function f(sol) = 4.360738e+05\n",
      "    stopping criterion: RTOL\n",
      "Solution found after 80 iterations:\n",
      "    objective function f(sol) = 4.220350e+05\n",
      "    stopping criterion: RTOL\n",
      "Solution found after 82 iterations:\n",
      "    objective function f(sol) = 4.091831e+05\n",
      "    stopping criterion: RTOL\n",
      "Solution found after 84 iterations:\n",
      "    objective function f(sol) = 3.960845e+05\n",
      "    stopping criterion: RTOL\n",
      "Solution found after 112 iterations:\n",
      "    objective function f(sol) = 4.104296e+05\n",
      "    stopping criterion: RTOL\n",
      "Solution found after 87 iterations:\n",
      "    objective function f(sol) = 4.185489e+05\n",
      "    stopping criterion: RTOL\n",
      "Solution found after 4 iterations:\n",
      "    objective function f(sol) = 1.349425e+05\n",
      "    stopping criterion: RTOL\n",
      "Solution found after 100 iterations:\n",
      "    objective function f(sol) = 4.156710e+05\n",
      "    stopping criterion: RTOL\n",
      "Solution found after 82 iterations:\n",
      "    objective function f(sol) = 4.226834e+05\n",
      "    stopping criterion: RTOL\n",
      "Solution found after 88 iterations:\n",
      "    objective function f(sol) = 4.023947e+05\n",
      "    stopping criterion: RTOL\n",
      "Solution found after 5 iterations:\n",
      "    objective function f(sol) = 1.309609e+05\n",
      "    stopping criterion: RTOL\n",
      "Solution found after 81 iterations:\n",
      "    objective function f(sol) = 3.940930e+05\n",
      "    stopping criterion: RTOL\n",
      "Solution found after 79 iterations:\n",
      "    objective function f(sol) = 4.156375e+05\n",
      "    stopping criterion: RTOL\n",
      "Solution found after 97 iterations:\n",
      "    objective function f(sol) = 4.003143e+05\n",
      "    stopping criterion: RTOL\n",
      "Solution found after 90 iterations:\n",
      "    objective function f(sol) = 3.925558e+05\n",
      "    stopping criterion: RTOL\n",
      "Solution found after 81 iterations:\n",
      "    objective function f(sol) = 4.188857e+05\n",
      "    stopping criterion: RTOL\n",
      "Solution found after 91 iterations:\n",
      "    objective function f(sol) = 3.988491e+05\n",
      "    stopping criterion: RTOL\n",
      "Solution found after 81 iterations:\n",
      "    objective function f(sol) = 3.911181e+05\n",
      "    stopping criterion: RTOL\n",
      "Solution found after 87 iterations:\n",
      "    objective function f(sol) = 4.294126e+05\n",
      "    stopping criterion: RTOL\n",
      "Solution found after 80 iterations:\n",
      "    objective function f(sol) = 4.097431e+05\n",
      "    stopping criterion: RTOL\n",
      "Solution found after 81 iterations:\n",
      "    objective function f(sol) = 4.299885e+05\n",
      "    stopping criterion: RTOL\n",
      "Solution found after 83 iterations:\n",
      "    objective function f(sol) = 4.279691e+05\n",
      "    stopping criterion: RTOL\n",
      "Solution found after 87 iterations:\n",
      "    objective function f(sol) = 4.126082e+05\n",
      "    stopping criterion: RTOL\n",
      "Solution found after 94 iterations:\n",
      "    objective function f(sol) = 4.164669e+05\n",
      "    stopping criterion: RTOL\n",
      "Solution found after 6 iterations:\n",
      "    objective function f(sol) = 1.288663e+05\n",
      "    stopping criterion: RTOL\n",
      "Solution found after 78 iterations:\n",
      "    objective function f(sol) = 4.266844e+05\n",
      "    stopping criterion: RTOL\n",
      "Solution found after 86 iterations:\n",
      "    objective function f(sol) = 4.018487e+05\n",
      "    stopping criterion: RTOL\n",
      "Solution found after 6 iterations:\n",
      "    objective function f(sol) = 1.299528e+05\n",
      "    stopping criterion: RTOL\n",
      "Solution found after 84 iterations:\n",
      "    objective function f(sol) = 4.250674e+05\n",
      "    stopping criterion: RTOL\n",
      "Solution found after 98 iterations:\n",
      "    objective function f(sol) = 4.146445e+05\n",
      "    stopping criterion: RTOL\n",
      "Solution found after 3 iterations:\n",
      "    objective function f(sol) = 1.370489e+05\n",
      "    stopping criterion: RTOL\n",
      "Solution found after 98 iterations:\n",
      "    objective function f(sol) = 3.970161e+05\n",
      "    stopping criterion: RTOL\n",
      "Solution found after 101 iterations:\n",
      "    objective function f(sol) = 4.058158e+05\n",
      "    stopping criterion: RTOL\n",
      "Solution found after 89 iterations:\n",
      "    objective function f(sol) = 4.052353e+05\n",
      "    stopping criterion: RTOL\n",
      "Solution found after 92 iterations:\n",
      "    objective function f(sol) = 4.155913e+05\n",
      "    stopping criterion: RTOL\n",
      "Solution found after 90 iterations:\n",
      "    objective function f(sol) = 4.244614e+05\n",
      "    stopping criterion: RTOL\n",
      "Solution found after 81 iterations:\n",
      "    objective function f(sol) = 4.278793e+05\n",
      "    stopping criterion: RTOL\n",
      "Solution found after 86 iterations:\n",
      "    objective function f(sol) = 4.108878e+05\n",
      "    stopping criterion: RTOL\n",
      "Solution found after 78 iterations:\n",
      "    objective function f(sol) = 4.303412e+05\n",
      "    stopping criterion: RTOL\n",
      "Solution found after 89 iterations:\n",
      "    objective function f(sol) = 4.154116e+05\n",
      "    stopping criterion: RTOL\n",
      "Solution found after 80 iterations:\n",
      "    objective function f(sol) = 4.208335e+05\n",
      "    stopping criterion: RTOL\n",
      "Solution found after 81 iterations:\n",
      "    objective function f(sol) = 4.138215e+05\n",
      "    stopping criterion: RTOL\n",
      "Solution found after 115 iterations:\n",
      "    objective function f(sol) = 4.070812e+05\n",
      "    stopping criterion: RTOL\n",
      "Solution found after 91 iterations:\n",
      "    objective function f(sol) = 4.123348e+05\n",
      "    stopping criterion: RTOL\n",
      "Solution found after 89 iterations:\n",
      "    objective function f(sol) = 4.161180e+05\n",
      "    stopping criterion: RTOL\n",
      "Solution found after 82 iterations:\n",
      "    objective function f(sol) = 4.071115e+05\n",
      "    stopping criterion: RTOL\n",
      "Solution found after 78 iterations:\n",
      "    objective function f(sol) = 4.338718e+05\n",
      "    stopping criterion: RTOL\n",
      "Solution found after 78 iterations:\n",
      "    objective function f(sol) = 4.241897e+05\n",
      "    stopping criterion: RTOL\n",
      "Solution found after 83 iterations:\n",
      "    objective function f(sol) = 4.114997e+05\n",
      "    stopping criterion: RTOL\n",
      "Solution found after 5 iterations:\n",
      "    objective function f(sol) = 1.351226e+05\n",
      "    stopping criterion: RTOL\n",
      "Solution found after 86 iterations:\n",
      "    objective function f(sol) = 4.018697e+05\n",
      "    stopping criterion: RTOL\n",
      "Solution found after 4 iterations:\n",
      "    objective function f(sol) = 1.380227e+05\n",
      "    stopping criterion: RTOL\n",
      "Solution found after 83 iterations:\n",
      "    objective function f(sol) = 4.075452e+05\n",
      "    stopping criterion: RTOL\n",
      "Solution found after 89 iterations:\n",
      "    objective function f(sol) = 4.044692e+05\n",
      "    stopping criterion: RTOL\n",
      "Solution found after 82 iterations:\n",
      "    objective function f(sol) = 4.153563e+05\n",
      "    stopping criterion: RTOL\n",
      "Solution found after 81 iterations:\n",
      "    objective function f(sol) = 4.071472e+05\n",
      "    stopping criterion: RTOL\n",
      "Solution found after 87 iterations:\n",
      "    objective function f(sol) = 4.175777e+05\n",
      "    stopping criterion: RTOL\n",
      "Solution found after 4 iterations:\n",
      "    objective function f(sol) = 1.354268e+05\n",
      "    stopping criterion: RTOL\n",
      "Solution found after 85 iterations:\n",
      "    objective function f(sol) = 4.269979e+05\n",
      "    stopping criterion: RTOL\n",
      "Solution found after 7 iterations:\n",
      "    objective function f(sol) = 1.268266e+05\n",
      "    stopping criterion: RTOL\n",
      "Solution found after 82 iterations:\n",
      "    objective function f(sol) = 4.206172e+05\n",
      "    stopping criterion: RTOL\n",
      "Solution found after 82 iterations:\n",
      "    objective function f(sol) = 4.392035e+05\n",
      "    stopping criterion: RTOL\n",
      "Solution found after 3 iterations:\n",
      "    objective function f(sol) = 1.381168e+05\n",
      "    stopping criterion: RTOL\n",
      "Solution found after 83 iterations:\n",
      "    objective function f(sol) = 4.160511e+05\n",
      "    stopping criterion: RTOL\n",
      "Solution found after 5 iterations:\n",
      "    objective function f(sol) = 1.321843e+05\n",
      "    stopping criterion: RTOL\n",
      "Solution found after 2 iterations:\n",
      "    objective function f(sol) = 2.576856e+05\n",
      "    stopping criterion: RTOL\n",
      "Solution found after 2 iterations:\n",
      "    objective function f(sol) = 2.606516e+05\n",
      "    stopping criterion: RTOL\n"
     ]
    },
    {
     "name": "stdout",
     "output_type": "stream",
     "text": [
      "Solution found after 2 iterations:\n",
      "    objective function f(sol) = 2.563039e+05\n",
      "    stopping criterion: RTOL\n",
      "Solution found after 2 iterations:\n",
      "    objective function f(sol) = 2.610788e+05\n",
      "    stopping criterion: RTOL\n",
      "Solution found after 2 iterations:\n",
      "    objective function f(sol) = 2.554137e+05\n",
      "    stopping criterion: RTOL\n",
      "Solution found after 2 iterations:\n",
      "    objective function f(sol) = 2.536739e+05\n",
      "    stopping criterion: RTOL\n",
      "Solution found after 2 iterations:\n",
      "    objective function f(sol) = 2.617606e+05\n",
      "    stopping criterion: RTOL\n",
      "Solution found after 2 iterations:\n",
      "    objective function f(sol) = 2.651598e+05\n",
      "    stopping criterion: RTOL\n",
      "Solution found after 2 iterations:\n",
      "    objective function f(sol) = 2.622482e+05\n",
      "    stopping criterion: RTOL\n",
      "Solution found after 2 iterations:\n",
      "    objective function f(sol) = 2.687291e+05\n",
      "    stopping criterion: RTOL\n",
      "Solution found after 2 iterations:\n",
      "    objective function f(sol) = 2.576585e+05\n",
      "    stopping criterion: RTOL\n",
      "Solution found after 2 iterations:\n",
      "    objective function f(sol) = 2.485226e+05\n",
      "    stopping criterion: RTOL\n",
      "Solution found after 1 iterations:\n",
      "    objective function f(sol) = 2.592920e+05\n",
      "    stopping criterion: RTOL\n",
      "Solution found after 2 iterations:\n",
      "    objective function f(sol) = 2.651351e+05\n",
      "    stopping criterion: RTOL\n",
      "Solution found after 2 iterations:\n",
      "    objective function f(sol) = 2.643988e+05\n",
      "    stopping criterion: RTOL\n",
      "Solution found after 2 iterations:\n",
      "    objective function f(sol) = 2.625593e+05\n",
      "    stopping criterion: RTOL\n",
      "Solution found after 2 iterations:\n",
      "    objective function f(sol) = 2.604709e+05\n",
      "    stopping criterion: RTOL\n",
      "Solution found after 2 iterations:\n",
      "    objective function f(sol) = 2.569590e+05\n",
      "    stopping criterion: RTOL\n",
      "Solution found after 2 iterations:\n",
      "    objective function f(sol) = 2.631878e+05\n",
      "    stopping criterion: RTOL\n",
      "Solution found after 2 iterations:\n",
      "    objective function f(sol) = 2.618317e+05\n",
      "    stopping criterion: RTOL\n",
      "Solution found after 2 iterations:\n",
      "    objective function f(sol) = 2.555366e+05\n",
      "    stopping criterion: RTOL\n",
      "Solution found after 2 iterations:\n",
      "    objective function f(sol) = 2.661699e+05\n",
      "    stopping criterion: RTOL\n",
      "Solution found after 2 iterations:\n",
      "    objective function f(sol) = 2.570365e+05\n",
      "    stopping criterion: RTOL\n",
      "Solution found after 2 iterations:\n",
      "    objective function f(sol) = 2.512813e+05\n",
      "    stopping criterion: RTOL\n",
      "Solution found after 2 iterations:\n",
      "    objective function f(sol) = 2.629620e+05\n",
      "    stopping criterion: RTOL\n",
      "Solution found after 2 iterations:\n",
      "    objective function f(sol) = 2.605506e+05\n",
      "    stopping criterion: RTOL\n",
      "Solution found after 2 iterations:\n",
      "    objective function f(sol) = 2.572890e+05\n",
      "    stopping criterion: RTOL\n",
      "Solution found after 2 iterations:\n",
      "    objective function f(sol) = 2.582865e+05\n",
      "    stopping criterion: RTOL\n",
      "Solution found after 2 iterations:\n",
      "    objective function f(sol) = 2.621203e+05\n",
      "    stopping criterion: RTOL\n",
      "Solution found after 1 iterations:\n",
      "    objective function f(sol) = 2.589568e+05\n",
      "    stopping criterion: RTOL\n",
      "Solution found after 36 iterations:\n",
      "    objective function f(sol) = 2.595625e+05\n",
      "    stopping criterion: RTOL\n",
      "Solution found after 2 iterations:\n",
      "    objective function f(sol) = 2.667994e+05\n",
      "    stopping criterion: RTOL\n",
      "Solution found after 2 iterations:\n",
      "    objective function f(sol) = 2.624389e+05\n",
      "    stopping criterion: RTOL\n",
      "Solution found after 2 iterations:\n",
      "    objective function f(sol) = 2.523047e+05\n",
      "    stopping criterion: RTOL\n",
      "Solution found after 2 iterations:\n",
      "    objective function f(sol) = 2.725696e+05\n",
      "    stopping criterion: RTOL\n",
      "Solution found after 2 iterations:\n",
      "    objective function f(sol) = 2.602131e+05\n",
      "    stopping criterion: RTOL\n",
      "Solution found after 2 iterations:\n",
      "    objective function f(sol) = 2.572534e+05\n",
      "    stopping criterion: RTOL\n",
      "Solution found after 2 iterations:\n",
      "    objective function f(sol) = 2.609076e+05\n",
      "    stopping criterion: RTOL\n",
      "Solution found after 2 iterations:\n",
      "    objective function f(sol) = 2.655779e+05\n",
      "    stopping criterion: RTOL\n",
      "Solution found after 2 iterations:\n",
      "    objective function f(sol) = 2.576595e+05\n",
      "    stopping criterion: RTOL\n",
      "Solution found after 2 iterations:\n",
      "    objective function f(sol) = 2.658407e+05\n",
      "    stopping criterion: RTOL\n",
      "Solution found after 2 iterations:\n",
      "    objective function f(sol) = 2.580362e+05\n",
      "    stopping criterion: RTOL\n",
      "Solution found after 2 iterations:\n",
      "    objective function f(sol) = 2.621092e+05\n",
      "    stopping criterion: RTOL\n",
      "Solution found after 2 iterations:\n",
      "    objective function f(sol) = 2.717133e+05\n",
      "    stopping criterion: RTOL\n",
      "Solution found after 2 iterations:\n",
      "    objective function f(sol) = 2.497236e+05\n",
      "    stopping criterion: RTOL\n",
      "Solution found after 2 iterations:\n",
      "    objective function f(sol) = 2.742012e+05\n",
      "    stopping criterion: RTOL\n",
      "Solution found after 2 iterations:\n",
      "    objective function f(sol) = 2.540088e+05\n",
      "    stopping criterion: RTOL\n",
      "Solution found after 2 iterations:\n",
      "    objective function f(sol) = 2.574893e+05\n",
      "    stopping criterion: RTOL\n",
      "Solution found after 2 iterations:\n",
      "    objective function f(sol) = 2.583497e+05\n",
      "    stopping criterion: RTOL\n",
      "Solution found after 2 iterations:\n",
      "    objective function f(sol) = 2.736694e+05\n",
      "    stopping criterion: RTOL\n",
      "Solution found after 2 iterations:\n",
      "    objective function f(sol) = 2.600707e+05\n",
      "    stopping criterion: RTOL\n",
      "Solution found after 2 iterations:\n",
      "    objective function f(sol) = 2.624310e+05\n",
      "    stopping criterion: RTOL\n",
      "Solution found after 2 iterations:\n",
      "    objective function f(sol) = 2.618424e+05\n",
      "    stopping criterion: RTOL\n",
      "Solution found after 2 iterations:\n",
      "    objective function f(sol) = 2.604529e+05\n",
      "    stopping criterion: RTOL\n",
      "Solution found after 2 iterations:\n",
      "    objective function f(sol) = 2.597139e+05\n",
      "    stopping criterion: RTOL\n",
      "Solution found after 2 iterations:\n",
      "    objective function f(sol) = 2.567863e+05\n",
      "    stopping criterion: RTOL\n",
      "Solution found after 2 iterations:\n",
      "    objective function f(sol) = 2.689459e+05\n",
      "    stopping criterion: RTOL\n",
      "Solution found after 2 iterations:\n",
      "    objective function f(sol) = 2.639308e+05\n",
      "    stopping criterion: RTOL\n",
      "Solution found after 2 iterations:\n",
      "    objective function f(sol) = 2.613679e+05\n",
      "    stopping criterion: RTOL\n",
      "Solution found after 2 iterations:\n",
      "    objective function f(sol) = 2.579574e+05\n",
      "    stopping criterion: RTOL\n",
      "Solution found after 2 iterations:\n",
      "    objective function f(sol) = 2.522711e+05\n",
      "    stopping criterion: RTOL\n",
      "Solution found after 2 iterations:\n",
      "    objective function f(sol) = 2.665210e+05\n",
      "    stopping criterion: RTOL\n",
      "Solution found after 2 iterations:\n",
      "    objective function f(sol) = 2.660560e+05\n",
      "    stopping criterion: RTOL\n",
      "Solution found after 2 iterations:\n",
      "    objective function f(sol) = 2.718189e+05\n",
      "    stopping criterion: RTOL\n",
      "Solution found after 2 iterations:\n",
      "    objective function f(sol) = 2.697955e+05\n",
      "    stopping criterion: RTOL\n",
      "Solution found after 2 iterations:\n",
      "    objective function f(sol) = 2.574499e+05\n",
      "    stopping criterion: RTOL\n",
      "Solution found after 2 iterations:\n",
      "    objective function f(sol) = 2.700518e+05\n",
      "    stopping criterion: RTOL\n",
      "Solution found after 2 iterations:\n",
      "    objective function f(sol) = 2.588739e+05\n",
      "    stopping criterion: RTOL\n",
      "Solution found after 2 iterations:\n",
      "    objective function f(sol) = 2.605883e+05\n",
      "    stopping criterion: RTOL\n",
      "Solution found after 1 iterations:\n",
      "    objective function f(sol) = 2.647432e+05\n",
      "    stopping criterion: RTOL\n",
      "Solution found after 2 iterations:\n",
      "    objective function f(sol) = 2.661358e+05\n",
      "    stopping criterion: RTOL\n",
      "Solution found after 1 iterations:\n",
      "    objective function f(sol) = 2.588901e+05\n",
      "    stopping criterion: RTOL\n",
      "Solution found after 2 iterations:\n",
      "    objective function f(sol) = 2.579268e+05\n",
      "    stopping criterion: RTOL\n",
      "Solution found after 2 iterations:\n",
      "    objective function f(sol) = 2.555829e+05\n",
      "    stopping criterion: RTOL\n",
      "Solution found after 2 iterations:\n",
      "    objective function f(sol) = 2.558430e+05\n",
      "    stopping criterion: RTOL\n"
     ]
    }
   ],
   "source": [
    "mn_ratios = np.array([0.2,0.4,0.6,0.8,1])\n",
    "\n",
    "thresholds = np.array([-0.75,-0.25,0,0.25,0.75])\n",
    "\n",
    "pt_matrix_1norm = phase_transition(mn_ratios, thresholds, 3, labels_bin, 1)\n",
    "\n",
    "pt_matrix_2norm = phase_transition(mn_ratios, thresholds, 3, labels_bin, 2)"
   ]
  },
  {
   "cell_type": "code",
   "execution_count": 13,
   "metadata": {},
   "outputs": [
    {
     "name": "stdout",
     "output_type": "stream",
     "text": [
      "[[1.16430749 1.1767652  1.16873807 1.1709547  1.17080684]\n",
      " [1.17750296 1.17987215 1.17713253 1.17804708 1.17675152]\n",
      " [1.18211817 1.18794417 1.17744114 1.18890269 1.1807949 ]\n",
      " [1.19945458 1.18690289 1.18375722 1.18908468 1.18617191]\n",
      " [1.19597089 1.19687291 1.19729342 1.19675627 1.18823041]]\n",
      "[[1.17595796 1.17920803 1.17719531 1.17149824 1.17285609]\n",
      " [1.17413006 1.17975439 1.17707063 1.17982119 1.17548644]\n",
      " [1.18255906 1.17932019 1.18399823 1.18333603 1.19114916]\n",
      " [1.18686563 1.18522035 1.18594188 1.18485862 1.1889239 ]\n",
      " [1.1898219  1.18443426 1.18461404 1.19326217 1.19812842]]\n"
     ]
    }
   ],
   "source": [
    "#just to check the values\n",
    "print(pt_matrix_1norm)\n",
    "print(pt_matrix_2norm)"
   ]
  },
  {
   "cell_type": "markdown",
   "metadata": {},
   "source": [
    "Plot both phase transition matrices as images with a colorbar. Make sure to properly name the axes and title the images. "
   ]
  },
  {
   "cell_type": "code",
   "execution_count": 14,
   "metadata": {},
   "outputs": [
    {
     "data": {
      "text/plain": [
       "<matplotlib.colorbar.Colorbar at 0x1dfb329dcf8>"
      ]
     },
     "execution_count": 14,
     "metadata": {},
     "output_type": "execute_result"
    },
    {
     "data": {
      "image/png": "[encoded data removed]",
      "text/plain": [
       "<Figure size 432x432 with 2 Axes>"
      ]
     },
     "metadata": {},
     "output_type": "display_data"
    },
    {
     "data": {
      "image/png": "[encoded data removed]",
      "text/plain": [
       "<Figure size 432x432 with 2 Axes>"
      ]
     },
     "metadata": {},
     "output_type": "display_data"
    }
   ],
   "source": [
    "plt.figure(figsize=(6,6))\n",
    "ax = plt.subplot(111)\n",
    "im = ax.imshow(pt_matrix_1norm,extent=[0,1,-0.75,0.75],aspect='auto',cmap='inferno')\n",
    "plt.title('Phase transition matrix with P=1')\n",
    "plt.xlabel('mn_ratio')\n",
    "plt.ylabel('threshold')\n",
    "plt.colorbar(im)\n",
    "\n",
    "plt.figure(figsize=(6,6))\n",
    "ax2 = plt.subplot(111)\n",
    "im = ax2.imshow(pt_matrix_2norm,extent=[0,1,-0.75,0.75],aspect='auto',cmap='plasma')\n",
    "plt.title('Phase transition matrix with P=2')\n",
    "plt.xlabel('mn_ratio')\n",
    "plt.ylabel('threshold')\n",
    "plt.colorbar(im)"
   ]
  },
  {
   "cell_type": "markdown",
   "metadata": {},
   "source": [
    "### Question 18\n",
    "\n",
    "Do the phase transition plots above provide any justification for choosing one $p-$norm interpolation over the other? Why?"
   ]
  },
  {
   "cell_type": "markdown",
   "metadata": {},
   "source": [
    "If we look at the scale **to be completed**"
   ]
  },
  {
   "cell_type": "code",
   "execution_count": null,
   "metadata": {},
   "outputs": [],
   "source": []
  }
 ],
 "metadata": {
  "kernel_info": {
   "name": "python3"
  },
  "kernelspec": {
   "display_name": "Python 3",
   "language": "python",
   "name": "python3"
  },
  "language_info": {
   "codemirror_mode": {
    "name": "ipython",
    "version": 3
   },
   "file_extension": ".py",
   "mimetype": "text/x-python",
   "name": "python",
   "nbconvert_exporter": "python",
   "pygments_lexer": "ipython3",
   "version": "3.6.6"
  },
  "latex_envs": {
   "LaTeX_envs_menu_present": true,
   "autoclose": true,
   "autocomplete": true,
   "bibliofile": "biblio.bib",
   "cite_by": "apalike",
   "current_citInitial": 1,
   "eqLabelWithNumbers": true,
   "eqNumInitial": 1,
   "hotkeys": {
    "equation": "Ctrl-E",
    "itemize": "Ctrl-I"
   },
   "labels_anchors": false,
   "latex_user_defs": false,
   "report_style_numbering": false,
   "user_envs_cfg": false
  },
  "nteract": {
   "version": "0.12.3"
  },
  "varInspector": {
   "cols": {
    "lenName": 16,
    "lenType": 16,
    "lenVar": 40
   },
   "kernels_config": {
    "python": {
     "delete_cmd_postfix": "",
     "delete_cmd_prefix": "del ",
     "library": "var_list.py",
     "varRefreshCmd": "print(var_dic_list())"
    },
    "r": {
     "delete_cmd_postfix": ") ",
     "delete_cmd_prefix": "rm(",
     "library": "var_list.r",
     "varRefreshCmd": "cat(var_dic_list()) "
    }
   },
   "types_to_exclude": [
    "module",
    "function",
    "builtin_function_or_method",
    "instance",
    "_Feature"
   ],
   "window_display": false
  }
 },
 "nbformat": 4,
 "nbformat_minor": 2
}

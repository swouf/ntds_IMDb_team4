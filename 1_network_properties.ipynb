{
 "cells": [
  {
   "cell_type": "markdown",
   "metadata": {},
   "source": [
    "# NTDS'18 milestone 1: network collection and properties\n",
    "[Effrosyni Simou](https://lts4.epfl.ch/simou), [EPFL LTS4](https://lts4.epfl.ch)"
   ]
  },
  {
   "cell_type": "markdown",
   "metadata": {},
   "source": [
    "## Students\n",
    "\n",
    "* Team: `4`\n",
    "* Students: `Julien Berger, Jérémy Jayet, Hanah Samet, Mathieu Shiva`\n",
    "* Dataset: `IMDb Films and Crew `"
   ]
  },
  {
   "cell_type": "markdown",
   "metadata": {},
   "source": [
    "## Rules\n",
    "\n",
    "* Milestones have to be completed by teams. No collaboration between teams is allowed.\n",
    "* Textual answers shall be short. Typically one to three sentences.\n",
    "* Code has to be clean.\n",
    "* You cannot import any other library than we imported.\n",
    "* When submitting, the notebook is executed and the results are stored. I.e., if you open the notebook again it should show numerical results and plots. We won't be able to execute your notebooks.\n",
    "* The notebook is re-executed from a blank state before submission. That is to be sure it is reproducible. You can click \"Kernel\" then \"Restart & Run All\" in Jupyter."
   ]
  },
  {
   "cell_type": "markdown",
   "metadata": {},
   "source": [
    "## Objective "
   ]
  },
  {
   "cell_type": "markdown",
   "metadata": {},
   "source": [
    "The purpose of this milestone is to start getting acquainted to the network that you will use for this class. In the first part of the milestone you will import your data using [Pandas](http://pandas.pydata.org) and you will create the adjacency matrix using [Numpy](http://www.numpy.org). This part is project specific. In the second part you will have to compute some basic properties of your network. **For the computation of the properties you are only allowed to use the packages that have been imported in the cell below.** You are not allowed to use any graph-specific toolboxes for this milestone (such as networkx and PyGSP). Furthermore, the aim is not to blindly compute the network properties, but to also start to think about what kind of network you will be working with this semester. "
   ]
  },
  {
   "cell_type": "code",
   "execution_count": null,
   "metadata": {},
   "outputs": [],
   "source": [
    "import json\n",
    "import numpy as np\n",
    "import pandas as pd\n",
    "import matplotlib.pyplot as plt\n",
    "import queue as Q # Package used to manage queues"
   ]
  },
  {
   "cell_type": "markdown",
   "metadata": {},
   "source": [
    "## Part 1 - Import your data and manipulate them. "
   ]
  },
  {
   "cell_type": "markdown",
   "metadata": {},
   "source": [
    "###  A. Load your data in a Panda dataframe."
   ]
  },
  {
   "cell_type": "markdown",
   "metadata": {},
   "source": [
    "First, you should define and understand what are your nodes, what features you have and what are your labels. Please provide below a Panda dataframe where each row corresponds to a node with its features and labels. For example, in the the case of the Free Music Archive (FMA) Project, each row of the dataframe would be of the following form:\n",
    "\n",
    "\n",
    "| Track   |  Feature 1  | Feature 2 | . . . | Feature 518|  Label 1 |  Label 2 |. . .|Label 16|\n",
    "|:-------:|:-----------:|:---------:|:-----:|:----------:|:--------:|:--------:|:---:|:------:|\n",
    "|         |             |           |       |            |          |          |     |        |\n",
    "\n",
    "It is possible that in some of the projects either the features or the labels are not available. This is OK, in that case just make sure that you create a dataframe where each of the rows corresponds to a node and its associated features or labels."
   ]
  },
  {
   "cell_type": "code",
   "execution_count": null,
   "metadata": {
    "scrolled": true
   },
   "outputs": [],
   "source": [
    "# nodes = cast/crew \n",
    "# edges = co-appearance in TV/movies\n",
    "# features = rating of movies\n",
    "# labels = movie genres\n",
    "movies = pd.read_csv('data/tmdb_5000_movies.csv')\n",
    "movies['release_date'] = pd.to_datetime(movies['release_date']).apply(lambda x: x.date())\n",
    "json_columns = ['genres', 'keywords', 'production_countries', 'production_companies', 'spoken_languages']\n",
    "for column in json_columns:\n",
    "    movies[column] = movies[column].apply(json.loads)\n",
    "\n",
    "\n",
    "credits = pd.read_csv('data/tmdb_5000_credits.csv')\n",
    "json_columns = ['cast', 'crew']\n",
    "for column in json_columns:\n",
    "       credits[column] = credits[column].apply(json.loads)\n",
    "\n",
    "def safe_access(container, index_values):\n",
    "    # return a missing value rather than an error upon indexing/key failure\n",
    "    result = container\n",
    "    try:\n",
    "        for idx in index_values:\n",
    "            result = result[idx]\n",
    "        return result\n",
    "    except IndexError or KeyError:\n",
    "        return pd.np.nan\n",
    "    \n",
    "#credits['gender_of_lead'] = credits.cast.apply(lambda x: safe_access(x, [0, 'gender']))\n",
    "#credits['lead'] = credits.cast.apply(lambda x: safe_access(x, [0, 'name']))\n",
    "#df = pd.merge(movies, credits, left_on='id', right_on='movie_id')\n",
    "#df[['original_title', 'revenue', 'lead', 'gender_of_lead']].sort_values(by=['revenue'], ascending=False)[:10]\n",
    "\n",
    "credits.apply(lambda row: [x.update({'movie_id': row['movie_id']}) for x in row['cast']], axis=1);\n",
    "credits.apply(lambda row: [x.update({'movie_id': row['movie_id']}) for x in row['crew']], axis=1);\n",
    "credits.apply(lambda row: [person.update({'order': order}) for order, person in enumerate(row['crew'])], axis=1);\n",
    "\n",
    "cast = []\n",
    "credits.cast.apply(lambda x: cast.extend(x))\n",
    "cast = pd.DataFrame(cast)\n",
    "cast['type'] = 'cast'\n",
    "\n",
    "crew = []\n",
    "credits.crew.apply(lambda x: crew.extend(x))\n",
    "crew = pd.DataFrame(crew)\n",
    "crew['type'] = 'crew'\n",
    "\n",
    "people = pd.concat([cast, crew],  ignore_index=True, sort=False)\n",
    "people = people.drop(columns=['gender','department', 'credit_id','cast_id', 'job','order','character','type'])\n",
    "people = people.sort_values(by='id')\n",
    "\n",
    "#remove the rows with similar id and movie\n",
    "people=people.drop_duplicates(subset=['id', 'movie_id'])\n",
    "\n",
    "#get the maximum number of movies someone worked on, this will be the number of features we take\n",
    "maximum_movies=people['id'].value_counts().tolist()\n",
    "maximum_movies=maximum_movies[0]\n",
    "\n",
    "#REMOVE THE PEOPLE WITH LITTLE MOVIES HERE\n",
    "\n",
    "\n",
    "\n",
    "#get the total number of individual \"couples\" movie+person\n",
    "number_entries=len(people.index)\n",
    "movies['movie_id']=movies['id']\n",
    "movies=movies.drop(columns=['vote_count','budget','genres','homepage','keywords','original_language','overview','popularity','production_companies','production_countries','release_date','revenue','runtime','spoken_languages','status','tagline','original_title'])\n",
    "movies = movies.set_index('movie_id')\n",
    "  \n",
    "#merge the movies and the people so that you have the rating    \n",
    "people = people.merge(movies, on='movie_id')\n",
    "people['id']=people['id_x']\n",
    "people = people.drop(columns=['id_x','id_y'])\n",
    "\n",
    "#this simple_list will contain all the different actor names\n",
    "simple_list=people.loc[:, ['id','movie_id','name']]\n",
    "simple_list=simple_list.sort_values(by='id')\n",
    "simple_list=simple_list.drop_duplicates('id')\n",
    "simple_list=simple_list.set_index('id') \n",
    "simple_list=simple_list.drop(columns=['movie_id'])\n",
    "\n",
    "#Calculate the number of individual movies and people\n",
    "unique_id=people['id'].unique()\n",
    "unique_id.sort()\n",
    "number_people=unique_id.size\n",
    "#The size is 104842 --> number of unique people\n",
    "unique_movie_id=people['movie_id'].unique()\n",
    "unique_movie_id.sort()\n",
    "number_movies=unique_movie_id.size\n",
    "#The size is 4782 --> number of unique movies\n",
    "\n",
    "#Add a column that will contain the average rating of the actor \n",
    "simple_list['Average Rating']=np.nan\n",
    "\n",
    "#Add a column for each movie (based on the highest number of movie for 1 individual)\n",
    "for i in range(maximum_movies):\n",
    "    simple_list['Movie %d' % i]=np.nan\n",
    "\n",
    "#This code takes 5 minutes to run\n",
    "# We take a subset of the big list (people) with all the movies 1 person starred in (or worked on)\n",
    "# We then place them in the corresponding row in the simple_list\n",
    "# We also calculate the Average rating of the actor and place it in the simple_list\n",
    "for idx in unique_id:\n",
    "    rating_average=0\n",
    "    subset=people[people['id'] == idx]\n",
    "    new_index_subset = pd.Series(range(0,len(subset)))\n",
    "    subset=subset.set_index(new_index_subset) \n",
    "\n",
    "    for i in new_index_subset:\n",
    "        simple_list.loc[idx, 'Movie %d' % i]=subset.loc[i,'movie_id']\n",
    "        rating_average=rating_average+subset.loc[i,'vote_average']\n",
    "    rating_average=rating_average/len(subset)\n",
    "    simple_list.loc[idx, 'Average Rating']=rating_average\n",
    "    \n",
    "#we save this to a csv for later use    \n",
    "#simple_list.to_csv('simple_list.csv')    \n",
    "\n",
    "#This simple list is the features we want to use    \n",
    "#features = # the pandas dataframe with the features and labels"
   ]
  },
  {
   "cell_type": "code",
   "execution_count": null,
   "metadata": {},
   "outputs": [],
   "source": [
    "simple_list"
   ]
  },
  {
   "cell_type": "markdown",
   "metadata": {},
   "source": [
    "### B. Create the adjacency matrix of your network."
   ]
  },
  {
   "cell_type": "markdown",
   "metadata": {},
   "source": [
    "Remember that there are edges connecting the attributed nodes that you organized in the dataframe above. The connectivity of the network is captured by the adjacency matrix $W$. If $N$ is the number of nodes, the adjacency matrix is an $N \\times N$ matrix where the value of $W(i,j)$ is the weight of the edge connecting node $i$ to node $j$.  \n",
    "\n",
    "There are two possible scenarios for your adjacency matrix construction, as you already learned in the tutorial by Benjamin:\n",
    "\n",
    "1) The edges are given to you explicitly. In this case you should simply load the file containing the edge information and parse it in order to create your adjacency matrix. See how to do that in the  [graph from edge list]() demo.\n",
    "\n",
    "2) The edges are not given to you. In that case you will have to create a feature graph. In order to do that you will have to chose a distance that will quantify how similar two nodes are based on the values in their corresponding feature vectors. In the [graph from features]() demo Benjamin showed you how to build feature graphs when using Euclidean distances between feature vectors. Be curious and explore other distances as well! For instance, in the case of high-dimensional feature vectors, you might want to consider using the cosine distance. Once you compute the distances between your nodes you will have a fully connected network. Do not forget to sparsify by keeping the most important edges in your network.\n",
    "\n",
    "Follow the appropriate steps for the construction of the adjacency matrix of your network and provide it in the Numpy array ``adjacency`` below: "
   ]
  },
  {
   "cell_type": "code",
   "execution_count": null,
   "metadata": {},
   "outputs": [],
   "source": [
    "# Your code here\n",
    "\n",
    "n_nodes=5\n",
    "#n_nodes = len(nodes)\n",
    "#n_nodes=len(simple_list)\n",
    "adjacency = np.zeros((5, 5), dtype=int)\n",
    "\n",
    "#for idx, row in edges.iterrows():\n",
    "#    if np.isnan(row.node_idx_parent):\n",
    "#        continue\n",
    "#    i, j = int(row.node_idx), int(row.node_idx_parent)\n",
    "#    adjacency[i, j] = 1\n",
    "#    adjacency[j, i] = 1\n",
    "adjacency[1,2]=1  \n",
    "adjacency[2,1]=1  \n",
    "adjacency[0,3]=1  \n",
    "adjacency[3,0]=1  \n",
    "adjacency[4,0]=1  \n",
    "adjacency[0,4]=1  \n",
    "adjacency[4,2]=1  \n",
    "adjacency[2,4]=1  \n",
    "\n",
    "\n",
    "adjacency\n",
    "\n",
    "#adjacency = # the adjacency matrix\n",
    "#n_nodes = # the number of nodes in the network"
   ]
  },
  {
   "cell_type": "markdown",
   "metadata": {},
   "source": [
    "## Part 2"
   ]
  },
  {
   "cell_type": "markdown",
   "metadata": {},
   "source": [
    "Execute the cell below to plot the (weighted) adjacency matrix of your network."
   ]
  },
  {
   "cell_type": "code",
   "execution_count": null,
   "metadata": {},
   "outputs": [],
   "source": [
    "plt.spy(adjacency, markersize=1)\n",
    "plt.title('adjacency matrix')"
   ]
  },
  {
   "cell_type": "markdown",
   "metadata": {},
   "source": [
    "### Question 1\n",
    "\n",
    "What is the maximum number of links $L_{max}$ in a network with $N$ nodes (where $N$ is the number of nodes in your network)? How many links $L$ are there in your collected network? Comment on the sparsity of your network."
   ]
  },
  {
   "cell_type": "code",
   "execution_count": null,
   "metadata": {},
   "outputs": [],
   "source": [
    "#use the unweighted matrix\n",
    "L=sum(adjacency)\n",
    "L=sum(L)/2 #the number of links in the network\n",
    "L_max=pd.Series(range(0,n_nodes))\n",
    "L_max=sum(L_max)\n",
    "L_max"
   ]
  },
  {
   "cell_type": "markdown",
   "metadata": {},
   "source": [
    "The maximum number of links in a network is equal to the sum off all number from 1 to N-1 (1+2+3+...+N-2+N-1)\n",
    "In our case, since N=..., L_max=...\n",
    "In our network we L links, which means that our network is really sparse in comparison"
   ]
  },
  {
   "cell_type": "markdown",
   "metadata": {},
   "source": [
    "### Question 2\n",
    "\n",
    "Is your graph directed or undirected? If it is directed, convert it to an undirected graph by symmetrizing the adjacency matrix."
   ]
  },
  {
   "cell_type": "markdown",
   "metadata": {},
   "source": [
    "It is an undirected graph."
   ]
  },
  {
   "cell_type": "code",
   "execution_count": null,
   "metadata": {},
   "outputs": [],
   "source": [
    "# Your code here."
   ]
  },
  {
   "cell_type": "markdown",
   "metadata": {},
   "source": [
    "### Question 3\n",
    "\n",
    "In the cell below save the features dataframe and the **symmetrized** adjacency matrix. You can use the Pandas ``to_csv`` to save the ``features`` and Numpy's ``save`` to save the ``adjacency``. We will reuse those in the following milestones."
   ]
  },
  {
   "cell_type": "code",
   "execution_count": null,
   "metadata": {},
   "outputs": [],
   "source": [
    "#features.to_csv('features.csv')\n",
    "#np.save('adjacency.npy', adjacency)"
   ]
  },
  {
   "cell_type": "markdown",
   "metadata": {},
   "source": [
    "### Question 4\n",
    "\n",
    "Are the edges of your graph weighted?"
   ]
  },
  {
   "cell_type": "markdown",
   "metadata": {},
   "source": [
    "Yes, the weights are equal to the number of movies that two people have in common."
   ]
  },
  {
   "cell_type": "markdown",
   "metadata": {},
   "source": [
    "### Question 5\n",
    "\n",
    "What is the degree distibution of your network? "
   ]
  },
  {
   "cell_type": "code",
   "execution_count": null,
   "metadata": {},
   "outputs": [],
   "source": [
    "degree =  # Your code here. It should be a numpy array.\n",
    "\n",
    "assert len(degree) == n_nodes"
   ]
  },
  {
   "cell_type": "markdown",
   "metadata": {},
   "source": [
    "Execute the cell below to see the histogram of the degree distribution."
   ]
  },
  {
   "cell_type": "code",
   "execution_count": null,
   "metadata": {},
   "outputs": [],
   "source": [
    "weights = np.ones_like(degree) / float(n_nodes)\n",
    "plt.hist(degree, weights=weights);"
   ]
  },
  {
   "cell_type": "markdown",
   "metadata": {},
   "source": [
    "What is the average degree?"
   ]
  },
  {
   "cell_type": "code",
   "execution_count": null,
   "metadata": {},
   "outputs": [],
   "source": [
    "# Your code here."
   ]
  },
  {
   "cell_type": "markdown",
   "metadata": {},
   "source": [
    "### Question 6\n",
    "\n",
    "Comment on the degree distribution of your network."
   ]
  },
  {
   "cell_type": "markdown",
   "metadata": {},
   "source": [
    "**Your answer here.**"
   ]
  },
  {
   "cell_type": "markdown",
   "metadata": {},
   "source": [
    "### Question 7\n",
    "\n",
    "Write a function that takes as input the adjacency matrix of a graph and determines whether the graph is connected or not."
   ]
  },
  {
   "cell_type": "code",
   "execution_count": null,
   "metadata": {},
   "outputs": [],
   "source": [
    "def connected_graph(adjacency):\n",
    "    \"\"\"Determines whether a graph is connected.\n",
    "\n",
    "    Parameters\n",
    "    ----------\n",
    "    adjacency: numpy array\n",
    "        The (weighted) adjacency matrix of a graph.\n",
    "\n",
    "    Returns\n",
    "    -------\n",
    "    bool\n",
    "        True if the graph is connected, False otherwise.\n",
    "    \"\"\"\n",
    "    # Init connected\n",
    "    connected = False\n",
    "\n",
    "    # Creates a node list with the number nodes contained in the adjacency matrix\n",
    "    nodeList = adjacency.shape\n",
    "    nodeList = nodeList[0]\n",
    "    nodeList = np.full(nodeList, np.nan)\n",
    "\n",
    "    # Initialize a queue\n",
    "    queueBuffer = Q.SimpleQueue()\n",
    "\n",
    "    # Initialize an array containing all the indexes of all the non-zero elements connecting the the 0 node with the others\n",
    "    connectedNodesTo0 = np.nonzero(adjacency[0,:])\n",
    "\n",
    "    # Init the queue\n",
    "    for i in np.nditer(connectedNodesTo0):\n",
    "        queueBuffer.put(i)\n",
    "\n",
    "    # Test each node if they are connected\n",
    "    #\n",
    "    # 1. Get the node in the queue and the distance from the source of the previous node.\n",
    "    # 2. If the node has not been assigned a distance yet, assign it the distance of the previous node + 1.\n",
    "    # 3. Get all the connected nodes and put them in the queue.\n",
    "    # 4. When there is no more nodes in the queue, exit the loop.\n",
    "    #\n",
    "    while queueBuffer.empty() == False :\n",
    "        node = queueBuffer.get()\n",
    "        tmp = np.nonzero(adjacency[node,:])\n",
    "        for j in np.nditer(tmp):\n",
    "            if np.isnan(nodeList[j]):\n",
    "                nodeList[j] = 1\n",
    "                queueBuffer.put(j)\n",
    "\n",
    "    nbOfConnectedNodes = np.nansum(nodeList)\n",
    "    nbOfExpectedConnectedNodes = nodeList.size\n",
    "\n",
    "    if nbOfConnectedNodes == nbOfExpectedConnectedNodes :\n",
    "        connected = True\n",
    "    else :\n",
    "        connected = False\n",
    "\n",
    "    return connected"
   ]
  },
  {
   "cell_type": "markdown",
   "metadata": {},
   "source": [
    "Is your graph connected? Run the ``connected_graph`` function to determine your answer."
   ]
  },
  {
   "cell_type": "code",
   "execution_count": null,
   "metadata": {},
   "outputs": [],
   "source": [
    "# Your code here."
   ]
  },
  {
   "cell_type": "markdown",
   "metadata": {},
   "source": [
    "### Question 8\n",
    "\n",
    "Write a function that extracts the connected components of a graph."
   ]
  },
  {
   "cell_type": "code",
   "execution_count": null,
   "metadata": {},
   "outputs": [],
   "source": [
    "def find_components(adjacency):\n",
    "    \"\"\"Find the connected components of a graph.\n",
    "    \n",
    "    Parameters\n",
    "    ----------\n",
    "    adjacency: numpy array\n",
    "        The (weighted) adjacency matrix of a graph.\n",
    "    \n",
    "    Returns\n",
    "    -------\n",
    "    list of numpy arrays\n",
    "        A list of adjacency matrices, one per connected component.\n",
    "    \"\"\"\n",
    "    \n",
    "    # Your code here.\n",
    "    \n",
    "    return components"
   ]
  },
  {
   "cell_type": "markdown",
   "metadata": {},
   "source": [
    "How many connected components is your network composed of? What is the size of the largest connected component? Run the ``find_components`` function to determine your answer. "
   ]
  },
  {
   "cell_type": "code",
   "execution_count": null,
   "metadata": {},
   "outputs": [],
   "source": [
    "# Your code here."
   ]
  },
  {
   "cell_type": "markdown",
   "metadata": {},
   "source": [
    "### Question 9\n",
    "\n",
    "Write a function that takes as input the adjacency matrix and a node (`source`) and returns the length of the shortest path between that node and all nodes in the graph using Dijkstra's algorithm. **For the purposes of this assignment we are interested in the hop distance between nodes, not in the sum of weights. **\n",
    "\n",
    "Hint: You might want to mask the adjacency matrix in the function ``compute_shortest_path_lengths`` in order to make sure you obtain a binary adjacency matrix. "
   ]
  },
  {
   "cell_type": "code",
   "execution_count": null,
   "metadata": {},
   "outputs": [],
   "source": [
    "def compute_shortest_path_lengths(adjacency, source):\n",
    "    \"\"\"Compute the shortest path length between a source node and all nodes.\n",
    "\n",
    "    Parameters\n",
    "    ----------\n",
    "    adjacency: numpy array\n",
    "        The (weighted) adjacency matrix of a graph.\n",
    "    source: int\n",
    "        The source node. A number between 0 and n_nodes-1.\n",
    "\n",
    "    Returns\n",
    "    -------\n",
    "    list of ints\n",
    "        The length of the shortest path from source to all nodes. Returned list\n",
    "        should be of length n_nodes.\n",
    "    \"\"\"\n",
    "\n",
    "    # Creates a node list with the number of nodes contained in the adjacency\n",
    "    # matrix\n",
    "    nodeList = adjacency.shape\n",
    "    nodeList = nodeList[0]\n",
    "    nodeList = np.full(nodeList, np.nan)\n",
    "\n",
    "    # Set the distance of the source node to 0\n",
    "    nodeList[source] = 0\n",
    "\n",
    "    # Initialize a queue\n",
    "    queueBuffer = Q.SimpleQueue()\n",
    "\n",
    "    # Initialize an array containing all the indexes of all the non-zero\n",
    "    # elements connecting the the 0 node with the others\n",
    "    connectedNodesToSource = np.nonzero(adjacency[source,:])\n",
    "\n",
    "    # Init the queue and set the distances of the adjacent nodes\n",
    "    # (to the source) to 1\n",
    "    for i in np.nditer(connectedNodesToSource):\n",
    "        nodeList[i] = 1\n",
    "        queueBuffer.put(i)\n",
    "\n",
    "    # Iterate over the nodes and calculate their distance\n",
    "    while queueBuffer.empty() == False :\n",
    "        node = queueBuffer.get() # Get the node in the queue\n",
    "        tmp = np.nonzero(adjacency[node,:]) # Get a list of the connected nodes\n",
    "        for j in np.nditer(tmp): # Iterate over the connected nodes\n",
    "            if np.isnan(nodeList[j]): # Eliminate the ones that are already been processed\n",
    "                nodeList[j] = nodeList[node]+1 # Add, for each node, their distance to the source node using the distance of the parent node\n",
    "                queueBuffer.put(j) # Place it in the queue\n",
    "\n",
    "    shortest_path_lengths = np.array(nodeList, np.int32)\n",
    "    return shortest_path_lengths"
   ]
  },
  {
   "cell_type": "markdown",
   "metadata": {},
   "source": [
    "### Question 10\n",
    "\n",
    "The diameter of the graph is the length of the longest shortest path between any pair of nodes. Use the above developed function to compute the diameter of the graph (or the diameter of the largest connected component of the graph if the graph is not connected). If your graph (or largest connected component) is very large, computing the diameter will take very long. In that case downsample your graph so that it has 1.000 nodes. There are many ways to reduce the size of a graph. For the purposes of this milestone you can chose to randomly select 1.000 nodes. "
   ]
  },
  {
   "cell_type": "code",
   "execution_count": null,
   "metadata": {},
   "outputs": [],
   "source": [
    "# Your code here."
   ]
  },
  {
   "cell_type": "markdown",
   "metadata": {},
   "source": [
    "### Question 11\n",
    "\n",
    "Write a function that takes as input the adjacency matrix, a path length, and two nodes (`source` and `target`), and returns the number of paths of the given length between them."
   ]
  },
  {
   "cell_type": "code",
   "execution_count": null,
   "metadata": {},
   "outputs": [],
   "source": [
    "def compute_paths(adjacency, source, target, length):\n",
    "    \"\"\"Compute the number of paths of a given length between a source and target node.\n",
    "    \n",
    "    Parameters\n",
    "    ----------\n",
    "    adjacency: numpy array\n",
    "        The (weighted) adjacency matrix of a graph.\n",
    "    source: int\n",
    "        The source node. A number between 0 and n_nodes-1.\n",
    "    target: int\n",
    "        The target node. A number between 0 and n_nodes-1.\n",
    "    length: int\n",
    "        The path length to be considered.\n",
    "    \n",
    "    Returns\n",
    "    -------\n",
    "    int\n",
    "        The number of paths.\n",
    "    \"\"\"\n",
    "    \n",
    "    # Your code here.\n",
    "    \n",
    "    return n_paths"
   ]
  },
  {
   "cell_type": "markdown",
   "metadata": {},
   "source": [
    "Test your function on 5 pairs of nodes, with different lengths."
   ]
  },
  {
   "cell_type": "code",
   "execution_count": null,
   "metadata": {},
   "outputs": [],
   "source": [
    "print(compute_paths(adjacency, 0, 10, 1))\n",
    "print(compute_paths(adjacency, 0, 10, 2))\n",
    "print(compute_paths(adjacency, 0, 10, 3))\n",
    "print(compute_paths(adjacency, 23, 67, 2))\n",
    "print(compute_paths(adjacency, 15, 93, 4))"
   ]
  },
  {
   "cell_type": "markdown",
   "metadata": {},
   "source": [
    "### Question 12\n",
    "\n",
    "How many paths of length 3 are there in your graph? Hint: calling the `compute_paths` function on every pair of node is not an efficient way to do it."
   ]
  },
  {
   "cell_type": "code",
   "execution_count": null,
   "metadata": {},
   "outputs": [],
   "source": [
    "# Your code here."
   ]
  },
  {
   "cell_type": "markdown",
   "metadata": {},
   "source": [
    "### Question 13\n",
    "\n",
    "Write a function that takes as input the adjacency matrix of your graph (or of the largest connected component of your graph) and a node and returns the clustering coefficient of that node. "
   ]
  },
  {
   "cell_type": "code",
   "execution_count": null,
   "metadata": {},
   "outputs": [],
   "source": [
    "def compute_clustering_coefficient(adjacency, node):\n",
    "    \"\"\"Compute the clustering coefficient of a node.\n",
    "    \n",
    "    Parameters\n",
    "    ----------\n",
    "    adjacency: numpy array\n",
    "        The (weighted) adjacency matrix of a graph.\n",
    "    node: int\n",
    "        The node whose clustering coefficient will be computed. A number between 0 and n_nodes-1.\n",
    "    \n",
    "    Returns\n",
    "    -------\n",
    "    float\n",
    "        The clustering coefficient of the node. A number between 0 and 1.\n",
    "    \"\"\"\n",
    "    \n",
    "    # Your code here.\n",
    "    \n",
    "    return clustering_coefficient"
   ]
  },
  {
   "cell_type": "markdown",
   "metadata": {},
   "source": [
    "### Question 14\n",
    "\n",
    "What is the average clustering coefficient of your graph (or of the largest connected component of your graph if your graph is disconnected)? Use the function ``compute_clustering_coefficient`` to determine your answer."
   ]
  },
  {
   "cell_type": "code",
   "execution_count": null,
   "metadata": {},
   "outputs": [],
   "source": [
    "# Your code here."
   ]
  }
 ],
 "metadata": {
  "kernelspec": {
   "display_name": "Python 3",
   "language": "python",
   "name": "python3"
  },
  "language_info": {
   "codemirror_mode": {
    "name": "ipython",
    "version": 3
   },
   "file_extension": ".py",
   "mimetype": "text/x-python",
   "name": "python",
   "nbconvert_exporter": "python",
   "pygments_lexer": "ipython3",
   "version": "3.7.0"
  }
 },
 "nbformat": 4,
 "nbformat_minor": 2
}

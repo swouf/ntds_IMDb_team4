{
 "cells": [
  {
   "cell_type": "markdown",
   "metadata": {},
   "source": [
    "# [NTDS'18] Final project\n",
    "[ntds'18]: https://github.com/mdeff/ntds_2018\n",
    "\n",
    "* Team: `4` ([github repo](https://github.com/swouf/ntds_IMDb_team4))\n",
    "* Dataset: `IMDb Films and Crew`\n",
    "\n",
    "### Authors :\n",
    "+ [Julien Berger](mailto:juliengaetan.berger@epfl.ch)\n",
    "+ [Jérémy Jayet](mailto:jeremy.jayet@epfl.ch)\n",
    "+ [Hana Samet](mailto:hana.samet@epfl.ch)\n",
    "+ [Mathieu Shiva](mailto:mathieu.shiva@epfl.ch)"
   ]
  },
  {
   "cell_type": "markdown",
   "metadata": {},
   "source": [
    "## 0 - Import packages and data"
   ]
  },
  {
   "cell_type": "code",
   "execution_count": null,
   "metadata": {},
   "outputs": [],
   "source": [
    "%matplotlib inline\n",
    "\n",
    "import numpy as np\n",
    "import pandas as pd\n",
    "from scipy import sparse\n",
    "import scipy.sparse.linalg\n",
    "from matplotlib import pyplot as plt\n",
    "from pyunlocbox import functions, solvers\n",
    "import pygsp as pg\n",
    "import networkx as nx\n",
    "import logging\n",
    "import json\n",
    "import sys\n",
    "\n",
    "logging.basicConfig(format='%(asctime)s | %(levelname)s : %(message)s',\n",
    "                     level=logging.INFO, stream=sys.stdout)\n",
    "\n",
    "import src.load_data as ldata"
   ]
  },
  {
   "cell_type": "code",
   "execution_count": null,
   "metadata": {},
   "outputs": [],
   "source": [
    "(movies,people) = ldata.load_dataframes();"
   ]
  },
  {
   "cell_type": "code",
   "execution_count": null,
   "metadata": {},
   "outputs": [],
   "source": [
    "numberOfDecades = 6\n",
    "\n",
    "moviesFilteredByYears = []\n",
    "\n",
    "for i in range(numberOfDecades):\n",
    "    decade = 1960 + i*10\n",
    "    decadeEnd = decade + 10\n",
    "    moviesFilteredByYears.append(ldata.filter_movies_by_years(movies, pd.to_datetime(f'{decade}-01-01').date(), pd.to_datetime(f'{decadeEnd}-01-01').date()))"
   ]
  },
  {
   "cell_type": "code",
   "execution_count": null,
   "metadata": {},
   "outputs": [],
   "source": [
    "#(adjacency, movies_by_budget) = ldata.make_budget_based_adjacency(movies);\n",
    "\n",
    "adjacenciesFilteredByYears = []\n",
    "moviesByBudgetFilteredByYears = []\n",
    "graphsFilteredByYears = []\n",
    "\n",
    "for moviesData in moviesFilteredByYears:\n",
    "    (adjacency, moviesByBudget) = ldata.make_budget_based_adjacency(moviesData);\n",
    "    adjacenciesFilteredByYears.append(adjacency);\n",
    "    moviesByBudgetFilteredByYears.append(moviesByBudget)\n",
    "    graphsFilteredByYears.append(pg.graphs.Graph(adjacency))\n",
    "\n"
   ]
  },
  {
   "cell_type": "code",
   "execution_count": null,
   "metadata": {},
   "outputs": [],
   "source": [
    "voteAvrgFtFilteredByYears = []\n",
    "voteAvrgFilteredByYears = []\n",
    "\n",
    "for i in range(len(graphsFilteredByYears)):\n",
    "    voteAvrgFilteredByYears.append((moviesByBudgetFilteredByYears[i])['vote_average'].copy())\n",
    "    (graphsFilteredByYears[i]).compute_fourier_basis()\n",
    "    voteAvrgFtFilteredByYears.append(graphsFilteredByYears[i].gft((voteAvrgFilteredByYears[i]).values))"
   ]
  },
  {
   "cell_type": "code",
   "execution_count": null,
   "metadata": {},
   "outputs": [],
   "source": [
    "i = 0\n",
    "for G in graphsFilteredByYears:\n",
    "    G.set_coordinates(kind='spring')\n",
    "    pg.plotting.plot_signal(G, (voteAvrgFilteredByYears[i]).values,)\n",
    "    i = i+1"
   ]
  },
  {
   "cell_type": "code",
   "execution_count": null,
   "metadata": {},
   "outputs": [],
   "source": [
    "plt.plot(vote_avrg_ft)"
   ]
  },
  {
   "cell_type": "code",
   "execution_count": null,
   "metadata": {},
   "outputs": [],
   "source": [
    "plt.figure(figsize=(10, 10))\n",
    "plt.spy(adjacency, markersize=0.1)\n",
    "plt.title('adjacency matrix')"
   ]
  },
  {
   "cell_type": "code",
   "execution_count": null,
   "metadata": {},
   "outputs": [],
   "source": []
  },
  {
   "cell_type": "code",
   "execution_count": null,
   "metadata": {},
   "outputs": [],
   "source": []
  }
 ],
 "metadata": {
  "kernelspec": {
   "display_name": "Python 3",
   "language": "python",
   "name": "python3"
  },
  "language_info": {
   "codemirror_mode": {
    "name": "ipython",
    "version": 3
   },
   "file_extension": ".py",
   "mimetype": "text/x-python",
   "name": "python",
   "nbconvert_exporter": "python",
   "pygments_lexer": "ipython3",
   "version": "3.7.0"
  }
 },
 "nbformat": 4,
 "nbformat_minor": 2
}

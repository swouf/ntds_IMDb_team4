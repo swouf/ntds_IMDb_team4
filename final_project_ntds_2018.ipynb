{
 "cells": [
  {
   "cell_type": "markdown",
   "metadata": {},
   "source": [
    "# [NTDS'18] Final project\n",
    "[ntds'18]: https://github.com/mdeff/ntds_2018\n",
    "\n",
    "* Team: `4` ([github repo](https://github.com/swouf/ntds_IMDb_team4))\n",
    "* Dataset: `IMDb Films and Crew`\n",
    "\n",
    "### Authors :\n",
    "+ [Julien Berger](mailto:juliengaetan.berger@epfl.ch)\n",
    "+ [Jérémy Jayet](mailto:jeremy.jayet@epfl.ch)\n",
    "+ [Hana Samet](mailto:hana.samet@epfl.ch)\n",
    "+ [Mathieu Shiva](mailto:mathieu.shiva@epfl.ch)"
   ]
  },
  {
   "cell_type": "markdown",
   "metadata": {},
   "source": [
    "## 0 - Import packages and data"
   ]
  },
  {
   "cell_type": "code",
   "execution_count": 1,
   "metadata": {},
   "outputs": [],
   "source": [
    "%matplotlib inline\n",
    "\n",
    "import numpy as np\n",
    "import pandas as pd\n",
    "from scipy import sparse\n",
    "import scipy.sparse.linalg\n",
    "from matplotlib import pyplot as plt\n",
    "from pyunlocbox import functions, solvers\n",
    "import pygsp as pg\n",
    "import networkx as nx\n",
    "\n",
    "import src.load_data as ldata"
   ]
  }
 ],
 "metadata": {
  "kernelspec": {
   "display_name": "Python 3",
   "language": "python",
   "name": "python3"
  },
  "language_info": {
   "codemirror_mode": {
    "name": "ipython",
    "version": 3
   },
   "file_extension": ".py",
   "mimetype": "text/x-python",
   "name": "python",
   "nbconvert_exporter": "python",
   "pygments_lexer": "ipython3",
   "version": "3.7.0"
  }
 },
 "nbformat": 4,
 "nbformat_minor": 2
}

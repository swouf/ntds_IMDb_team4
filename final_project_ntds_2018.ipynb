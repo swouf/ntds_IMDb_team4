{
 "cells": [
  {
   "cell_type": "markdown",
   "metadata": {},
   "source": [
    "# [NTDS'18] Final project\n",
    "[ntds'18]: https://github.com/mdeff/ntds_2018\n",
    "\n",
    "* Team: `4` ([github repo](https://github.com/swouf/ntds_IMDb_team4))\n",
    "* Dataset: `IMDb Films and Crew`\n",
    "\n",
    "### Authors :\n",
    "+ [Julien Berger](mailto:juliengaetan.berger@epfl.ch)\n",
    "+ [Jérémy Jayet](mailto:jeremy.jayet@epfl.ch)\n",
    "+ [Hana Samet](mailto:hana.samet@epfl.ch)\n",
    "+ [Mathieu Shiva](mailto:mathieu.shiva@epfl.ch)"
   ]
  },
  {
   "cell_type": "markdown",
   "metadata": {},
   "source": [
    "## 0 - Import packages and data"
   ]
  },
  {
   "cell_type": "code",
   "execution_count": null,
   "metadata": {},
   "outputs": [],
   "source": [
    "%matplotlib inline\n",
    "\n",
    "import numpy as np\n",
    "import pandas as pd\n",
    "from scipy import sparse\n",
    "import scipy.sparse.linalg\n",
    "from matplotlib import pyplot as plt\n",
    "from pyunlocbox import functions, solvers\n",
    "import pygsp as pg\n",
    "import networkx as nx\n",
    "import logging\n",
    "import json\n",
    "import sys\n",
    "import seaborn as sns\n",
    "import collections\n",
    "\n",
    "logging.basicConfig(format='%(asctime)s | %(levelname)s : %(message)s',\n",
    "                     level=logging.INFO, stream=sys.stdout)\n",
    "\n",
    "import src.load_data as ldata\n",
    "import src.genre_graph as genre_graph\n",
    "import src.test_success as tsuccess"
   ]
  },
  {
   "cell_type": "markdown",
   "metadata": {},
   "source": [
    "## 1 - Clean the initial dataset and explore it"
   ]
  },
  {
   "cell_type": "markdown",
   "metadata": {},
   "source": [
    "The initial dataset is composed of two csv files. One contains informations about the movies, as seen in the cell below. It initialy contains 4803 movies, and 20 columns"
   ]
  },
  {
   "cell_type": "code",
   "execution_count": null,
   "metadata": {},
   "outputs": [],
   "source": [
    "initial_movies = pd.read_csv('./data/tmdb_5000_movies.csv')\n",
    "print(initial_movies.shape)\n",
    "initial_movies.head(3)"
   ]
  },
  {
   "cell_type": "markdown",
   "metadata": {},
   "source": [
    "The second csv file contains informations about the cast and the crew of all 4803 movies. The information is stored in json columns."
   ]
  },
  {
   "cell_type": "code",
   "execution_count": null,
   "metadata": {},
   "outputs": [],
   "source": [
    "initial_credits = pd.read_csv('./data/tmdb_5000_credits.csv')\n",
    "print(initial_credits.shape)\n",
    "initial_credits.head(3)"
   ]
  },
  {
   "cell_type": "markdown",
   "metadata": {},
   "source": [
    "As both csv files contain columns that have a json format, we first have to expend them. This is achieved by our function load_dataframe, which returns a cleaner version of the movies dataframe and a \"people\" dataframe that contains an extended list of the people in the dataset."
   ]
  },
  {
   "cell_type": "code",
   "execution_count": null,
   "metadata": {},
   "outputs": [],
   "source": [
    "(movies,people) = ldata.load_dataframes();"
   ]
  },
  {
   "cell_type": "markdown",
   "metadata": {},
   "source": [
    "For the movies dataframe, we removed movies that were missing information about their revenue or their budget, thus we only have 3229 movies left. We expended the genre column which was previously a json column, and assigned and id to each genre (present in the column \"genre\"). The name of the genre is kept in the column \"genres_names\". We added the return on investment under the \"ROI\" column ($ROI=\\frac{revenue-budget}{budget}$), and a success column which has a value of 1 if the ROI of the movie is superior to 0.5 and a value of 0 otherwise. We also changed the ID of the movies, by changing to values between 0 and 4802."
   ]
  },
  {
   "cell_type": "code",
   "execution_count": null,
   "metadata": {},
   "outputs": [],
   "source": [
    "print(movies.shape)\n",
    "movies.head(3)"
   ]
  },
  {
   "cell_type": "markdown",
   "metadata": {},
   "source": [
    "For the people dataframe, we expended the json format and made a list that contains 1 row for each role or job. Their are 193655 rows (combination of actor or crew and their job in the movie), but only 87106 unique people (for example if Bruce Willis played 10 different roles, their will be 10 different rows for Bruce Willis, but each one will have a unique id.)."
   ]
  },
  {
   "cell_type": "code",
   "execution_count": null,
   "metadata": {},
   "outputs": [],
   "source": [
    "print(people.shape)\n",
    "print(people['name'].unique().shape)\n",
    "people.head(3)"
   ]
  },
  {
   "cell_type": "markdown",
   "metadata": {},
   "source": [
    "We then realized that only a few of the ROI had high values (above 10), while the rest of the movies had values very close to 1, which created issues when we wanted to plot them. We thus filtered them."
   ]
  },
  {
   "cell_type": "code",
   "execution_count": null,
   "metadata": {},
   "outputs": [],
   "source": [
    "print('The 10 largest ROI are \\n {}'.format(movies['ROI'].nlargest(10)))\n",
    "print('The number of ROI values which are larger than 10 is {}'.format(movies['ROI'][movies['ROI']>10].count()))\n",
    "print('The average ROI is {}'.format(movies['ROI'].mean()))\n",
    "print('The median ROI is {}'.format(movies['ROI'].median()))"
   ]
  },
  {
   "cell_type": "code",
   "execution_count": null,
   "metadata": {},
   "outputs": [],
   "source": [
    "filter_ROI=movies['ROI'].copy()\n",
    "filter_ROI[filter_ROI>10]=10\n",
    "movies['ROI']=filter_ROI"
   ]
  },
  {
   "cell_type": "markdown",
   "metadata": {},
   "source": [
    "We created a list that allowed to make the conversion between the movies genres and the genre ID that we assigned them"
   ]
  },
  {
   "cell_type": "code",
   "execution_count": null,
   "metadata": {},
   "outputs": [],
   "source": [
    "list_genres=movies[['genres_names','genres']].copy()\n",
    "list_genres=list_genres.drop_duplicates()\n",
    "list_genres=list_genres.set_index('genres') \n",
    "list_genres"
   ]
  },
  {
   "cell_type": "markdown",
   "metadata": {},
   "source": [
    "We plotted at the histograms for the budget, the revenue and the ROI, and observed that they all had tails-like distributions. Additionaly, for the ROI, it is important to note that a fair amount of movies havenegative values, meaning that had revenues that were smaller than their budget."
   ]
  },
  {
   "cell_type": "code",
   "execution_count": null,
   "metadata": {},
   "outputs": [],
   "source": [
    "fig=plt.figure(figsize = (5,5))\n",
    "movies.budget.plot(kind='hist', bins = 20)\n",
    "plt.title('Budget of all movies')\n",
    "plt.show()\n",
    "fig.savefig('./pictures/budgets.png')\n",
    "\n",
    "fig2=plt.figure(figsize = (5,5))\n",
    "movies.revenue.plot(kind='hist', bins = 80)\n",
    "plt.title('Revenue of all movies')\n",
    "plt.axis([-0.05e9,1e9,0,1400])\n",
    "plt.show()\n",
    "fig2.savefig('./pictures/revenue.png')\n",
    "\n",
    "fig3=plt.figure(figsize = (5,5))\n",
    "movies.ROI.plot(kind='hist', bins = 40)\n",
    "plt.title('ROI of all movies')\n",
    "plt.axis([-1.5,10,0,250])\n",
    "plt.show()\n",
    "fig3.savefig('./pictures/roi.png')"
   ]
  },
  {
   "cell_type": "markdown",
   "metadata": {},
   "source": [
    "We then looked at the different genres that we had, and looked at their repartition. We see that although their are 20 genres present in the dataset, only 7 genres have more than 100 movies. Drama, Comedy and Action represent 61% of the movies."
   ]
  },
  {
   "cell_type": "code",
   "execution_count": null,
   "metadata": {},
   "outputs": [],
   "source": [
    "genres_count=movies['genres_names'].value_counts()\n",
    "print(genres_count)"
   ]
  },
  {
   "cell_type": "code",
   "execution_count": null,
   "metadata": {},
   "outputs": [],
   "source": [
    "fig=plt.figure(figsize = (10,10))\n",
    "plt.pie(genres_count, autopct = lambda x:'{:1.0f}%'.format(x) if x > 1 else '',labeldistance=1.1,startangle=0,textprops={'fontsize': 15})\n",
    "plt.title('Percentage of the genres in the whole dataset',fontsize=20)\n",
    "plt.legend(genres_count,labels=movies['genres_names'].value_counts().index, bbox_to_anchor=(0.9,0.80), bbox_transform=plt.gcf().transFigure,prop={'size': 14})\n",
    "plt.show()\n",
    "fig.savefig('./pictures/pie.png')"
   ]
  },
  {
   "cell_type": "markdown",
   "metadata": {},
   "source": [
    "We looked in details at the different production companies, the number of movies that they were responsible and their ROI."
   ]
  },
  {
   "cell_type": "code",
   "execution_count": null,
   "metadata": {},
   "outputs": [],
   "source": [
    "production_companies = []\n",
    "movies.apply(lambda row: [x.update({'id': row['id']}) for x in row['production_companies']], axis=1);\n",
    "\n",
    "movies.production_companies.apply(lambda x: production_companies.extend(x))\n",
    "production_companies = pd.DataFrame(production_companies)\n",
    "\n",
    "production_companies['type'] = 'production_companies'\n",
    "production_companies=production_companies.drop_duplicates('id')\n",
    "production_companies['index']=production_companies['id']\n",
    "production_companies=production_companies.set_index('id') \n",
    "\n",
    "list_of_companies=production_companies['name'].unique()\n",
    "nb_companies=len(list_of_companies) # there are 753 production companies\n",
    "companies_names=production_companies['name'].copy()\n",
    "\n",
    "movies['companies_names']=companies_names\n",
    "factorized_names_companies = pd.factorize(movies['companies_names'])[0]\n",
    "\n",
    "movies['production_companies']=factorized_names_companies\n",
    "\n",
    "#the list that makes the conversion between companies names and their id\n",
    "list_companies=movies[['companies_names','production_companies']].copy()\n",
    "list_companies=list_companies.drop_duplicates()\n",
    "list_companies['id']=list_companies['production_companies']\n",
    "list_companies=list_companies.set_index('production_companies') \n",
    "\n",
    "data_companies=movies['companies_names'].value_counts().tolist()\n",
    "\n",
    "data_companies=pd.DataFrame(data_companies)\n",
    "list_companies['number_film']=data_companies\n",
    "list_companies\n",
    "data_companies_relevent=movies['companies_names'].value_counts()\n",
    "data_companies_relevent=data_companies_relevent[(data_companies_relevent> 30)]\n",
    "data_companies_relevent\n",
    "\n",
    "list_companies=list_companies.assign(ROI_TOT=0)\n",
    "   \n",
    "for i in range(0,753):\n",
    "    list_companies.at[i, 'ROI_TOT'] =sum(movies[movies['production_companies'] == i]['ROI'])\n",
    "\n",
    "\n",
    "print('Their are {} different production companies'.format(list_companies.shape[0]))\n",
    "list_companies.head(3)\n"
   ]
  },
  {
   "cell_type": "markdown",
   "metadata": {},
   "source": [
    "Although their are 754 production companies in the dataset, we see that only four of them are responsible for 52% of the movies"
   ]
  },
  {
   "cell_type": "code",
   "execution_count": null,
   "metadata": {},
   "outputs": [],
   "source": [
    "plt.figure(figsize = (10,10))\n",
    "plt.pie(data_companies_relevent, autopct = lambda x:'{:1.0f}%'.format(x) if x > 1 else '',labeldistance=1.1,startangle=0,textprops={'fontsize': 15})\n",
    "plt.title('Percentage of the companies in the whole dataset',fontsize=20)\n",
    "plt.legend(data_companies_relevent,labels=movies['companies_names'].value_counts().index, bbox_to_anchor=(0.9,0.80), bbox_transform=plt.gcf().transFigure,prop={'size': 14})\n",
    "plt.show()"
   ]
  },
  {
   "cell_type": "code",
   "execution_count": null,
   "metadata": {},
   "outputs": [],
   "source": [
    "plt.figure(figsize=(15, 10))\n",
    "plt.scatter(list_companies['id'],list_companies['ROI_TOT'])\n",
    "plt.scatter(list_companies['id'],list_companies['number_film'])\n",
    "plt.title('The total ROI for each production company and the respective number of movies ',fontsize=10);\n",
    "plt.xlabel('Production companies')\n",
    "plt.ylabel('Number of movies ')\n",
    "plt.show()"
   ]
  },
  {
   "cell_type": "code",
   "execution_count": null,
   "metadata": {},
   "outputs": [],
   "source": [
    "list_companies_succesful=list_companies[list_companies['ROI_TOT'] >80]\n",
    "\n",
    "plt.figure(figsize=(15, 10))\n",
    "\n",
    "plt.scatter(list_companies_succesful['id'],list_companies_succesful['ROI_TOT'])\n",
    "plt.scatter(list_companies_succesful['id'],list_companies_succesful['number_film'])\n",
    "plt.title('The total ROI for the most successful  production company and the respective number of movies ',fontsize=10);\n",
    "plt.xlabel('Production companies')\n",
    "plt.ylabel('Number of movies ')\n",
    "plt.show()"
   ]
  },
  {
   "cell_type": "markdown",
   "metadata": {},
   "source": [
    "## 2 - Create the feature matrix and a graph using the actors"
   ]
  },
  {
   "cell_type": "markdown",
   "metadata": {},
   "source": [
    "We wanted to create a graph of movies by connecting them if they had similar actors. For that we created a function that uses the movies and the people dataframes, and return a dataframe with one row for each person. The first three columns contain the ID of the person, their name and the average rating of all their movies. Then their are 3229 columns, one for each movie, and the value of a cell is equal to 1 if the person worked on this movie (either as a cast or a crew), and 0 if the person did not. For this, we only kept the people that had worked on at least 5 movies, leaving us with 7940 people only. This was done to encure that our  graph would not be fully connected."
   ]
  },
  {
   "cell_type": "code",
   "execution_count": null,
   "metadata": {},
   "outputs": [],
   "source": [
    "#Used to create a new feature matrix\n",
    "#As the function takes some time to run, we saved the feature matrix and are simply loading it.\n",
    "#features_actors=ldata.create_features(movies,people);\n",
    "features=pd.read_csv('./data/test_actors_crew.csv')\n",
    "features = features.drop(features.columns[0],axis=1)\n",
    "print(features.shape)\n",
    "features.head(3)"
   ]
  },
  {
   "cell_type": "markdown",
   "metadata": {},
   "source": [
    "Then we created an adjacency matrix that links movies with actors and crew in common, however they need to have more than 1 person in common, to avoid a fully conected graph. The weight of the edges is equal to the number of people in common. We also did the same thing but using only the actors and not the crew. Both adjacency matrices are shown below."
   ]
  },
  {
   "cell_type": "code",
   "execution_count": null,
   "metadata": {},
   "outputs": [],
   "source": [
    "#As both function used to create the adjacency take some time to run, we saved the adjacency and simply load it.\n",
    "\n",
    "#Used to load the feature dataframe from a file, remove the useless columns and transpose it.\n",
    "#features_movies=ldata.load_features();\n",
    "\n",
    "#Used to create the adjacency matrix from the features\n",
    "#As the function takes some time to run, we saved the adjacency matrix and are simply loading it.\n",
    "#adjacency_test=ldata.make_adjacency_from_feature_matrix(features_movies)\n",
    "\n",
    "\n",
    "plt.figure(figsize=(20, 10))\n",
    "\n",
    "plt.subplot(121)\n",
    "adjacency_actors_crew=np.load('./data/adjacency_actors_crew.npy')\n",
    "plt.spy(adjacency_actors_crew, markersize=0.1)\n",
    "plt.title('adjacency matrix using actors and crew');\n",
    "\n",
    "plt.subplot(122)\n",
    "adjacency_actors_crew=np.load('./data/adjacency_actors_only.npy')\n",
    "plt.spy(adjacency_actors_crew, markersize=0.1)\n",
    "plt.title('adjacency matrix using only the actors');\n",
    "plt.show()"
   ]
  },
  {
   "cell_type": "markdown",
   "metadata": {},
   "source": [
    "For the rest of the project, we decided to use the adjacency matrix with actors and the crew, however as both adjacency matrices were saved they can be easily swapped if needed. We then created a graph using this adjacency matrix. As shown below, there are many unconnected movies (338 connected componenents in total), so we decided to use the giant component for the next steps."
   ]
  },
  {
   "cell_type": "code",
   "execution_count": null,
   "metadata": {},
   "outputs": [],
   "source": [
    "#We decided to use the adjacency with actors and the crew, but the one with actors only can be used if needed.\n",
    "#adjacency_actors=np.load('./data/adjacency_actors_only.npy')\n",
    "adjacency_actors=np.load('./data/adjacency_actors_crew.npy')\n",
    "\n",
    "G = nx.from_numpy_matrix(adjacency_actors)\n",
    "print('The number of connected components is {}'.format(nx.number_connected_components(G)))\n",
    "coords = nx.spring_layout(G,k=0.03)  # Force-directed layout.\n",
    "labels = movies['genres'].iloc[np.sort(nx.nodes(G))]\n",
    "\n",
    "fig=plt.figure(figsize=(15, 10))\n",
    "im=nx.draw_networkx_nodes(G, coords, node_size=10,node_color=labels, cmap='tab20',vmin=0, vmax=20)\n",
    "nx.draw_networkx_edges(G, coords, alpha=0.1, width=0.7)\n",
    "plt.title('Movies connected by at least 2 common actors, the colors represent the different movie genres')\n",
    "plt.colorbar(im);\n",
    "fig.savefig('./pictures/graph1.png')"
   ]
  },
  {
   "cell_type": "markdown",
   "metadata": {},
   "source": [
    "We plot the giant component and see that it contains 2883 movies. We also plot it with only the three most represented movie genres (Action, Drama and Comedy)"
   ]
  },
  {
   "cell_type": "code",
   "execution_count": null,
   "metadata": {},
   "outputs": [],
   "source": [
    "Gc = max(nx.connected_component_subgraphs(G), key=len)\n",
    "coords_Gc = nx.spring_layout(Gc,k=0.03)  # Force-directed layout.\n",
    "\n",
    "print('The number of nodes is is {}'.format(Gc.number_of_nodes()))\n",
    "labels = movies['genres'].iloc[np.sort(nx.nodes(Gc))]\n",
    "fig=plt.figure(figsize=(15, 10))\n",
    "im=nx.draw_networkx_nodes(Gc, coords_Gc, node_size=10,node_color=labels, cmap='tab20',vmin=0, vmax=20)\n",
    "nx.draw_networkx_edges(Gc, coords_Gc, alpha=0.1, width=0.7)\n",
    "plt.title('Giant component of the movies connected by at least 2 common actors')\n",
    "plt.colorbar(im);\n",
    "fig.savefig('./pictures/graph1.png')\n",
    "\n",
    "#We mask the movies which do no belong to the 3 most represented genres\n",
    "masked_labels=labels.copy()\n",
    "masked_labels[masked_labels<30]=30\n",
    "masked_labels[labels==0]=0\n",
    "masked_labels[labels==5]=5\n",
    "masked_labels[labels==8]=8\n",
    "masked_labels[masked_labels>10]=np.nan\n",
    "\n",
    "#action = 0 = blue\n",
    "#drama = 5 = red\n",
    "#comedy = 8= green\n",
    "\n",
    "fig2=plt.figure(figsize=(15, 10))\n",
    "im=nx.draw_networkx_nodes(Gc, coords_Gc, node_size=10,node_color=masked_labels, cmap='brg',vmin=0, vmax=8)\n",
    "nx.draw_networkx_edges(Gc, coords_Gc, alpha=0.1, width=0.7)\n",
    "plt.title('Movies connected by at least 2 common actors with only action (blue), drama(red) and comedy (green)')\n",
    "plt.colorbar(im);\n",
    "fig2.savefig('./pictures/graph2.png')\n"
   ]
  },
  {
   "cell_type": "markdown",
   "metadata": {},
   "source": [
    "We can then use this graph to represen different signal, for example the average rating of each movie, or the success rate.\n",
    "As seen on both graphs below, there are no distinct communities of movies that are grouped with the same rating or success rate."
   ]
  },
  {
   "cell_type": "code",
   "execution_count": null,
   "metadata": {},
   "outputs": [],
   "source": [
    "labels = movies['vote_average'].iloc[np.sort(nx.nodes(Gc))]\n",
    "plt.figure(figsize=(15, 10))\n",
    "im=nx.draw_networkx_nodes(Gc, coords_Gc, node_size=10,node_color=labels, cmap='PiYG')\n",
    "nx.draw_networkx_edges(Gc, coords_Gc, alpha=0.1, width=0.7)\n",
    "plt.title('Giant component graph of the vote average')\n",
    "plt.colorbar(im);"
   ]
  },
  {
   "cell_type": "code",
   "execution_count": null,
   "metadata": {},
   "outputs": [],
   "source": [
    "labels = movies['success'].iloc[np.sort(nx.nodes(Gc))]\n",
    "plt.figure(figsize=(15, 10))\n",
    "im=nx.draw_networkx_nodes(Gc, coords_Gc, node_size=10,node_color=labels, cmap='PiYG')\n",
    "nx.draw_networkx_edges(Gc, coords_Gc, alpha=0.1, width=0.7)\n",
    "plt.title('Giant component graph of the vote average')\n",
    "plt.colorbar(im);"
   ]
  },
  {
   "cell_type": "markdown",
   "metadata": {},
   "source": [
    "## 3 - Separation into decades"
   ]
  },
  {
   "cell_type": "markdown",
   "metadata": {},
   "source": [
    "Our initial idea was to look at the evolution of the movie industry throughout the years. For that, we split the dataset into 6 different subset, one from each decade, from 1960 to 2020. As there was only a few movies from before 1960 in the dataset, we decided not to use them."
   ]
  },
  {
   "cell_type": "code",
   "execution_count": null,
   "metadata": {},
   "outputs": [],
   "source": [
    "numberOfDecades = 6\n",
    "\n",
    "moviesFilteredByYears = []\n",
    "\n",
    "for i in range(numberOfDecades):\n",
    "    decade = 1960 + i*10\n",
    "    decadeEnd = decade + 10\n",
    "    moviesFilteredByYears.append(ldata.filter_movies_by_years(movies, pd.to_datetime(f'{decade}-01-01').date(), pd.to_datetime(f'{decadeEnd}-01-01').date()))"
   ]
  },
  {
   "cell_type": "markdown",
   "metadata": {},
   "source": [
    "We created the same graphs, connecting movies that have actors or crew in common, but for each decade. This was achieved by keeping only the desired rows and columns of the complete adjacency matrix. Below are shown the 6 different adjacency matrices, the corresponding complete graphs and giant component graphs. We see that the number of movies increases with each deacde (with the exception of 2010-2020, since it is not over yet)"
   ]
  },
  {
   "cell_type": "code",
   "execution_count": null,
   "metadata": {},
   "outputs": [],
   "source": [
    "adjacency=np.load('./data/adjacency_actors_crew.npy')\n",
    "moviesFilteredByYears\n",
    "for i in range(numberOfDecades):\n",
    "    \n",
    "    decade = 1960 + i*10\n",
    "    decadeEnd = decade + 10\n",
    "    \n",
    "    #We filter the entire adjacency matrix, by keeping only the rows and columns corresponding to the movies in the decade.\n",
    "    id_to_keep=moviesFilteredByYears[i].index\n",
    "    adjacency_id= movies.loc[:, ['id']]\n",
    "    adjacency_id['id_order']=np.arange(movies.shape[0])\n",
    "    adjacency_id=adjacency_id.loc[adjacency_id['id'].isin(id_to_keep)]\n",
    "    \n",
    "    lines_to_keep=adjacency_id['id_order']\n",
    "    adjacency_tot=adjacency.copy()\n",
    "    adjacency_decade_filtered=adjacency_tot[lines_to_keep,:]\n",
    "    adjacency_decade_filtered=adjacency_decade_filtered[:,lines_to_keep]\n",
    "    \n",
    "    plt.figure(figsize=(28, 7))\n",
    "    plt.subplot(131)\n",
    "    plt.spy(adjacency_decade_filtered, markersize=1)\n",
    "    plt.title('Adjacency for the years {} to {}'.format(decade, decadeEnd))\n",
    "    \n",
    "    G_decade = nx.from_numpy_matrix(adjacency_decade_filtered)\n",
    "    coords_decade = nx.spring_layout(G_decade,k=0.03)  \n",
    "    labels = moviesFilteredByYears[i]['genres'].iloc[np.sort(nx.nodes(G_decade))]\n",
    "    \n",
    "    plt.subplot(132)\n",
    "    im=nx.draw_networkx_nodes(G_decade, coords_decade, node_size=10,node_color=labels, cmap='tab20',vmin=0, vmax=20)\n",
    "    nx.draw_networkx_edges(G_decade, coords_decade, alpha=0.1, width=0.7)\n",
    "    plt.title('Complete graph of common actors, with {} connected components'.format(nx.number_connected_components(G_decade)))\n",
    "    plt.colorbar(im);\n",
    "    \n",
    "    Gc_decade = max(nx.connected_component_subgraphs(G_decade), key=len)\n",
    "    nb_edges_gc=Gc_decade.number_of_edges()\n",
    "    nb_nodes_gc=Gc_decade.number_of_nodes()\n",
    "    coords_decade_Gc = nx.spring_layout(Gc_decade,k=0.03)  \n",
    "    labels = moviesFilteredByYears[i]['genres'].iloc[np.sort(nx.nodes(Gc_decade))]\n",
    "    \n",
    "    plt.subplot(133)\n",
    "    im=nx.draw_networkx_nodes(Gc_decade, coords_decade_Gc, node_size=10,node_color=labels, cmap='tab20',vmin=0, vmax=20)\n",
    "    nx.draw_networkx_edges(Gc_decade, coords_decade_Gc, alpha=0.1, width=0.7)\n",
    "    plt.title('Giant component graph, with {} edges and {} nodes'.format(nb_edges_gc,nb_nodes_gc))\n",
    "    plt.colorbar(im);"
   ]
  },
  {
   "cell_type": "markdown",
   "metadata": {},
   "source": [
    "Then, we used the budget and the revenue of the movies, to make additional adjacency matrices for each decade. We built them in our function \"make_budget_based_adjacency\", using similarities between the budget and genres. Then all the graphs and adjacency matrices are stocked for later use. We also show the weights distribution that are used to build the 6 different adjacency matrices."
   ]
  },
  {
   "cell_type": "code",
   "execution_count": null,
   "metadata": {},
   "outputs": [],
   "source": [
    "#We append the information for each decade\n",
    "adjacenciesFilteredByYears = []\n",
    "moviesByBudgetFilteredByYears = []\n",
    "graphsFilteredByYears = []\n",
    "\n",
    "for moviesData in moviesFilteredByYears:\n",
    "    (adjacency, moviesByBudget) = ldata.make_budget_based_adjacency(moviesData);\n",
    "    adjacenciesFilteredByYears.append(adjacency);\n",
    "    moviesByBudgetFilteredByYears.append(moviesByBudget)\n",
    "    graphsFilteredByYears.append(pg.graphs.Graph(adjacency))"
   ]
  },
  {
   "cell_type": "code",
   "execution_count": null,
   "metadata": {},
   "outputs": [],
   "source": [
    "voteAvrgFtFilteredByYears = []\n",
    "voteAvrgFilteredByYears = []\n",
    "\n",
    "for i in range(len(graphsFilteredByYears)):\n",
    "    voteAvrgFilteredByYears.append((moviesByBudgetFilteredByYears[i])['vote_average'].copy())\n",
    "    (graphsFilteredByYears[i]).compute_fourier_basis()\n",
    "    voteAvrgFtFilteredByYears.append(graphsFilteredByYears[i].gft((voteAvrgFilteredByYears[i]).values))"
   ]
  },
  {
   "cell_type": "markdown",
   "metadata": {},
   "source": [
    "Now that we have filter our movies by decades, we can look at the correlation between the budget, the revenue, the vote average, the popularity and the return of investments. By plotting one correlation heatmap per decade, we can observe how the correlation evolved over the years."
   ]
  },
  {
   "cell_type": "code",
   "execution_count": null,
   "metadata": {},
   "outputs": [],
   "source": [
    "for i in range(len(graphsFilteredByYears)):\n",
    "    decade = 1960 + i*10\n",
    "    decadeEnd = decade + 10\n",
    "    plt.figure(figsize=(5, 5))\n",
    "    plt.title('Correlation heatmap, for the years {} to {}'.format(decade,decadeEnd))\n",
    "    data= moviesByBudgetFilteredByYears[i].loc[:, ['budget', 'revenue','vote_average','popularity','ROI']]\n",
    "    sns.heatmap(data=data.corr(),annot=True)"
   ]
  },
  {
   "cell_type": "markdown",
   "metadata": {},
   "source": [
    "We also wanted to see if there was a more general correlation over the years between the revenue and the budget of movies and the global economy.\n",
    "In the following section, we will try to visualize the **evolution in the average revenue** of the movies through years."
   ]
  },
  {
   "cell_type": "code",
   "execution_count": null,
   "metadata": {},
   "outputs": [],
   "source": [
    "nb_movies = movies['release_date'].values.shape[0]\n",
    "\n",
    "#creating a matrix containing the movie's year and its revenue and budget.\n",
    "rev_per_year = np.zeros((nb_movies,4))\n",
    "for i in range(nb_movies):\n",
    "    rev_per_year[i,0]=movies['release_date'].values[i].year\n",
    "    rev_per_year[i,1]=movies['revenue'].values[i]\n",
    "    rev_per_year[i,2]=movies['budget'].values[i]\n",
    "    rev_per_year[i,3]=movies['ROI'].values[i]\n",
    "\n",
    "years = np.unique(rev_per_year[:,0])\n",
    "average_rev_per_year = np.zeros((years.shape[0],4))\n",
    "\n",
    "#taking the average revenue of all the movies filmed in the same year\n",
    "rev=0\n",
    "bud=0\n",
    "roi=0\n",
    "for j in range(years.shape[0]):\n",
    "    n = 0\n",
    "    for i in range(nb_movies):\n",
    "        if rev_per_year[i,0] == years[j] and ~np.isnan(rev_per_year[i,0]):\n",
    "            rev = rev+rev_per_year[i,1]\n",
    "            bud = bud+rev_per_year[i,2]\n",
    "            roi = roi+rev_per_year[i,3]\n",
    "            n = n+1\n",
    "    average_rev_per_year[j,0]=years[j]\n",
    "    average_rev_per_year[j,1]= rev/n\n",
    "    average_rev_per_year[j,2]= bud/n\n",
    "    average_rev_per_year[j,3]= roi/n\n",
    "\n",
    "#removing the last nan row\n",
    "average_rev_per_year=average_rev_per_year[:-2,:]"
   ]
  },
  {
   "cell_type": "markdown",
   "metadata": {},
   "source": [
    "Now we can try to see if there is any correlation between the economy (here represented by the **S&P500** (index representing the 500 largest US companies) average yearly value) and the movies universe. The question we're trying to answer is if the economic crisis affect the movies industry or not.\n",
    "The historical data of S&P 500 (index GSPC) will be recuperated via Yahoo finance."
   ]
  },
  {
   "cell_type": "code",
   "execution_count": null,
   "metadata": {},
   "outputs": [],
   "source": [
    "#The GSPC cvs file was recuperated via Yahoo finance\n",
    "gspc=pd.read_csv('./data/GSPC.csv')\n",
    "gspc_av_yearlyclose = np.zeros((2017-1950+1,2))\n",
    "for i in range(gspc_av_yearlyclose.shape[0]):\n",
    "    gspc_av_yearlyclose[i,0]=1950+i\n",
    "    gspc_av_yearlyclose[i,1]=np.mean(gspc['Close'].values[12*(i+1)-12:12*(i+1)])"
   ]
  },
  {
   "cell_type": "code",
   "execution_count": null,
   "metadata": {},
   "outputs": [],
   "source": [
    "plt.figure(figsize=(20, 10))\n",
    "plt.title('Evolution of the revenue, the budget and the GSPC')\n",
    "plt.xlabel('Year')\n",
    "plt.ylabel('Dollars')\n",
    "plt.plot(average_rev_per_year[:,0],average_rev_per_year[:,1], label='revenue')\n",
    "plt.plot(average_rev_per_year[:,0],average_rev_per_year[:,2], label='budget')\n",
    "plt.plot(gspc_av_yearlyclose[:,0],gspc_av_yearlyclose[:,1]*1000000, label='GSPC')\n",
    "plt.legend(loc='upper left')\n",
    "plt.show()"
   ]
  },
  {
   "cell_type": "markdown",
   "metadata": {},
   "source": [
    "Now let's go back to the adjacency matrices of each decade\n",
    "We now create the coordinates of the budget and revenue based graphs, and the coordinates of their giant components. Below are shown the 6 different adjacency matrices, the corresponding complete graphs and giant component graphs. We see that the number of movies increases with each deacde (with the exception of 2010-2020, since it is not over yet). As expected from such graphs based on distances, they have have long shapes."
   ]
  },
  {
   "cell_type": "code",
   "execution_count": null,
   "metadata": {},
   "outputs": [],
   "source": [
    "i = 0\n",
    "GCgraphsFilteredByYears=[]\n",
    "GgraphsFilteredByYears=[]\n",
    "CoordsGcSpringFilteredByYears=[]\n",
    "CoordsSpringFilteredByYears=[]\n",
    "\n",
    "for G in graphsFilteredByYears:  \n",
    "    #Creation of the coordinate of all the graphs and their giant components\n",
    "    full_G = nx.from_numpy_matrix(adjacenciesFilteredByYears[i])\n",
    "    GgraphsFilteredByYears.append(full_G)\n",
    "    Gc = max(nx.connected_component_subgraphs(full_G), key=len)\n",
    "    GCgraphsFilteredByYears.append(Gc)\n",
    "    CoordsGcSpringFilteredByYears.append(nx.spring_layout(Gc,k=0.03))\n",
    "    CoordsSpringFilteredByYears.append(nx.spring_layout(full_G,k=0.03))\n",
    "    i = i+1"
   ]
  },
  {
   "cell_type": "code",
   "execution_count": null,
   "metadata": {},
   "outputs": [],
   "source": [
    "for i in range(numberOfDecades):\n",
    "    \n",
    "    decade = 1960 + i*10\n",
    "    decadeEnd = decade + 10\n",
    "    \n",
    "    adjacencyDecade=adjacenciesFilteredByYears[i]\n",
    "    G_decade=GgraphsFilteredByYears[i]\n",
    "    coords_decade=CoordsSpringFilteredByYears[i]\n",
    "    \n",
    "    Gc_decade=GCgraphsFilteredByYears[i]\n",
    "    coords_decade_Gc=CoordsSpringFilteredByYears[i]\n",
    "    \n",
    "    plt.figure(figsize=(28, 7))\n",
    "    plt.subplot(131)\n",
    "    plt.spy(adjacencyDecade, markersize=1)\n",
    "    plt.title('Adjacency for the years {} to {}'.format(decade, decadeEnd))   \n",
    "    \n",
    "    labels = moviesFilteredByYears[i]['genres'].iloc[np.sort(nx.nodes(G_decade))]\n",
    "    plt.subplot(132)\n",
    "    im=nx.draw_networkx_nodes(G_decade, coords_decade, node_size=10,node_color=labels, cmap='tab20',vmin=0, vmax=20)\n",
    "    nx.draw_networkx_edges(G_decade, coords_decade, alpha=0.1, width=0.7)\n",
    "    plt.title('Complete graph of common actors, with {} connected components'.format(nx.number_connected_components(G_decade)))\n",
    "    plt.colorbar(im);\n",
    "    \n",
    "    nb_edges_gc=Gc_decade.number_of_edges()\n",
    "    nb_nodes_gc=Gc_decade.number_of_nodes()\n",
    "    labels = moviesFilteredByYears[i]['genres'].iloc[np.sort(nx.nodes(Gc_decade))]\n",
    "    plt.subplot(133)\n",
    "    im=nx.draw_networkx_nodes(Gc_decade, coords_decade_Gc, node_size=10,node_color=labels, cmap='tab20',vmin=0, vmax=20)\n",
    "    nx.draw_networkx_edges(Gc_decade, coords_decade_Gc, alpha=0.1, width=0.7)\n",
    "    plt.title('Giant component graph, with {} edges and {} nodes'.format(nb_edges_gc,nb_nodes_gc))\n",
    "    plt.colorbar(im);"
   ]
  },
  {
   "cell_type": "markdown",
   "metadata": {},
   "source": [
    "Then, by using these giant components graphs, we can plot different signals on them and compare them. Below are the budget in comparison with the movie genre. We can see that there are no communities formed by the movie genres."
   ]
  },
  {
   "cell_type": "code",
   "execution_count": null,
   "metadata": {},
   "outputs": [],
   "source": [
    "i = 0\n",
    "for G in GCgraphsFilteredByYears:\n",
    "    \n",
    "    decade = 1960 + i*10\n",
    "    decadeEnd = decade + 10\n",
    "    \n",
    "    plt.figure(figsize=(20, 8))\n",
    "    \n",
    "    plt.subplot(121)\n",
    "    labels = moviesByBudgetFilteredByYears[i]['genres'].iloc[np.sort(nx.nodes(G))]\n",
    "    coords_spring=CoordsSpringFilteredByYears[i]\n",
    "    im=nx.draw_networkx_nodes(G, coords_spring, node_size=10, node_color=labels, cmap='tab20',vmin=0, vmax=20)\n",
    "    nx.draw_networkx_edges(G, coords_spring, alpha=0.1, width=0.7)\n",
    "    plt.title('Genre of movies for the years {} to {}'.format(decade,decadeEnd))\n",
    "    plt.colorbar(im);\n",
    "    \n",
    "    plt.subplot(122)\n",
    "    labels = moviesByBudgetFilteredByYears[i]['budget'].iloc[np.sort(nx.nodes(G))]\n",
    "    coords_spring=CoordsSpringFilteredByYears[i]\n",
    "    im=nx.draw_networkx_nodes(G, coords_spring, node_size=10, node_color=labels, cmap='PiYG')\n",
    "    nx.draw_networkx_edges(G, coords_spring, alpha=0.1, width=0.7)\n",
    "    plt.title('Budget for the years {} to {}'.format(decade,decadeEnd))\n",
    "    plt.colorbar(im);\n",
    "        \n",
    "    i=i+1\n",
    "    "
   ]
  },
  {
   "cell_type": "markdown",
   "metadata": {},
   "source": [
    "#### Here we can look at the budget and the revenue together.\n",
    "This allows us to better observe the correlation that exist between them."
   ]
  },
  {
   "cell_type": "code",
   "execution_count": null,
   "metadata": {},
   "outputs": [],
   "source": [
    "i = 0\n",
    "for G in GCgraphsFilteredByYears:\n",
    "    \n",
    "    plt.figure(figsize=(20, 8))\n",
    "    plt.subplot(121)\n",
    "    labels = moviesByBudgetFilteredByYears[i]['budget'].iloc[np.sort(nx.nodes(G))]\n",
    "    coords_spring=CoordsSpringFilteredByYears[i]\n",
    "    im=nx.draw_networkx_nodes(G, coords_spring, node_size=10, node_color=labels, cmap='PiYG')\n",
    "    nx.draw_networkx_edges(G, coords_spring, alpha=0.1, width=0.7)\n",
    "    plt.title('Budget for the years {} to {}'.format(decade,decadeEnd))\n",
    "    plt.colorbar(im);\n",
    "    \n",
    "    plt.subplot(122)\n",
    "    labels = moviesByBudgetFilteredByYears[i]['revenue'].iloc[np.sort(nx.nodes(G))]\n",
    "    coords_spring=CoordsSpringFilteredByYears[i]\n",
    "    im=nx.draw_networkx_nodes(G, coords_spring, node_size=10, node_color=labels, cmap='PiYG')\n",
    "    nx.draw_networkx_edges(G, coords_spring, alpha=0.1, width=0.7)\n",
    "    plt.title('Revenue for the years {} to {}'.format(decade,decadeEnd))\n",
    "    plt.colorbar(im);\n",
    "        \n",
    "    i=i+1"
   ]
  },
  {
   "cell_type": "markdown",
   "metadata": {},
   "source": [
    "#### Finaly we can look at the budget and the vote average.\n",
    "We can see that the vote average is not dependent on the budget, as the ratings are similar in the entire graph."
   ]
  },
  {
   "cell_type": "code",
   "execution_count": null,
   "metadata": {},
   "outputs": [],
   "source": [
    "i = 0\n",
    "for G in GCgraphsFilteredByYears:\n",
    "    \n",
    "    decade = 1960 + i*10\n",
    "    decadeEnd = decade + 10\n",
    "    \n",
    "    plt.figure(figsize=(20, 8))\n",
    "    plt.subplot(121)\n",
    "    labels = moviesByBudgetFilteredByYears[i]['budget'].iloc[np.sort(nx.nodes(G))]\n",
    "    coords_spring=CoordsSpringFilteredByYears[i]\n",
    "    im=nx.draw_networkx_nodes(G, coords_spring, node_size=10, node_color=labels, cmap='PiYG')\n",
    "    nx.draw_networkx_edges(G, coords_spring, alpha=0.1, width=0.7)\n",
    "    plt.title('Budget for the years {} to {}'.format(decade,decadeEnd))\n",
    "    plt.colorbar(im);\n",
    "    \n",
    "    plt.subplot(122)\n",
    "    labels = moviesByBudgetFilteredByYears[i]['vote_average'].iloc[np.sort(nx.nodes(G))]\n",
    "    coords_spring=CoordsSpringFilteredByYears[i]\n",
    "    im=nx.draw_networkx_nodes(G, coords_spring, node_size=10, node_color=labels, cmap='RdYlGn')\n",
    "    nx.draw_networkx_edges(G, coords_spring, alpha=0.1, width=0.7)\n",
    "    plt.title('Vote average for the years {} to {}'.format(decade,decadeEnd))\n",
    "    plt.colorbar(im);\n",
    "        \n",
    "    i=i+1"
   ]
  },
  {
   "cell_type": "markdown",
   "metadata": {},
   "source": [
    "#### As we considered the success rate, we can also look at it next to the budget.\n",
    "Here we can see that overall, movies with large budgets are all successfull, meaning that they are able to obtain a revenue of at least 150% of their budget. "
   ]
  },
  {
   "cell_type": "code",
   "execution_count": null,
   "metadata": {},
   "outputs": [],
   "source": [
    "i = 0\n",
    "for G in GCgraphsFilteredByYears:\n",
    "    \n",
    "    decade = 1960 + i*10\n",
    "    decadeEnd = decade + 10\n",
    "    \n",
    "    plt.figure(figsize=(20, 8))\n",
    "    plt.subplot(121)\n",
    "    labels = moviesByBudgetFilteredByYears[i]['budget'].iloc[np.sort(nx.nodes(G))]\n",
    "    coords_spring=CoordsSpringFilteredByYears[i]\n",
    "    im=nx.draw_networkx_nodes(G, coords_spring, node_size=10, node_color=labels, cmap='PiYG')\n",
    "    nx.draw_networkx_edges(G, coords_spring, alpha=0.1, width=0.7)\n",
    "    plt.title('Budget for the years {} to {}'.format(decade,decadeEnd))\n",
    "    plt.colorbar(im);\n",
    "    \n",
    "    plt.subplot(122)\n",
    "    labels = moviesByBudgetFilteredByYears[i]['success'].iloc[np.sort(nx.nodes(G))]\n",
    "    coords_spring=CoordsSpringFilteredByYears[i]\n",
    "    im=nx.draw_networkx_nodes(G, coords_spring, node_size=10, node_color=labels, cmap='RdYlGn')\n",
    "    nx.draw_networkx_edges(G, coords_spring, alpha=0.1, width=0.7)\n",
    "    plt.title('Success rate for the years {} to {}'.format(decade,decadeEnd))\n",
    "    plt.colorbar(im);\n",
    "        \n",
    "    i=i+1"
   ]
  },
  {
   "cell_type": "code",
   "execution_count": null,
   "metadata": {},
   "outputs": [],
   "source": []
  }
 ],
 "metadata": {
  "kernelspec": {
   "display_name": "Python 3",
   "language": "python",
   "name": "python3"
  },
  "language_info": {
   "codemirror_mode": {
    "name": "ipython",
    "version": 3
   },
   "file_extension": ".py",
   "mimetype": "text/x-python",
   "name": "python",
   "nbconvert_exporter": "python",
   "pygments_lexer": "ipython3",
   "version": "3.7.0"
  }
 },
 "nbformat": 4,
 "nbformat_minor": 2
}

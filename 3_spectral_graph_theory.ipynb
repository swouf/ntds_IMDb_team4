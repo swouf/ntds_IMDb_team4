{
 "cells": [
  {
   "cell_type": "markdown",
   "metadata": {},
   "source": [
    "# [NTDS'18] milestone 3: spectral graph theory\n",
    "[ntds'18]: https://github.com/mdeff/ntds_2018\n",
    "\n",
    "[Michaël Defferrard](http://deff.ch), [EPFL LTS2](https://lts2.epfl.ch)"
   ]
  },
  {
   "cell_type": "markdown",
   "metadata": {},
   "source": [
    "## Students\n",
    "\n",
    "* Team: `4`\n",
    "* Students: `Julien Berger, Jérémy Jayet, Hana Samet, Mathieu Shiva`\n",
    "* Dataset: `IMDb Films and Crew`"
   ]
  },
  {
   "cell_type": "markdown",
   "metadata": {},
   "source": [
    "## Rules\n",
    "\n",
    "* Milestones have to be completed by teams. No collaboration between teams is allowed.\n",
    "* Textual answers shall be short. Typically one to two sentences.\n",
    "* Code has to be clean.\n",
    "* You cannot import any other library than we imported.\n",
    "* When submitting, the notebook is executed and the results are stored. I.e., if you open the notebook again it should show numerical results and plots. We won't be able to execute your notebooks.\n",
    "* The notebook is re-executed from a blank state before submission. That is to be sure it is reproducible. You can click \"Kernel\" then \"Restart & Run All\" in Jupyter."
   ]
  },
  {
   "cell_type": "markdown",
   "metadata": {},
   "source": [
    "## Objective\n",
    "\n",
    "The goal of this milestone is to get familiar with the graph Laplacian and its spectral decomposition."
   ]
  },
  {
   "cell_type": "markdown",
   "metadata": {},
   "source": [
    "## 0 Load your network"
   ]
  },
  {
   "cell_type": "code",
   "execution_count": 1,
   "metadata": {},
   "outputs": [],
   "source": [
    "%matplotlib inline"
   ]
  },
  {
   "cell_type": "markdown",
   "metadata": {},
   "source": [
    "If you get a `No module named 'sklearn'` error when running the below cell, install [scikit-learn](https://scikit-learn.org) with `conda install scikit-learn` (after activating the `ntds_2018` environment)."
   ]
  },
  {
   "cell_type": "code",
   "execution_count": 2,
   "metadata": {},
   "outputs": [],
   "source": [
    "import numpy as np\n",
    "from scipy import sparse\n",
    "import scipy.sparse.linalg\n",
    "import matplotlib.pyplot as plt\n",
    "from sklearn.cluster import KMeans"
   ]
  },
  {
   "cell_type": "markdown",
   "metadata": {},
   "source": [
    "Let's denote your graph as $\\mathcal{G} = (\\mathcal{V}, \\mathcal{E}, A)$, where $\\mathcal{V}$ is the set of nodes, $\\mathcal{E}$ is the set of edges, $A \\in \\mathbb{R}^{N \\times N}$ is the (weighted) adjacency matrix, and $N = |\\mathcal{V}|$ is the number of nodes.\n",
    "\n",
    "Import the adjacency matrix $A$ that you constructed in the first milestone.\n",
    "(You're allowed to update it between milestones if you want to.)"
   ]
  },
  {
   "cell_type": "code",
   "execution_count": 3,
   "metadata": {},
   "outputs": [],
   "source": [
    "adjacency = np.load('./data/adjacency.npy')\n",
    "    \n",
    "#We calculate the number of nodes   \n",
    "n_nodes=adjacency.shape[0]\n",
    "\n",
    "#We make the matrix more sparse by removing the link between two people if they worked only on 1 movie together\n",
    "adjacency[adjacency <2]=0\n",
    "\n",
    "n_edges =  np.count_nonzero(adjacency)/2"
   ]
  },
  {
   "cell_type": "markdown",
   "metadata": {},
   "source": [
    "## 1 Graph Laplacian"
   ]
  },
  {
   "cell_type": "markdown",
   "metadata": {},
   "source": [
    "### Question 1\n",
    "\n",
    "From the (weighted) adjacency matrix $A$, compute both the combinatorial (also called unnormalized) and the normalized graph Laplacian matrices.\n",
    "\n",
    "Note: if your graph is weighted, use the weighted adjacency matrix. If not, use the binary adjacency matrix.\n",
    "\n",
    "For efficient storage and computation, store these sparse matrices in a [compressed sparse row (CSR) format](https://en.wikipedia.org/wiki/Sparse_matrix#Compressed_sparse_row_.28CSR.2C_CRS_or_Yale_format.29)."
   ]
  },
  {
   "cell_type": "code",
   "execution_count": 4,
   "metadata": {},
   "outputs": [],
   "source": [
    "np.seterr(divide='ignore')\n",
    "adjacency_csr= sparse.csr_matrix(adjacency)\n",
    "\n",
    "degree_csr= sparse.spdiags(np.sum(adjacency, axis=1),0,n_nodes,n_nodes)\n",
    "\n",
    "laplacian_combinatorial =degree_csr-adjacency_csr\n",
    "\n",
    "laplacian_normalized = degree_csr.power(-1/2)*laplacian_combinatorial*degree_csr.power(-1/2)"
   ]
  },
  {
   "cell_type": "markdown",
   "metadata": {},
   "source": [
    "Use one of them as the graph Laplacian $L$ for the rest of the milestone.\n",
    "We however encourage you to run the code with both to get a sense of the difference!"
   ]
  },
  {
   "cell_type": "code",
   "execution_count": 5,
   "metadata": {},
   "outputs": [],
   "source": [
    "laplacian =laplacian_normalized  # Either laplacian_combinatorial or laplacian_normalized."
   ]
  },
  {
   "cell_type": "markdown",
   "metadata": {},
   "source": [
    "### Question 2\n",
    "\n",
    "Compute the eigendecomposition of the Laplacian $L = U^\\top \\Lambda U$, where the columns $u_k \\in \\mathbb{R}^N$ of $U = [u_1, \\dots, u_N] \\in \\mathbb{R}^{N \\times N}$ are the eigenvectors and the diagonal elements $\\lambda_k = \\Lambda_{kk}$ are the corresponding eigenvalues.\n",
    "\n",
    "Make sure that the eigenvalues are ordered, i.e., $0 = \\lambda_1 \\leq \\lambda_2 \\leq \\dots \\leq \\lambda_N$."
   ]
  },
  {
   "cell_type": "code",
   "execution_count": 6,
   "metadata": {},
   "outputs": [],
   "source": [
    "eigenvalues, eigenvectors= np.linalg.eigh(laplacian.toarray())\n",
    "\n",
    "indx=np.argsort(eigenvalues)\n",
    "\n",
    "eigenvalues=eigenvalues[indx]\n",
    "eigenvectors=eigenvectors[:,indx]\n",
    "\n",
    "assert eigenvectors.shape == (n_nodes, n_nodes)"
   ]
  },
  {
   "cell_type": "markdown",
   "metadata": {},
   "source": [
    "Justify your choice of eigensolver."
   ]
  },
  {
   "cell_type": "markdown",
   "metadata": {},
   "source": [
    "We tried using *sparse.linalg.eigs* with the sparse matrix but it couldn't accept K bigger than n_nodes-2, so we couldn't compute all eigenvalues/vectors. Also *sparse.linalg.eigs* took a lot of time, more than 2 hours. *sparse.linalg.eigs* is a solver that is more appropriate for when you need only a limited subset of the eigenvalues/vectors.\n",
    "\n",
    "So, instead we used *np.linalg.eigh* which was a lot faster. Also, it takes the dense laplacian matrix and returns all of the eigenvalues/vectors."
   ]
  },
  {
   "cell_type": "markdown",
   "metadata": {},
   "source": [
    "### Question 3\n",
    "\n",
    "We can write $L = S S^\\top$. What is the matrix $S$? What does $S^\\top x$, with $x \\in \\mathbb{R}^N$, compute?"
   ]
  },
  {
   "cell_type": "markdown",
   "metadata": {},
   "source": [
    "S is the incidence matrix :\n",
    "\n",
    "S( i,j )= +1 if $e_j =(v_i,v_k)$ for some k \n",
    "\n",
    "or S( i,j )= -1 if $e_j =(v_k,v_i)$ for some k\n",
    "\n",
    "or S( i,j )=0 otherwise\n",
    "\n",
    "with $x \\in \\mathbb{R}^N$  $S^\\top x$ compute the gradient of x \n",
    "\n",
    "$S^\\top x \\in \\mathbb{R}^m$"
   ]
  },
  {
   "cell_type": "markdown",
   "metadata": {},
   "source": [
    "### Question 4\n",
    "\n",
    "Show that $\\lambda_k = \\| S^\\top u_k \\|_2^2$, where $\\| \\cdot \\|_2^2$ denotes the squared Euclidean norm (a.k.a. squared $L^2$ norm)."
   ]
  },
  {
   "cell_type": "markdown",
   "metadata": {},
   "source": [
    "$L= U Λ U^\\top$ when we replace $L = S S^\\top$ ans compute the equation for one eigenvalue and one eigenvector, we obtain $\\lambda_k =u_k  S S^\\top u_k^\\top$    = the squared euclidien norm of $S^\\top u_k$\n",
    "\n",
    "$u_k$ can be written as the inner product of the vector $S^\\top u_k$ with itself, which is the squared euclidien norm of $S^\\top u_k$, this shows that $u_k \\geq 0$ and that the eigenvalues of L are all non-negative."
   ]
  },
  {
   "cell_type": "markdown",
   "metadata": {},
   "source": [
    "What does the quantity $\\| S^\\top x \\|_2^2$ tell us about $x$?"
   ]
  },
  {
   "cell_type": "markdown",
   "metadata": {},
   "source": [
    "We know that $ x^\\top L x = \\frac{1}{2} \\sum_{i,j = 0}^{n_{nodes}}{w( i,j )(x_i - x_j)^2}$\n",
    "\n",
    "And since  $L = S S^\\top$  .We obtain  $ x^\\top S^\\top S x = \\frac{1}{2} \\sum_{i,j = 0}^{n_{nodes}}{w( i,j ) (x_i - x_j)^2 }$ \n",
    "\n",
    "So   $\\| S^\\top x \\|_2^2 = \\frac{1}{2} \\sum_{i,j = 0}^{n_{nodes}}{w( i,j ) (x_i - x_j)^2}$"
   ]
  },
  {
   "cell_type": "markdown",
   "metadata": {},
   "source": [
    "### Question 5\n",
    "\n",
    "What is the value of $u_0$, both for the combinatorial and normalized Laplacians?"
   ]
  },
  {
   "cell_type": "markdown",
   "metadata": {},
   "source": [
    "$u_0$ is the algebraic connectivity for both the combinatorial and normalized laplacians it's equal to zero and its multiplicity gives connectedness of graph. The dimension of the nullspace of L (the eigenspace of 0) is equal to the number of connected components of the underlying graph of G.\n",
    "The eigenvector associated with the algebraic connectivity has been named the *Fiedler vector*. The Fiedler vector can be used to partition a graph."
   ]
  },
  {
   "cell_type": "markdown",
   "metadata": {},
   "source": [
    "### Question 6\n",
    "\n",
    "Look at the spectrum of the Laplacian by plotting the eigenvalues.\n",
    "Comment on what you observe."
   ]
  },
  {
   "cell_type": "code",
   "execution_count": 7,
   "metadata": {},
   "outputs": [
    {
     "data": {
      "text/plain": [
       "Text(0.5, 1.0, 'Eigenvalues')"
      ]
     },
     "execution_count": 7,
     "metadata": {},
     "output_type": "execute_result"
    },
    {
     "data": {
      "image/png": "[encoded data removed]",
      "text/plain": [
       "<Figure size 432x288 with 1 Axes>"
      ]
     },
     "metadata": {},
     "output_type": "display_data"
    }
   ],
   "source": [
    "plt.plot(eigenvalues)\n",
    "plt.title('Eigenvalues')"
   ]
  },
  {
   "cell_type": "markdown",
   "metadata": {},
   "source": [
    "The plot of the Spectrum of the laplacien confirms the theory that all the eigenvalues are real and non-negative since L is real, symmetric and PSD. We can also see that the majority of eigenvalues are close to 1. Additionaly, we see that a certain number of eigenvalues are equal to 0, by counting them, we can count the number of connected components in the graph, and thus answer to the next question."
   ]
  },
  {
   "cell_type": "markdown",
   "metadata": {},
   "source": [
    "How many connected components are there in your graph? Answer using the eigenvalues only."
   ]
  },
  {
   "cell_type": "code",
   "execution_count": 8,
   "metadata": {},
   "outputs": [
    {
     "name": "stdout",
     "output_type": "stream",
     "text": [
      "There are 1 connected components.\n"
     ]
    }
   ],
   "source": [
    "number_connected_components=np.where(eigenvalues== 0)\n",
    "a = len(number_connected_components[0])\n",
    "print(f'There are {a} connected components.')"
   ]
  },
  {
   "cell_type": "markdown",
   "metadata": {},
   "source": [
    "Is there an upper bound on the eigenvalues, i.e., what is the largest possible eigenvalue? Answer for both the combinatorial and normalized Laplacians."
   ]
  },
  {
   "cell_type": "markdown",
   "metadata": {},
   "source": [
    "For the normalised Laplacian the largest possible eigenvalue is 2 . \n",
    "\n",
    "For the combinatorial Laplacian the upperbound on the eigenvalue is  $2 \\cdot \\Delta G$, with $\\Delta G$ being the largest degree of the Laplacian matrix."
   ]
  },
  {
   "cell_type": "markdown",
   "metadata": {},
   "source": [
    "## 3 Laplacian eigenmaps\n",
    "\n",
    "*Laplacian eigenmaps* is a method to embed a graph $\\mathcal{G}$ in a $d$-dimensional Euclidean space.\n",
    "That is, it associates a vector $z_i \\in \\mathbb{R}^d$ to every node $v_i \\in \\mathcal{V}$.\n",
    "The graph $\\mathcal{G}$ is thus embedded as $Z \\in \\mathbb{R}^{N \\times d}$."
   ]
  },
  {
   "cell_type": "markdown",
   "metadata": {},
   "source": [
    "### Question 7\n",
    "\n",
    "What do we use Laplacian eigenmaps for? (Or more generally, graph embeddings.)"
   ]
  },
  {
   "cell_type": "markdown",
   "metadata": {},
   "source": [
    "Laplacian eigenmaps is a technique used in order to dimentionally reduce the data. High dimentional data can be hard to visualize/interpret. Therefore if we assume that the data lies on an embedded manifold within the higher-dimensional space and if the manifold is of 2 or 3 dimensions for example, we can use the eigenmaps decomposition in order to visualize the data."
   ]
  },
  {
   "cell_type": "markdown",
   "metadata": {},
   "source": [
    "### Question 8\n",
    "\n",
    "Embed your graph in $d=2$ dimensions with Laplacian eigenmaps.\n",
    "Try with and without re-normalizing the eigenvectors by the degrees, then keep the one your prefer.\n",
    "\n",
    "**Recompute** the eigenvectors you need with a partial eigendecomposition method for sparse matrices.\n",
    "When $k \\ll N$ eigenvectors are needed, partial eigendecompositions are much more efficient than complete eigendecompositions.\n",
    "A partial eigendecomposition scales as $\\Omega(k |\\mathcal{E}|$), while a complete eigendecomposition costs $\\mathcal{O}(N^3)$ operations."
   ]
  },
  {
   "cell_type": "markdown",
   "metadata": {},
   "source": [
    "We've seen earlier that our graph has 343 connected components. However most of these connected components are nodes that are not connected to any other node. We have only 2 components that have more than 1 node. And from those two, one of them nearly englobes all the nodes (9276 out of a total of 9628). Therefore this giant component will be the only one we will be considering for the Laplacian Eigenmaps embedding:"
   ]
  },
  {
   "cell_type": "code",
   "execution_count": 9,
   "metadata": {},
   "outputs": [],
   "source": [
    "# First, we will build the normalized laplacian of the giant component. \n",
    "# We will also build the combinatorial laplacian for comparasion.\n",
    "\n",
    "import src.find_components as fcomp\n",
    "# We need to have a connected graph.\n",
    "# As our network is not connected, we use the adjacency matrix of the largest connected component instead\n",
    "\n",
    "# The first element of the connectedIndices matrix is a vector of length equal to n_nodes\n",
    "# The value of its elements is 1 if the element is in the largest connected componenent and 0 if it is not\n",
    "connectedIndices = fcomp.find_components(adjacency)\n",
    "biggestComponentSize = np.amax(np.sum(connectedIndices, axis=1))\n",
    "\n",
    "# get the adjacency matrix of the largest connected component of our network\n",
    "indx=np.array(range(n_nodes),dtype=int)\n",
    "indx=connectedIndices[0].astype(int)*indx\n",
    "indx_without_zeros=np.unique(indx)\n",
    "Biggest_component=adjacency[indx_without_zeros,:][:,indx_without_zeros]\n",
    "\n",
    "degree = np.diag(np.sum(Biggest_component, axis=0))\n",
    "invroot_degree = np.diag(np.power(np.sum(Biggest_component, axis=0),-0.5))\n",
    "\n",
    "laplacian_biggest_component = degree - Biggest_component #combinatorial laplacian\n",
    "\n",
    "# Matrix mupltiplication as A*B seems to lose precision and rounds very small numbers to zero, giving a false normalized\n",
    "# Laplacian. Therefore we use np.matmul and store the intermidiate result in vairable A:\n",
    "\n",
    "A = np.matmul(invroot_degree,laplacian_biggest_component)\n",
    "laplacian_normalized_biggest_component = np.matmul(A,invroot_degree) #normalized laplacian\n"
   ]
  },
  {
   "cell_type": "code",
   "execution_count": 10,
   "metadata": {},
   "outputs": [],
   "source": [
    "# For an unknown reason, sparse.linalg.eigs takes more time than the np.linalg.eig, therefore we will use the latter and take\n",
    "# the first two vectors associated to the first 2 non-zero eigenvalues => the 2nd and the 3rd eigenvectors in vecs.Note th\n",
    "# Note that eigh already sorts the eigenvalues (and the associaated eigenvectors) from smallest to largest.\n",
    "vals, vecs = np.linalg.eigh(laplacian_biggest_component)"
   ]
  },
  {
   "cell_type": "code",
   "execution_count": null,
   "metadata": {},
   "outputs": [],
   "source": [
    "# Doing the same as above for the normalized laplacien\n",
    "valsn, vecsn = np.linalg.eigh(laplacian_normalized_biggest_component)"
   ]
  },
  {
   "cell_type": "markdown",
   "metadata": {},
   "source": [
    "Plot the nodes embedded in 2D. Comment on what you see."
   ]
  },
  {
   "cell_type": "code",
   "execution_count": null,
   "metadata": {},
   "outputs": [],
   "source": [
    "#normalized laplacian 2d eigenmaps\n",
    "plt.figure(figsize=(15, 5))\n",
    "plt.subplot(121)\n",
    "plt.scatter(vecsn[:,1],vecsn[:,2],s=5,alpha=0.6)\n",
    "plt.title('Not normalized by the degrees')\n",
    "\n",
    "plt.subplot(122)\n",
    "plt.scatter(np.divide(vecsn[:,1],np.diag(degree)),np.divide(vecsn[:,2],np.diag(degree)),s=5,alpha=0.6)\n",
    "plt.title('Normalized by the degrees') "
   ]
  },
  {
   "cell_type": "code",
   "execution_count": null,
   "metadata": {},
   "outputs": [],
   "source": [
    "# We observe that we have a big cluster of points near 0. It's quite difficult to see what happens in that region \n",
    "# so let's zoom-in:\n",
    "plt.figure(figsize=(15, 5))\n",
    "plt.subplot(121)\n",
    "plt.scatter(vecsn[:,1],vecsn[:,2],s=5,alpha=0.6)\n",
    "plt.title('Zoom, Not normalized by the degrees')\n",
    "plt.axis([-0.0002, 0.0008, -0.0008, 0.0008])\n",
    "\n",
    "plt.subplot(122)\n",
    "plt.scatter(np.divide(vecsn[:,1],np.diag(degree)),np.divide(vecsn[:,2],np.diag(degree)),s=5,alpha=0.6)\n",
    "plt.title('Zoom, Normalized by the degrees') \n",
    "plt.axis([-0.0001, 0.0001, -0.0001, 0.0001])"
   ]
  },
  {
   "cell_type": "markdown",
   "metadata": {},
   "source": [
    "We observe that the scale of the normalized graph is reduced and all of our points are very close together near zero. As the laplacian eigenmaps preserve the locality, this means that our nodes are also very close together in the high dimention state state, suggesting a very connected graph."
   ]
  },
  {
   "cell_type": "markdown",
   "metadata": {},
   "source": [
    "Out of curiosity, we wanted to see what the combinatorial laplacian eigenmaps would look like:"
   ]
  },
  {
   "cell_type": "code",
   "execution_count": null,
   "metadata": {},
   "outputs": [],
   "source": [
    "#combinatorial laplacian 2d eigenmaps\n",
    "plt.figure(figsize=(15, 10))\n",
    "plt.subplot(221)\n",
    "plt.scatter(vecs[:,1],vecs[:,2],s=5,alpha=0.6)\n",
    "plt.gca().invert_xaxis()\n",
    "plt.title('Not normalized by the degrees')\n",
    "\n",
    "plt.subplot(222)\n",
    "plt.scatter(np.divide(vecs[:,1],np.diag(degree)),np.divide(vecs[:,2],np.diag(degree)),s=5,alpha=0.6)\n",
    "plt.gca().invert_xaxis()\n",
    "plt.title('Normalized by the degrees') \n",
    "\n",
    "plt.subplot(223)\n",
    "plt.scatter(vecs[:,1],vecs[:,2],s=5,alpha=0.6)\n",
    "plt.title('Zoom, Not normalized by the degrees')\n",
    "plt.axis([-0.0002, 0.0008, -0.0008, 0.0008])\n",
    "\n",
    "plt.subplot(224)\n",
    "plt.scatter(np.divide(vecs[:,1],np.diag(degree)),np.divide(vecs[:,2],np.diag(degree)),s=5,alpha=0.6)\n",
    "plt.title('Zoom, Normalized by the degrees') \n",
    "plt.axis([-0.0001, 0.0001, -0.0001, 0.0001])\n"
   ]
  },
  {
   "cell_type": "markdown",
   "metadata": {},
   "source": [
    "### Question 9"
   ]
  },
  {
   "cell_type": "markdown",
   "metadata": {},
   "source": [
    "What does the embedding $Z \\in \\mathbb{R}^{N \\times d}$ preserve?"
   ]
  },
  {
   "cell_type": "markdown",
   "metadata": {},
   "source": [
    "The Laplacian Eigenmaps embedding, preserves the locality of the data, i.e. the relative local distances of the data points. This means that data points that are close to one another in the high dementional (N) space, would also be close to eachother in the low dimentional (d) embedded space."
   ]
  },
  {
   "cell_type": "markdown",
   "metadata": {},
   "source": [
    "## 2 Spectral clustering\n",
    "\n",
    "*Spectral clustering* is a method to partition a graph into distinct clusters.\n",
    "The method associates a feature vector $z_i \\in \\mathbb{R}^d$ to every node $v_i \\in \\mathcal{V}$, then runs [$k$-means](https://en.wikipedia.org/wiki/K-means_clustering) in the embedding space $\\mathbb{R}^d$ to assign each node $v_i \\in \\mathcal{V}$ to a cluster $c_j \\in \\mathcal{C}$, where $k = |\\mathcal{C}|$ is the number of desired clusters."
   ]
  },
  {
   "cell_type": "markdown",
   "metadata": {},
   "source": [
    "### Question 10\n",
    "\n",
    "Choose $k$ and $d$. How did you get to those numbers?"
   ]
  },
  {
   "cell_type": "markdown",
   "metadata": {},
   "source": [
    "We chose to cluster the nodes (the actors) by using their ratings in each genre of film to which they participated. To do so, we first computed the mean of the ratings for each genre and for each actor. For example, the table could you look like the following :\n",
    "\n",
    "| Actor | Action genre | Science fiction genre | Fantasy genre | ... |\n",
    "|---|---|---|---|---|\n",
    "| Arnold Schwarzenegger | 6.7 | 8.2 | 0 | ... |\n",
    "| Ryan Reynold | 4 | 0 | 7.5 | ... |\n",
    "\n",
    "\n",
    "It would enable us to see if actors playing in the same kind of film are more interconnected.\n",
    "\n",
    "This dataset contains 18 different movie genres, thus $k = 18$. As we have the average rating of each genre for each node, our dataset will be clustered in a space of the same number of dimensions, so $d = k = 18$"
   ]
  },
  {
   "cell_type": "markdown",
   "metadata": {},
   "source": [
    "### Question 11\n",
    "\n",
    "1. Embed your graph in $\\mathbb{R}^d$ as $Z \\in \\mathbb{R}^{N \\times d}$.\n",
    "   Try with and without re-normalizing the eigenvectors by the degrees, then keep the one your prefer.\n",
    "1. If you want $k=2$ clusters, partition with the Fiedler vector. For $k > 2$ clusters, run $k$-means on $Z$. Don't implement $k$-means, use the `KMeans` class imported from scikit-learn."
   ]
  },
  {
   "cell_type": "markdown",
   "metadata": {},
   "source": [
    "### 2 types of clustering\n",
    "We clustered using the 18 first eigenvectors, but also using the 18 feature vectors (the average rating for each movie type). We did this to observe if a method was better than the other."
   ]
  },
  {
   "cell_type": "code",
   "execution_count": null,
   "metadata": {},
   "outputs": [],
   "source": [
    "import pandas as pd\n",
    "\n",
    "k_clusters = 18\n",
    "\n",
    "# K-Means using the features associated to each actor\n",
    "\n",
    "people = pd.read_csv('data/features_v3.csv')\n",
    "\n",
    "people.fillna(0)\n",
    "\n",
    "genre_ratings = people.iloc[indx_without_zeros,5:23]\n",
    "\n",
    "trueLabels = people.iloc[indx_without_zeros,4]\n",
    "\n",
    "genre_ratings.fillna(0, inplace=True)\n",
    "\n",
    "kmeans = KMeans(n_clusters=k_clusters, random_state=0).fit(genre_ratings.values)\n",
    "\n",
    "predictedLabels = kmeans.labels_"
   ]
  },
  {
   "cell_type": "code",
   "execution_count": null,
   "metadata": {},
   "outputs": [],
   "source": [
    "# K-Means based on the eigenvactors of the laplacian\n",
    "\n",
    "# We take the first 18 eigenvectors\n",
    "selected_eigenvectors=vecs[0:k_clusters].T\n",
    "selected_eigenvectors.shape #this is R 9276x18\n",
    "\n",
    "kmeans2 = KMeans(n_clusters=k_clusters, random_state=0).fit(selected_eigenvectors)\n",
    "predictedLabels2 = kmeans2.labels_"
   ]
  },
  {
   "cell_type": "markdown",
   "metadata": {},
   "source": [
    "### Question 12\n",
    "\n",
    "Use the computed cluster assignment to reorder the adjacency matrix $A$.\n",
    "What do you expect? What do you observe?"
   ]
  },
  {
   "cell_type": "code",
   "execution_count": null,
   "metadata": {},
   "outputs": [],
   "source": [
    "def reorderMatrix(adjacency, predictedLabels):\n",
    "\n",
    "    s = adjacency.shape[0]\n",
    "\n",
    "    tmp_adjacency = np.zeros((s,s))\n",
    "    ordered_adjacency = np.zeros((s,s))\n",
    "    \n",
    "    k_clusters = np.unique(predictedLabels).shape[0]\n",
    "\n",
    "    a = 0\n",
    "    for k in range(0,k_clusters):\n",
    "        indexes = np.argwhere(predictedLabels==k)\n",
    "        for i in np.nditer(indexes):\n",
    "            tmp_adjacency[a,:] = adjacency[i,:]\n",
    "            a = a+1\n",
    "        \n",
    "    a = 0\n",
    "    for k in range(0,k_clusters):\n",
    "        indexes = np.argwhere(predictedLabels==k)\n",
    "        for i in np.nditer(indexes):\n",
    "            ordered_adjacency[:,a] = tmp_adjacency[:,i]\n",
    "            a = a+1\n",
    "    return ordered_adjacency;"
   ]
  },
  {
   "cell_type": "code",
   "execution_count": null,
   "metadata": {},
   "outputs": [],
   "source": [
    "plt.figure(figsize=(15, 20))\n",
    "plt.subplot(311)\n",
    "plt.spy(reorderMatrix(Biggest_component, predictedLabels), markersize=0.1)\n",
    "plt.title('Reordered adjacency matrix prior to ratings')\n",
    "plt.subplot(312)\n",
    "plt.spy(reorderMatrix(Biggest_component, predictedLabels2), markersize=0.1)\n",
    "plt.title('Reordered adjacency matrix prior to eigenvectors')\n",
    "plt.subplot(313)\n",
    "plt.spy(Biggest_component, markersize=0.1)\n",
    "plt.title('Original Adjacency matrix')\n"
   ]
  },
  {
   "cell_type": "markdown",
   "metadata": {},
   "source": [
    "We were expecting to see a pattern in the adjacency matrix. \n",
    "\n",
    "This is indeed what we can observe on the reordered matrix prior to ratings. We can see some squares around the diagonal of the adjacency matrix, which means that actors in the same cluster are very connected, and have less conexion with other clusters. \n",
    "We can also see that one cluster has connection with almost everyother clusters (this can be seen with the vertical and horizontal bars around node 8000). This means that this cluster is composed of nodes that are very connected (hubs).\n",
    "\n",
    "For the rearranged matrix in prior to eigenvectors, we see almost no changes. This is because k-means clustered almost every node into the first cluster."
   ]
  },
  {
   "cell_type": "markdown",
   "metadata": {},
   "source": [
    "### Question 13\n",
    "\n",
    "If you have ground truth clusters for your dataset, compare the cluster assignment from spectral clustering to the ground truth.\n",
    "A simple quantitative measure is to compute the percentage of nodes that have been correctly categorized.\n",
    "If you don't have a ground truth, qualitatively assess the quality of the clustering.\n",
    "\n",
    "Ground truth clusters are the \"real clusters\".\n",
    "For example, the genre of musical tracks in FMA, the category of Wikipedia articles, the spammer status of individuals, etc.\n",
    "Look for the `labels` in the [dataset descriptions](https://github.com/mdeff/ntds_2018/tree/master/projects/README.md)."
   ]
  },
  {
   "cell_type": "markdown",
   "metadata": {},
   "source": [
    "\n",
    "#### Ground Truth labels in our dataset\n",
    "As written in the dataset description, the labels should be the movie genre. The problem is that we do not have ground truth clusters for actors. The dataset contains a genre label for each movie, however as the actors played in different movies, they technically have multiple labels.\n",
    "\n",
    "So we decided that the genre label of each actor would be determined by the movie genre in which the actor acted the most.\n",
    "#### *Example*\n",
    "Arnold Schwarzenegger played in 76 action movies, 35 science fiction movies and 26 other genre of movies. Therefore, his label will be **action genre**.\n",
    "\n",
    "#### Assigning the correct genre to the new clusters\n",
    "Once we cluster with k-means, we obtain k clusters, but do not know what genre they represent. To do that, we count the number of actors in each cluster, and see what true labels are the most present. We then assign this label to the cluster.\n",
    "\n",
    "#### *Example*\n",
    "The first cluster contains 20 actors considered as action actors, 50 considered as Horror actors and 30 actors of other genres. Therefore the label assigned to this cluster will be **Horror**\n"
   ]
  },
  {
   "cell_type": "code",
   "execution_count": null,
   "metadata": {},
   "outputs": [],
   "source": [
    "def computeFractionCorrectlyClassified(trueLabels, predictedLabels):\n",
    "    labels = pd.DataFrame({'true_labels' : trueLabels, 'idx_true_labels': 0, 'predicted_labels' : predictedLabels})\n",
    "\n",
    "    maxLabel = int(np.max(labels['true_labels']))\n",
    "\n",
    "    for i in range(0,maxLabel):\n",
    "        A = labels.query(f'true_labels == {i}')\n",
    "        B = A['predicted_labels'].value_counts()\n",
    "    \n",
    "        if B.empty == False:\n",
    "            predictedLabelOfGenre = B.idxmax()\n",
    "            for node in labels.iterrows():\n",
    "                if node[1]['true_labels'] == i:\n",
    "                    labels.loc[node[0],'idx_true_labels'] = predictedLabelOfGenre\n",
    "                \n",
    "    correctlyClassified = labels.query('idx_true_labels == predicted_labels').shape\n",
    "\n",
    "    fractionCorrectlyClassified = 100*correctlyClassified[0]/labels.shape[0]\n",
    "    \n",
    "    return fractionCorrectlyClassified;"
   ]
  },
  {
   "cell_type": "code",
   "execution_count": null,
   "metadata": {},
   "outputs": [],
   "source": [
    "fcorrFeat = computeFractionCorrectlyClassified(trueLabels, predictedLabels)\n",
    "fcorrEig =computeFractionCorrectlyClassified(trueLabels, predictedLabels2)\n",
    "\n",
    "print(f'The number of well classified nodes by using the features (ratings) is {fcorrFeat}% and the number of well classified nodes by using the eigenvectors is {fcorrEig}%.')"
   ]
  },
  {
   "cell_type": "markdown",
   "metadata": {},
   "source": [
    "#### Conclusion\n",
    "\n",
    "The clustering seems to assign a genre to each actor that does not correspond to the kind of film in which he played the most.\n",
    "\n",
    "If we cluster using the 18 first eigenvectors, we obtain 1 very large cluster that contains almost every nodes, and 17 smaller clusters. This might be because our initial graph is very connected, and that actors of different movie genres are still connected between each other. Thus k-means is not able to cluster actors with respect to their labeled genre.\n",
    "\n",
    "On the other hand, if we cluster using the features associated to each actors (their ratings by genre), we get 18 cluster of very similar size. Once again, this doesn't represent correctly the truth labels.\n"
   ]
  },
  {
   "cell_type": "markdown",
   "metadata": {},
   "source": [
    "### Question 14\n",
    "\n",
    "Plot the cluster assignment (one color per cluster) on the 2D embedding you computed above with Laplacian eigenmaps."
   ]
  },
  {
   "cell_type": "code",
   "execution_count": null,
   "metadata": {},
   "outputs": [],
   "source": [
    "import matplotlib as mpl\n",
    "from matplotlib import cm\n",
    "\n",
    "viridis = cm.get_cmap('viridis', 12)\n",
    "\n",
    "plt.figure(figsize=(10, 30))\n",
    "\n",
    "plt.subplot(311)\n",
    "plt.scatter(vecs[:,1],vecs[:,2],s=5, c=predictedLabels, cmap=viridis)\n",
    "plt.gca().invert_yaxis()\n",
    "plt.title('Cluster assignment by the features')\n",
    "\n",
    "dataPoints = vecs\n",
    "\n",
    "dataPoints[dataPoints>0.01]=0\n",
    "dataPoints[dataPoints<-0.01]=0\n",
    "\n",
    "plt.subplot(312)\n",
    "plt.scatter(dataPoints[:,1],dataPoints[:,2],s=1, c=predictedLabels, cmap=viridis)\n",
    "plt.gca().invert_yaxis()\n",
    "plt.title('Cluster assignment zoom, features')\n",
    "\n",
    "plt.subplot(313)\n",
    "plt.scatter(dataPoints[:,1],dataPoints[:,2],s=1, c=predictedLabels2, cmap=viridis)\n",
    "plt.gca().invert_yaxis()\n",
    "plt.title('Cluster assignment zoom, eigenvectors')"
   ]
  },
  {
   "cell_type": "markdown",
   "metadata": {},
   "source": [
    "### Question 15\n",
    "\n",
    "Why did we use the eigenvectors of the graph Laplacian as features? Could we use other features for clustering?"
   ]
  },
  {
   "cell_type": "markdown",
   "metadata": {},
   "source": [
    "Because the eigenvectors are orthonormal and embed information about the graph structure (how connected the graph is for example). Using them as features allow us to cluster in a lower-dimensional space that keeps the locality of the data in the original space.\n",
    "\n",
    "We tried using other features (the ratings of the actor for each genre), but it didn't give satisfying results. Of course, we could try using another set of features, but we think that the main issue is that the dataset doesn't have actual ground truth labels for the actors. The way we assigned ground truth labels to actors might not be the most optimal. Especially since most actors played in large variety of movie genres, thus assigning them 1 genre only might be biased."
   ]
  },
  {
   "cell_type": "code",
   "execution_count": null,
   "metadata": {},
   "outputs": [],
   "source": []
  }
 ],
 "metadata": {
  "kernelspec": {
   "display_name": "Python 3",
   "language": "python",
   "name": "python3"
  },
  "language_info": {
   "codemirror_mode": {
    "name": "ipython",
    "version": 3
   },
   "file_extension": ".py",
   "mimetype": "text/x-python",
   "name": "python",
   "nbconvert_exporter": "python",
   "pygments_lexer": "ipython3",
   "version": "3.6.6"
  }
 },
 "nbformat": 4,
 "nbformat_minor": 2
}

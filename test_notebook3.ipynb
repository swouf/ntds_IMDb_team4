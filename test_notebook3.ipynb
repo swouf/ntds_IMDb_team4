{
 "cells": [
  {
   "cell_type": "markdown",
   "metadata": {},
   "source": [
    "# Test notebook 3"
   ]
  },
  {
   "cell_type": "markdown",
   "metadata": {},
   "source": [
    "## Graphe par genre\n",
    "\n",
    "J'essaie de créer un graph par genre. Pour le moment j'ai une fonction qui prends le tableau `movies` et qui crée une adjacency matrix avec.\n",
    "Ce graphe pourrait être utile pour étudier une distribution des genres ou pour mapper les nodes selon les genres.\n",
    "Pour obtenir l'adjacency : `adjacency = genre_graph.make_genre_adjacency(movies)`"
   ]
  },
  {
   "cell_type": "code",
   "execution_count": null,
   "metadata": {},
   "outputs": [],
   "source": [
    "%matplotlib inline\n",
    "\n",
    "import numpy as np\n",
    "import pandas as pd\n",
    "from scipy import sparse\n",
    "import scipy.sparse.linalg\n",
    "from matplotlib import pyplot as plt\n",
    "from pyunlocbox import functions, solvers\n",
    "import pygsp as pg\n",
    "import networkx as nx\n",
    "import logging\n",
    "import json\n",
    "import sys\n",
    "import sklearn.manifold \n",
    "\n",
    "logging.basicConfig(format='%(asctime)s | %(levelname)s : %(message)s',\n",
    "                     level=logging.INFO, stream=sys.stdout)\n",
    "\n",
    "import src.load_data as ldata\n",
    "import src.genre_graph as genre_graph\n",
    "import src.test_success as tsuccess"
   ]
  },
  {
   "cell_type": "code",
   "execution_count": null,
   "metadata": {},
   "outputs": [],
   "source": [
    "(movies,people) = ldata.load_dataframes();"
   ]
  },
  {
   "cell_type": "code",
   "execution_count": null,
   "metadata": {},
   "outputs": [],
   "source": [
    "list_genres=movies[['genres_names','genres']].copy()\n",
    "list_genres=list_genres.drop_duplicates()\n",
    "list_genres=list_genres.set_index('genres') \n",
    "list_genres"
   ]
  },
  {
   "cell_type": "code",
   "execution_count": null,
   "metadata": {},
   "outputs": [],
   "source": [
    "moviesFiltered = ldata.filter_movies_by_years(movies, pd.to_datetime(f'1960-01-01').date(), pd.to_datetime(f'2020-01-01').date())\n",
    "\n"
   ]
  },
  {
   "cell_type": "code",
   "execution_count": null,
   "metadata": {},
   "outputs": [],
   "source": [
    "adjacency = genre_graph.make_genre_adjacency(moviesFiltered)"
   ]
  },
  {
   "cell_type": "code",
   "execution_count": null,
   "metadata": {},
   "outputs": [],
   "source": [
    "plt.figure(figsize=(12, 12))\n",
    "plt.spy(adjacency)\n",
    "plt.title('adjacency matrix')"
   ]
  },
  {
   "cell_type": "code",
   "execution_count": null,
   "metadata": {},
   "outputs": [],
   "source": [
    "#G_test = nx.from_numpy_matrix(adjacency)\n",
    "#nx.number_connected_components(G_test)\n",
    "#Gc_test = max(nx.connected_component_subgraphs(G_test), key=len)\n",
    "#coords_test = nx.spring_layout(G_test,k=0.03)"
   ]
  },
  {
   "cell_type": "code",
   "execution_count": null,
   "metadata": {},
   "outputs": [],
   "source": [
    "#labels = moviesFiltered['genres'].iloc[np.sort(nx.nodes(G_test))]\n",
    "\n",
    "#plt.figure(figsize=(15, 15))\n",
    "\n",
    "#im=nx.draw_networkx_nodes(G_test, coords_test, node_size=50,node_color=labels, cmap='tab20')\n",
    "\n",
    "#labels2 = moviesFiltered['budget'].iloc[np.sort(nx.nodes(G_test))]\n",
    "#im=nx.draw_networkx_nodes(G_test, coords_test,node_size=50, node_color=labels2)\n",
    "\n",
    "#nx.draw_networkx_edges(G_test, coords_test, alpha=0.5, width=1)\n",
    "#plt.title('Graph of genres')\n",
    "#plt.colorbar(im);"
   ]
  },
  {
   "cell_type": "markdown",
   "metadata": {},
   "source": [
    "## Étude du ROI\n",
    "\n",
    "Ici j'ai fait un petit histogramme du ROI moyen par genre. C'est intéressant et surprenant de voir que les genre qui rapportent le plus sont l'*horreur* et les *documentaires*."
   ]
  },
  {
   "cell_type": "code",
   "execution_count": null,
   "metadata": {},
   "outputs": [],
   "source": [
    "perGenreROI = genre_graph.compute_ROI_genre(moviesFiltered)"
   ]
  },
  {
   "cell_type": "markdown",
   "metadata": {},
   "source": [
    "## Visualisation du ROI par genre par décade"
   ]
  },
  {
   "cell_type": "code",
   "execution_count": null,
   "metadata": {},
   "outputs": [],
   "source": [
    "plt.figure(figsize = (25,8))\n",
    "plt.bar(x=perGenreROI.index,height=perGenreROI.loc[:,'ROI_fraction'],tick_label=perGenreROI.loc[:,'genres_names'])\n",
    "plt.title('Distribution of ROI per genre',fontsize=20)\n",
    "plt.savefig('distribution_roi_per_genre.eps', format='eps', dpi=1000)\n",
    "plt.show()"
   ]
  },
  {
   "cell_type": "code",
   "execution_count": null,
   "metadata": {},
   "outputs": [],
   "source": [
    "#for startYear in range(1960, 2010):\n",
    "#    endYear = startYear + 10\n",
    "#    moviesFiltered = ldata.filter_movies_window_years(movies, startYear, endYear)\n",
    "#    adjacency = genre_graph.make_genre_adjacency(moviesFiltered)\n",
    "#    perGenreROI = genre_graph.compute_ROI_genre(moviesFiltered)\n",
    "#    plt.figure(figsize = (25,8))\n",
    "#    plt.bar(x=perGenreROI.index,height=perGenreROI.loc[:,'ROI_fraction'],tick_label=perGenreROI.loc[:,'genres_names'])\n",
    "#    axes = plt.gca()\n",
    "#    axes.set_ylim([0,300])\n",
    "#    plt.title(f'Distribution of ROI per genre between {startYear} and {endYear}',fontsize=20)\n",
    "#    plt.savefig(f'./roi_per_genre/roi_per_genre_{startYear}_{endYear}.png', format='png', dpi=200)"
   ]
  },
  {
   "cell_type": "code",
   "execution_count": null,
   "metadata": {},
   "outputs": [],
   "source": [
    "(adjacencyBudget,movies_filtered_by_budget) = ldata.make_budget_based_adjacency(moviesFiltered)\n",
    "\n",
    "movies2 = movies_filtered_by_budget.copy()\n",
    "movies2['original_language'] = pd.factorize(movies2['original_language'])[0]\n",
    "data_kmeans = movies2.loc[:,('original_language','vote_average','vote_count')]\n",
    "#data_kmeans = movies2.loc[:,('genres','ROI')]\n",
    "predictedLabels = tsuccess.compute_kmeans(data_kmeans.values, 2)"
   ]
  },
  {
   "cell_type": "code",
   "execution_count": null,
   "metadata": {},
   "outputs": [],
   "source": [
    "newAdjacency = tsuccess.reorder_adjacency(adjacencyBudget, predictedLabels)\n",
    "#newAdjacency = adjacencyBudget\n",
    "plt.figure(figsize=(12, 12))\n",
    "plt.spy(newAdjacency)\n",
    "plt.title('Reordered with Kmeans adjacency matrix of the movies connected by their budgets. The genre and the ROI where used to perform the clustering', fontsize=12)"
   ]
  },
  {
   "cell_type": "markdown",
   "metadata": {},
   "source": [
    "## Test d'embedding du actor graph sur les coordonnées du budget.\n",
    "\n",
    "1. Make actor graph\n",
    "1. Make budget graph\n",
    "1. Compute coordinates for budget graph\n",
    "1. Plot graph"
   ]
  },
  {
   "cell_type": "code",
   "execution_count": null,
   "metadata": {},
   "outputs": [],
   "source": [
    "(adjacencyBudget,movies_filtered_by_budget) = ldata.make_budget_based_adjacency(moviesFiltered)"
   ]
  },
  {
   "cell_type": "code",
   "execution_count": null,
   "metadata": {},
   "outputs": [],
   "source": [
    "features_actors=ldata.create_features(movies_filtered_by_budget,people);"
   ]
  },
  {
   "cell_type": "code",
   "execution_count": null,
   "metadata": {},
   "outputs": [],
   "source": [
    "features_movies=ldata.load_features();\n",
    "adjacencyActorsCrew=ldata.make_adjacency_from_feature_matrix(features_movies)"
   ]
  },
  {
   "cell_type": "code",
   "execution_count": null,
   "metadata": {},
   "outputs": [],
   "source": [
    "#adjacencyActorsCrew = np.load('./data/adjacency_actors_crew.npy');"
   ]
  },
  {
   "cell_type": "code",
   "execution_count": null,
   "metadata": {},
   "outputs": [],
   "source": []
  },
  {
   "cell_type": "code",
   "execution_count": null,
   "metadata": {},
   "outputs": [],
   "source": [
    "graphActorsCrew = nx.from_numpy_matrix(adjacencyActorsCrew)\n",
    "graphBudget = nx.from_numpy_matrix(adjacencyBudget)\n",
    "\n",
    "nodesGc = max(nx.connected_components(graphBudget), key=len)\n",
    "\n",
    "graphBudget = nx.subgraph(graphBudget, nodesGc)\n",
    "graphActorsCrew = nx.subgraph(graphActorsCrew, nodesGc)\n",
    "\n",
    "coordsBudget = nx.spring_layout(graphBudget,k=0.03)\n",
    "\n",
    "plt.figure(figsize=(20, 20))\n",
    "labels = movies_filtered_by_budget['revenue'].iloc[np.sort(nx.nodes(graphActorsCrew))]\n",
    "im=nx.draw_networkx_nodes(graphActorsCrew, coordsBudget, node_size=10, node_color=labels, cmap='PiYG')\n",
    "nx.draw_networkx_edges(graphActorsCrew, coordsBudget, alpha=0.1, width=0.7)\n",
    "plt.title('Movies linked by the actors and crew plotted on a manifold given by the budgets')\n",
    "plt.colorbar(im);\n",
    "plt.savefig('./pictures/graph_movies_plot_on_budget.png', dpi=300)"
   ]
  },
  {
   "cell_type": "code",
   "execution_count": null,
   "metadata": {},
   "outputs": [],
   "source": [
    "adjacency= nx.adjacency_matrix(graphBudget)\n",
    "\n",
    "# We calculate the number of nodes and edges\n",
    "n_nodes=adjacency.shape[0]\n",
    "#n_edges = int(np.count_nonzero(adjacency)/2)\n",
    "\n",
    "# We calculate the laplacian\n",
    "degree = np.diag(adjacency.sum(axis=0))\n",
    "laplacian = degree - adjacency #combinatorial laplacian\n",
    "e, U = np.linalg.eigh(laplacian)\n",
    "\n",
    "coordslap = U[:, 1:3] # Laplacian Eigenmaps coords\n",
    "\n",
    "coordsNxLap = {}\n",
    "k = 0\n",
    "for cc in coordsBudget:\n",
    "    coordsNxLap[cc] = (coordslap.getA())[k]\n",
    "    k = k+1\n",
    "\n",
    "im=nx.draw_networkx_nodes(graphActorsCrew, coordsNxLap, node_size=10, node_color=labels, cmap='PiYG')\n",
    "nx.draw_networkx_edges(graphActorsCrew, coordsNxLap, alpha=0.1, width=0.7)\n",
    "plt.title('Movies linked by the actors and crew plotted on a manifold given by the budgets')\n",
    "plt.colorbar(im);"
   ]
  },
  {
   "cell_type": "code",
   "execution_count": null,
   "metadata": {},
   "outputs": [],
   "source": [
    "(coordslap.getA())[0]"
   ]
  },
  {
   "cell_type": "code",
   "execution_count": null,
   "metadata": {},
   "outputs": [],
   "source": [
    "#G = pg.graphs.Graph(adjacency)\n",
    "#coordslap = pg.reduction_laplacian_eigenmaps(G, 2);"
   ]
  },
  {
   "cell_type": "code",
   "execution_count": null,
   "metadata": {},
   "outputs": [],
   "source": [
    "coordsBudgetGSP = np.zeros((len(coordsBudget),2))\n",
    "print(coordsBudgetGSP.shape)\n",
    "print(len(coordsBudget))\n",
    "j = 0\n",
    "for i in coordsBudget:\n",
    "    coordsBudgetGSP[j] = coordsBudget[i]\n",
    "    j = j+1\n",
    "\n",
    "graphActorsCrewGSP = pg.graphs.Graph(nx.adjacency_matrix(graphActorsCrew), coords=coordsBudgetGSP)\n",
    "\n",
    "signal = np.zeros(len(coordsBudget))\n",
    "\n",
    "signal[920] = 1.5\n",
    "label= {920:\"Dirac\"}\n",
    "\n",
    "#plt.figure(figsize=(20, 20))\n",
    "#axes = plt.gca()\n",
    "#pg.plotting.plot_signal(graphActorsCrewGSP, signal, vertex_size=1, ax=axes)\n",
    "\n",
    "sizes = 2*(signal+1)\n",
    "\n",
    "plt.figure(figsize=(25, 25))\n",
    "im=nx.draw_networkx_nodes(graphActorsCrew, coordsBudget, node_size=0.1, node_color=signal, cmap='rainbow', alpha=1)\n",
    "nx.draw_networkx_edges(graphActorsCrew, coordsBudget, alpha=0.1, width=0.1)\n",
    "nx.draw_networkx_labels(graphActorsCrew, coordsBudget, labels=label)\n",
    "plt.title('Movies linked by the actors and crew plotted on a manifold given by the budgets')\n",
    "plt.colorbar(im);\n",
    "plt.savefig('./pictures/graph_movies_plot_on_budget_dirac.png', dpi=300)"
   ]
  },
  {
   "cell_type": "code",
   "execution_count": null,
   "metadata": {},
   "outputs": [],
   "source": [
    "graphActorsCrewGSP.compute_fourier_basis()\n",
    "heat_kernel = pg.filters.Heat(graphActorsCrewGSP, tau=100)\n",
    "filtered_signal = heat_kernel.filter(signal)\n",
    "\n",
    "#plt.figure(figsize=(30, 30))\n",
    "#axes = plt.gca()\n",
    "#pg.plotting.plot_signal(graphActorsCrewGSP, filtered_signal, save_as='./pictures/movies_dirac_on_actor.png', vertex_size=1, ax=axes)\n",
    "\n",
    "plt.figure(figsize=(25, 25))\n",
    "im=nx.draw_networkx_nodes(graphActorsCrew, coordsBudget, node_size=0.1, node_color=filtered_signal, cmap='rainbow', alpha=1)\n",
    "nx.draw_networkx_edges(graphActorsCrew, coordsBudget, alpha=0.1, width=0.1)\n",
    "plt.title('Movies linked by the actors and crew plotted on a manifold given by the budgets')\n",
    "plt.colorbar(im);\n",
    "plt.savefig('./pictures/graph_movies_plot_on_budget_heat_diffused_dirac.png', dpi=300)\n"
   ]
  },
  {
   "cell_type": "code",
   "execution_count": null,
   "metadata": {},
   "outputs": [],
   "source": []
  },
  {
   "cell_type": "code",
   "execution_count": null,
   "metadata": {},
   "outputs": [],
   "source": [
    "sklearn.manifold.spectral_embedding(adjacencyBudget)"
   ]
  },
  {
   "cell_type": "code",
   "execution_count": null,
   "metadata": {},
   "outputs": [],
   "source": []
  },
  {
   "cell_type": "code",
   "execution_count": null,
   "metadata": {},
   "outputs": [],
   "source": []
  },
  {
   "cell_type": "code",
   "execution_count": null,
   "metadata": {},
   "outputs": [],
   "source": []
  }
 ],
 "metadata": {
  "kernelspec": {
   "display_name": "Python 3",
   "language": "python",
   "name": "python3"
  },
  "language_info": {
   "codemirror_mode": {
    "name": "ipython",
    "version": 3
   },
   "file_extension": ".py",
   "mimetype": "text/x-python",
   "name": "python",
   "nbconvert_exporter": "python",
   "pygments_lexer": "ipython3",
   "version": "3.7.0"
  }
 },
 "nbformat": 4,
 "nbformat_minor": 2
}
